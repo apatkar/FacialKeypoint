{
 "cells": [
  {
   "cell_type": "code",
   "execution_count": 1,
   "metadata": {},
   "outputs": [],
   "source": [
    "# Load libraries\n",
    "import pandas\n",
    "from pandas.tools.plotting import scatter_matrix\n",
    "import matplotlib.pyplot as plt\n",
    "from sklearn import model_selection\n",
    "from sklearn.metrics import classification_report\n",
    "from sklearn.metrics import confusion_matrix\n",
    "from sklearn.metrics import accuracy_score\n",
    "from sklearn.linear_model import LogisticRegression\n",
    "from sklearn.tree import DecisionTreeClassifier\n",
    "from sklearn.neighbors import KNeighborsClassifier\n",
    "from sklearn.discriminant_analysis import LinearDiscriminantAnalysis\n",
    "from sklearn.ensemble import RandomForestClassifier\n",
    "from sklearn.naive_bayes import GaussianNB\n",
    "from sklearn.naive_bayes import MultinomialNB\n",
    "from sklearn.svm import SVC\n",
    "from IPython.display import HTML, display\n",
    "import tabulate\n",
    "import seaborn as sns\n",
    "from sklearn.preprocessing import Normalizer\n",
    "from sklearn.preprocessing import LabelEncoder\n",
    "from sklearn.preprocessing import OneHotEncoder\n",
    "import numpy as np\n",
    "from pandas_ml import ConfusionMatrix\n",
    "from sklearn.metrics import classification_report\n",
    "from sklearn import metrics\n",
    "from sklearn.metrics import (precision_score, recall_score,f1_score, accuracy_score,mean_squared_error,mean_absolute_error)\n",
    "import cv2\n",
    "#from PIL import Image\n",
    "#import scipy.misc"
   ]
  },
  {
   "cell_type": "code",
   "execution_count": 251,
   "metadata": {},
   "outputs": [
    {
     "data": {
      "text/html": [
       "<h3>Dimensions of the Training set: (125973, 42)</h3>"
      ],
      "text/plain": [
       "<IPython.core.display.HTML object>"
      ]
     },
     "metadata": {},
     "output_type": "display_data"
    },
    {
     "data": {
      "text/html": [
       "<h3>Dimensions of the Test set: (22543, 42)</h3>"
      ],
      "text/plain": [
       "<IPython.core.display.HTML object>"
      ]
     },
     "metadata": {},
     "output_type": "display_data"
    },
    {
     "data": {
      "text/html": [
       "<h2>Findout The categorical column & set of categories from Train Dataset:</h2>"
      ],
      "text/plain": [
       "<IPython.core.display.HTML object>"
      ]
     },
     "metadata": {},
     "output_type": "display_data"
    },
    {
     "data": {
      "text/html": [
       "<h4> Dataset Column 'protocol_type' has 3 categories</h4>"
      ],
      "text/plain": [
       "<IPython.core.display.HTML object>"
      ]
     },
     "metadata": {},
     "output_type": "display_data"
    },
    {
     "data": {
      "text/html": [
       "<h4> Dataset Column 'service' has 70 categories</h4>"
      ],
      "text/plain": [
       "<IPython.core.display.HTML object>"
      ]
     },
     "metadata": {},
     "output_type": "display_data"
    },
    {
     "data": {
      "text/html": [
       "<h4> Dataset Column 'flag' has 11 categories</h4>"
      ],
      "text/plain": [
       "<IPython.core.display.HTML object>"
      ]
     },
     "metadata": {},
     "output_type": "display_data"
    },
    {
     "data": {
      "text/html": [
       "<h4> Dataset Column 'labels' has 23 categories</h4>"
      ],
      "text/plain": [
       "<IPython.core.display.HTML object>"
      ]
     },
     "metadata": {},
     "output_type": "display_data"
    },
    {
     "data": {
      "text/html": [
       "<h2>Findout The categorical column & set of categories from Test Dataset:</h2>"
      ],
      "text/plain": [
       "<IPython.core.display.HTML object>"
      ]
     },
     "metadata": {},
     "output_type": "display_data"
    },
    {
     "data": {
      "text/html": [
       "<h4> Dataset Column 'protocol_type' has 3 categories</h4>"
      ],
      "text/plain": [
       "<IPython.core.display.HTML object>"
      ]
     },
     "metadata": {},
     "output_type": "display_data"
    },
    {
     "data": {
      "text/html": [
       "<h4> Dataset Column 'service' has 63 categories</h4>"
      ],
      "text/plain": [
       "<IPython.core.display.HTML object>"
      ]
     },
     "metadata": {},
     "output_type": "display_data"
    },
    {
     "data": {
      "text/html": [
       "<h4> Dataset Column 'flag' has 11 categories</h4>"
      ],
      "text/plain": [
       "<IPython.core.display.HTML object>"
      ]
     },
     "metadata": {},
     "output_type": "display_data"
    },
    {
     "data": {
      "text/html": [
       "<h4> Dataset Column 'labels' has 38 categories</h4>"
      ],
      "text/plain": [
       "<IPython.core.display.HTML object>"
      ]
     },
     "metadata": {},
     "output_type": "display_data"
    },
    {
     "data": {
      "text/html": [
       "<h2>Service Column has following Distribution of categories:</h2>"
      ],
      "text/plain": [
       "<IPython.core.display.HTML object>"
      ]
     },
     "metadata": {},
     "output_type": "display_data"
    },
    {
     "data": {
      "text/html": [
       "<table>\n",
       "<thead>\n",
       "<tr><th>Service Type  </th><th style=\"text-align: right;\">  Count</th></tr>\n",
       "</thead>\n",
       "<tbody>\n",
       "<tr><td>http          </td><td style=\"text-align: right;\">  40338</td></tr>\n",
       "<tr><td>private       </td><td style=\"text-align: right;\">  21853</td></tr>\n",
       "<tr><td>domain_u      </td><td style=\"text-align: right;\">   9043</td></tr>\n",
       "<tr><td>smtp          </td><td style=\"text-align: right;\">   7313</td></tr>\n",
       "<tr><td>ftp_data      </td><td style=\"text-align: right;\">   6860</td></tr>\n",
       "<tr><td>eco_i         </td><td style=\"text-align: right;\">   4586</td></tr>\n",
       "<tr><td>other         </td><td style=\"text-align: right;\">   4359</td></tr>\n",
       "<tr><td>ecr_i         </td><td style=\"text-align: right;\">   3077</td></tr>\n",
       "<tr><td>telnet        </td><td style=\"text-align: right;\">   2353</td></tr>\n",
       "<tr><td>finger        </td><td style=\"text-align: right;\">   1767</td></tr>\n",
       "<tr><td>ftp           </td><td style=\"text-align: right;\">   1754</td></tr>\n",
       "<tr><td>auth          </td><td style=\"text-align: right;\">    955</td></tr>\n",
       "<tr><td>Z39_50        </td><td style=\"text-align: right;\">    862</td></tr>\n",
       "<tr><td>uucp          </td><td style=\"text-align: right;\">    780</td></tr>\n",
       "<tr><td>courier       </td><td style=\"text-align: right;\">    734</td></tr>\n",
       "<tr><td>bgp           </td><td style=\"text-align: right;\">    710</td></tr>\n",
       "<tr><td>whois         </td><td style=\"text-align: right;\">    693</td></tr>\n",
       "<tr><td>uucp_path     </td><td style=\"text-align: right;\">    689</td></tr>\n",
       "<tr><td>iso_tsap      </td><td style=\"text-align: right;\">    687</td></tr>\n",
       "<tr><td>time          </td><td style=\"text-align: right;\">    654</td></tr>\n",
       "<tr><td>imap4         </td><td style=\"text-align: right;\">    647</td></tr>\n",
       "<tr><td>nnsp          </td><td style=\"text-align: right;\">    630</td></tr>\n",
       "<tr><td>vmnet         </td><td style=\"text-align: right;\">    617</td></tr>\n",
       "<tr><td>urp_i         </td><td style=\"text-align: right;\">    602</td></tr>\n",
       "<tr><td>domain        </td><td style=\"text-align: right;\">    569</td></tr>\n",
       "<tr><td>ctf           </td><td style=\"text-align: right;\">    563</td></tr>\n",
       "<tr><td>csnet_ns      </td><td style=\"text-align: right;\">    545</td></tr>\n",
       "<tr><td>supdup        </td><td style=\"text-align: right;\">    544</td></tr>\n",
       "<tr><td>discard       </td><td style=\"text-align: right;\">    538</td></tr>\n",
       "<tr><td>http_443      </td><td style=\"text-align: right;\">    530</td></tr>\n",
       "<tr><td>daytime       </td><td style=\"text-align: right;\">    521</td></tr>\n",
       "<tr><td>gopher        </td><td style=\"text-align: right;\">    518</td></tr>\n",
       "<tr><td>efs           </td><td style=\"text-align: right;\">    485</td></tr>\n",
       "<tr><td>systat        </td><td style=\"text-align: right;\">    477</td></tr>\n",
       "<tr><td>link          </td><td style=\"text-align: right;\">    475</td></tr>\n",
       "<tr><td>exec          </td><td style=\"text-align: right;\">    474</td></tr>\n",
       "<tr><td>hostnames     </td><td style=\"text-align: right;\">    460</td></tr>\n",
       "<tr><td>name          </td><td style=\"text-align: right;\">    451</td></tr>\n",
       "<tr><td>mtp           </td><td style=\"text-align: right;\">    439</td></tr>\n",
       "<tr><td>echo          </td><td style=\"text-align: right;\">    434</td></tr>\n",
       "<tr><td>klogin        </td><td style=\"text-align: right;\">    433</td></tr>\n",
       "<tr><td>login         </td><td style=\"text-align: right;\">    429</td></tr>\n",
       "<tr><td>ldap          </td><td style=\"text-align: right;\">    410</td></tr>\n",
       "<tr><td>netbios_dgm   </td><td style=\"text-align: right;\">    405</td></tr>\n",
       "<tr><td>sunrpc        </td><td style=\"text-align: right;\">    381</td></tr>\n",
       "<tr><td>netbios_ssn   </td><td style=\"text-align: right;\">    362</td></tr>\n",
       "<tr><td>netstat       </td><td style=\"text-align: right;\">    360</td></tr>\n",
       "<tr><td>netbios_ns    </td><td style=\"text-align: right;\">    347</td></tr>\n",
       "<tr><td>ssh           </td><td style=\"text-align: right;\">    311</td></tr>\n",
       "<tr><td>kshell        </td><td style=\"text-align: right;\">    299</td></tr>\n",
       "<tr><td>nntp          </td><td style=\"text-align: right;\">    296</td></tr>\n",
       "<tr><td>pop_3         </td><td style=\"text-align: right;\">    264</td></tr>\n",
       "<tr><td>sql_net       </td><td style=\"text-align: right;\">    245</td></tr>\n",
       "<tr><td>IRC           </td><td style=\"text-align: right;\">    187</td></tr>\n",
       "<tr><td>ntp_u         </td><td style=\"text-align: right;\">    168</td></tr>\n",
       "<tr><td>rje           </td><td style=\"text-align: right;\">     86</td></tr>\n",
       "<tr><td>remote_job    </td><td style=\"text-align: right;\">     78</td></tr>\n",
       "<tr><td>pop_2         </td><td style=\"text-align: right;\">     78</td></tr>\n",
       "<tr><td>X11           </td><td style=\"text-align: right;\">     73</td></tr>\n",
       "<tr><td>printer       </td><td style=\"text-align: right;\">     69</td></tr>\n",
       "<tr><td>shell         </td><td style=\"text-align: right;\">     65</td></tr>\n",
       "<tr><td>urh_i         </td><td style=\"text-align: right;\">     10</td></tr>\n",
       "<tr><td>red_i         </td><td style=\"text-align: right;\">      8</td></tr>\n",
       "<tr><td>tim_i         </td><td style=\"text-align: right;\">      8</td></tr>\n",
       "<tr><td>pm_dump       </td><td style=\"text-align: right;\">      5</td></tr>\n",
       "<tr><td>tftp_u        </td><td style=\"text-align: right;\">      3</td></tr>\n",
       "<tr><td>harvest       </td><td style=\"text-align: right;\">      2</td></tr>\n",
       "<tr><td>aol           </td><td style=\"text-align: right;\">      2</td></tr>\n",
       "<tr><td>http_8001     </td><td style=\"text-align: right;\">      2</td></tr>\n",
       "<tr><td>http_2784     </td><td style=\"text-align: right;\">      1</td></tr>\n",
       "</tbody>\n",
       "</table>"
      ],
      "text/plain": [
       "<IPython.core.display.HTML object>"
      ]
     },
     "metadata": {},
     "output_type": "display_data"
    }
   ],
   "source": [
    "# Load dataset from CSV files\n",
    "Base_DIR=\"/Users/apatkar/Documents/LiverpoolProject\"\n",
    "TwentyPercentTrainDataurl = Base_DIR+\"/NSL_KDD-master-Original/20 Percent Training Set.csv\"\n",
    "KDDTestDataseturl = Base_DIR+\"/NSL_KDD-master-Original/KDDTest+.csv\"\n",
    "KDDTrainDataseturl = Base_DIR+\"/NSL_KDD-master-Original/KDDTrain+.csv\"\n",
    "\n",
    "# Load dataset from TXT files\n",
    "#TwentyPercentTrainDataurl = Base_DIR+\"/NSL_KDD-master/KDDTrain+_20Percent.txt\"\n",
    "#KDDTestDataseturl = Base_DIR+\"/NSL_KDD-master/KDDTest+.txt\"\n",
    "#KDDTrainDataseturl = Base_DIR+\"/NSL_KDD-master/KDDTrain+.txt\"\n",
    "\n",
    "names = ['duration','protocol_type','service','flag','src_bytes','dst_bytes','land','wrong_fragment','urgent','hot',\n",
    "         'num_failed_logins','logged_in','num_compromised','root_shell','su_attempted','num_root','num_file_creations',\n",
    "         'num_shells','num_access_files','num_outbound_cmds','is_host_login','is_guest_login','count','srv_count',\n",
    "         'serror_rate','srv_serror_rate','rerror_rate','srv_rerror_rate','same_srv_rate','diff_srv_rate',\n",
    "         'srv_diff_host_rate','dst_host_count','dst_host_srv_count','dst_host_same_srv_rate','dst_host_diff_srv_rate',\n",
    "         'dst_host_same_src_port_rate','dst_host_srv_diff_host_rate','dst_host_serror_rate','dst_host_srv_serror_rate',\n",
    "         'dst_host_rerror_rate','dst_host_srv_rerror_rate','labels','dst_host_']\n",
    "\n",
    "# Use when Reading CSV files\n",
    "TwentyPercentTrainDataset = pandas.read_csv(TwentyPercentTrainDataurl, header=None, names=names)\n",
    "KDDTestDataset = pandas.read_csv(KDDTestDataseturl, header=None, names=names)\n",
    "KDDTrainDataset = pandas.read_csv(KDDTrainDataseturl, header=None, names=names)\n",
    "\n",
    "#Use When Reading Text Files\n",
    "#TwentyPercentTrainDataset = pandas.read_csv(TwentyPercentTrainDataurl, sep = \",\", names=names)\n",
    "#KDDTestDataset = pandas.read_csv(KDDTestDataseturl, sep = \",\", names=names)\n",
    "#KDDTrainDataset = pandas.read_csv(KDDTrainDataseturl, sep = \",\", names=names)\n",
    "\n",
    "#Copy Data set for Data Analysis\n",
    "#dataset = TwentyPercentTrainDataset\n",
    "#dataset = KDDTestDataset\n",
    "dataset = KDDTrainDataset\n",
    "\n",
    "#remove the last column\n",
    "KDDTrainDataset.pop('dst_host_')\n",
    "KDDTestDataset.pop('dst_host_')  \n",
    "TwentyPercentTrainDataset.pop('dst_host_') \n",
    "\n",
    "# shape, this gives the dimensions of the dataset\n",
    "display(HTML(\"<h3>Dimensions of the Training set: {TrainShape}</h3>\".format(TrainShape=KDDTrainDataset.shape)))\n",
    "display(HTML(\"<h3>Dimensions of the Test set: {TestShape}</h3>\".format(TestShape=KDDTestDataset.shape)))\n",
    "\n",
    "# Test set\n",
    "display(HTML('<h2>Findout The categorical column & set of categories from Train Dataset:</h2>'))\n",
    "for ColumnName in KDDTestDataset.columns:\n",
    "    if KDDTrainDataset[ColumnName].dtypes == 'object' :\n",
    "        UniqueCategory = len(KDDTrainDataset[ColumnName].unique())\n",
    "        display(HTML(\"<h4> Dataset Column '{ColumnName}' has {UniqueCategory} categories</h4>\".\n",
    "                     format(ColumnName=ColumnName, UniqueCategory=UniqueCategory)))\n",
    "display(HTML('<h2>Findout The categorical column & set of categories from Test Dataset:</h2>'))\n",
    "for ColumnName in KDDTestDataset.columns:\n",
    "    if KDDTestDataset[ColumnName].dtypes == 'object' :\n",
    "        UniqueCategory = len(KDDTestDataset[ColumnName].unique())\n",
    "        display(HTML(\"<h4> Dataset Column '{ColumnName}' has {UniqueCategory} categories</h4>\".\n",
    "                     format(ColumnName=ColumnName, UniqueCategory=UniqueCategory)))\n",
    "        \n",
    "# Find out the distribution of the Service category Which will help to decide on additional Dummy Columns\n",
    "display(HTML(\"<h2>Service Column has following Distribution of categories:</h2>\"))   \n",
    "display(HTML(tabulate.tabulate(pandas.DataFrame(KDDTrainDataset['service'].value_counts().sort_values(ascending=False)), \n",
    "                               headers=['Service Type','Count'], tablefmt='html')))"
   ]
  },
  {
   "cell_type": "code",
   "execution_count": null,
   "metadata": {},
   "outputs": [],
   "source": [
    "\n",
    "# Look into the data using head command\n",
    "print(\"~~~~~~~~~~~~~~~~~~~Printing 20 records from Training Dataset~~~~~~~~~~~~~~~~~~~\")\n",
    "display(HTML(tabulate.tabulate(KDDTrainDataset.head(20), headers=names, tablefmt='html')))\n",
    "print(\"~~~~~~~~~~~~~~~~~~~Printing 20 records from Test Dataset~~~~~~~~~~~~~~~~~~~\")\n",
    "display(HTML(tabulate.tabulate(KDDTestDataset.head(20), headers=names, tablefmt='html')))\n",
    "\n",
    "# Describe the data\n",
    "print(\"~~~~~~~~~~~~~~~~~~~Printing Statistic Summary of Training Dataset~~~~~~~~~~~~~~~~~~~\")\n",
    "display(HTML(tabulate.tabulate(KDDTrainDataset.describe(), headers=names, tablefmt='html')))\n",
    "print(\"~~~~~~~~~~~~~~~~~~~Printing Statistic Summary of Test Dataset~~~~~~~~~~~~~~~~~~~\")\n",
    "display(HTML(tabulate.tabulate(KDDTestDataset.describe(), headers=names, tablefmt='html')))"
   ]
  },
  {
   "cell_type": "code",
   "execution_count": null,
   "metadata": {},
   "outputs": [],
   "source": [
    "# Label Distribution of the Training data set\n",
    "display(HTML(\"<h2>Lable Distribution across the Training dataset:</h2>\"))\n",
    "display(HTML(tabulate.tabulate(pandas.DataFrame(KDDTrainDataset['labels'].value_counts()), \n",
    "                               headers=['Attack Type','Count'], tablefmt='html')))\n",
    "display()\n",
    "# Label Distribution of the Test data set\n",
    "display(HTML(\"<h2>Lable Distribution across the Test dataset:</h2>\"))\n",
    "display(HTML(tabulate.tabulate(pandas.DataFrameDistributionColumns(KDDTestDataset['labels'].value_counts()), \n",
    "                               headers=['Attack Type','Count'], tablefmt='html')))\n",
    "display()\n",
    "# Check how Protocol Type Column attributes/values affects other data column\n",
    "pandas.crosstab(KDDTrainDataset[\"protocol_type\"],KDDTrainDataset[\"labels\"],margins=True)"
   ]
  },
  {
   "cell_type": "code",
   "execution_count": 3,
   "metadata": {},
   "outputs": [],
   "source": [
    "# Simplify the Lable data by manipulating it to attck and normal categories\n",
    "\n",
    "dataset.loc[(dataset['labels'] !='normal'),'labels'] = 'attack'\n",
    "dataset.loc[(dataset['labels'] =='normal'),'labels'] = 'normal'\n"
   ]
  },
  {
   "cell_type": "code",
   "execution_count": 48,
   "metadata": {},
   "outputs": [
    {
     "data": {
      "image/png": "[encoded data removed]",
      "text/plain": [
       "<matplotlib.figure.Figure at 0x12bb86a58>"
      ]
     },
     "metadata": {},
     "output_type": "display_data"
    }
   ],
   "source": [
    "# Plot Pie Graph\n",
    "PieDataSet = pandas.crosstab(KDDTrainDataset[\"protocol_type\"],KDDTrainDataset[\"labels\"],margins=True)\n",
    "# Drop the Column Total\n",
    "PieDataSet.pop('All')\n",
    "# Drop The Row Total\n",
    "PieDataSet.drop(PieDataSet.tail(1).index,inplace=True)\n",
    "PieDataSet.plot.pie(subplots=True, colors=['r', 'c', 'b'], fontsize=12, figsize=(6, 3))\n",
    "plt.tight_layout(pad=0.4, w_pad=1.5, h_pad=1.0)\n",
    "plt.show()"
   ]
  },
  {
   "cell_type": "code",
   "execution_count": 50,
   "metadata": {},
   "outputs": [
    {
     "data": {
      "text/plain": [
       "<matplotlib.figure.Figure at 0x12a602eb8>"
      ]
     },
     "metadata": {},
     "output_type": "display_data"
    },
    {
     "data": {
      "image/png": "[encoded data removed]",
      "text/plain": [
       "<matplotlib.figure.Figure at 0x12a602978>"
      ]
     },
     "metadata": {},
     "output_type": "display_data"
    }
   ],
   "source": [
    "# box and whisker plots\n",
    "plt.figure(figsize=(8, 6), dpi=80)\n",
    "dataset.plot(kind='box', subplots=True, grid=True, layout=(11,4), sharex=True, sharey=False,)\n",
    "#plt.subplots_adjust(left=None, bottom=None, right=None, top=None, wspace=None, hspace=None)\n",
    "plt.tight_layout(pad=0.4, w_pad=0.5, h_pad=1.0)\n",
    "plt.show()\n",
    "\n",
    "#sns.boxplot(data=dataset, orient=\"h\")\n",
    "#plt.show()"
   ]
  },
  {
   "cell_type": "code",
   "execution_count": null,
   "metadata": {},
   "outputs": [],
   "source": [
    "# Plot The BOX graph for Protocol type and Rumber Of Compromised Column group by attack or normal dataset\n",
    "BoxGraph = sns.FacetGrid(dataset, col=\"labels\", sharex=False)\n",
    "BoxGraph.map(sns.boxplot,\"num_compromised\", \"protocol_type\")\n",
    "plt.show()"
   ]
  },
  {
   "cell_type": "code",
   "execution_count": null,
   "metadata": {},
   "outputs": [],
   "source": [
    "# Plot The BarGrapg\n",
    "sns.set(style='ticks', context='paper')\n",
    "BarGraph = sns.FacetGrid(dataset, col='labels', hue='labels', size=3)\n",
    "BarGraph.map(sns.barplot, 'num_compromised', 'protocol_type');\n",
    "plt.show()\n",
    "sns.barplot(x=\"num_compromised\", y=\"protocol_type\", hue=\"labels\", data=dataset);\n",
    "plt.show()\n",
    "dataset.plot.barh(stacked=True)\n",
    "plt.show()"
   ]
  },
  {
   "cell_type": "code",
   "execution_count": null,
   "metadata": {},
   "outputs": [],
   "source": [
    "# Plot The histograms\n",
    "dataset.hist()\n",
    "plt.show()\n"
   ]
  },
  {
   "cell_type": "code",
   "execution_count": null,
   "metadata": {},
   "outputs": [],
   "source": [
    "# Plot The ScatterPlot\n",
    "Palette = dict(attack=\"seagreen\", normal=\"red\") #(tcp=\"seagreen\", udp=\"gray\", icmp=\"yellow\")\n",
    "ScatterPlot = sns.FacetGrid(dataset, hue=\"labels\", palette=Palette, size=5)\n",
    "ScatterPlot.map(plt.scatter, \"protocol_type\", \"num_compromised\", s=50, alpha=.7, linewidth=.5, edgecolor=\"white\")\n",
    "ScatterPlot.add_legend();\n",
    "plt.show()"
   ]
  },
  {
   "cell_type": "code",
   "execution_count": null,
   "metadata": {},
   "outputs": [],
   "source": [
    "with sns.axes_style(\"white\"):\n",
    "    g = sns.FacetGrid(dataset, row=\"protocol_type\", col=\"labels\", margin_titles=True, size=2.5)\n",
    "g.map(plt.scatter, \"num_failed_logins\", \"dst_host_count\", color=\"#334488\", edgecolor=\"white\", lw=.5); #num_compromised\n",
    "g.set_axis_labels(\"Failed Logins\", \"Numbers of Compromised\");\n",
    "g.set(xticks=[0, 5, 10], yticks=[0, 250, 500]);\n",
    "g.fig.subplots_adjust(wspace=.02, hspace=.02);\n",
    "plt.show()"
   ]
  },
  {
   "cell_type": "code",
   "execution_count": 51,
   "metadata": {},
   "outputs": [],
   "source": [
    "# Set the test and train data\n",
    "traindata = pandas.read_csv(KDDTrainDataseturl, header=None, names=names)\n",
    "testdata = pandas.read_csv(KDDTestDataseturl, header=None, names=names)\n",
    "\n",
    "# Save Images of Normal and Attack data before we \n",
    "# Create Dummy Data Frame From the Training Data Set\n",
    "DummyDataFrame = traindata\n",
    "# Get the Lable Column from Dummy Data Frame\n",
    "LableColumnDataFrame=DummyDataFrame['labels']\n",
    "# change the label column 0=normal, 1=DoS, 2=Probe, 3=R2L and 4=U2R\n",
    "DummyDataFrame2=LableColumnDataFrame.replace({ 'normal' : 0, 'neptune' : 1 ,'back': 1, 'land': 1, 'pod': 1, 'smurf': 1, 'teardrop': 1,'mailbomb': 1, 'apache2': 1, 'processtable': 1, 'udpstorm': 1, 'worm': 1,\n",
    "                           'ipsweep' : 2,'nmap' : 2,'portsweep' : 2,'satan' : 2,'mscan' : 2,'saint' : 2\n",
    "                           ,'ftp_write': 3,'guess_passwd': 3,'imap': 3,'multihop': 3,'phf': 3,'spy': 3,'warezclient': 3,'warezmaster': 3,'sendmail': 3,'named': 3,'snmpgetattack': 3,'snmpguess': 3,'xlock': 3,'xsnoop': 3,'httptunnel': 3,\n",
    "                           'buffer_overflow': 4,'loadmodule': 4,'perl': 4,'rootkit': 4,'ps': 4,'sqlattack': 4,'xterm': 4})\n",
    "\n",
    "# Add the modified label column back\n",
    "DummyDataFrame['labels'] = DummyDataFrame2\n",
    "# Filter Out The data by Lable\n",
    "DosData = DummyDataFrame.loc[DummyDataFrame['labels'] == 1]\n",
    "ProbData = DummyDataFrame.loc[DummyDataFrame['labels'] == 2]\n",
    "R2LData = DummyDataFrame.loc[DummyDataFrame['labels'] == 3]\n",
    "U2RData = DummyDataFrame.loc[DummyDataFrame['labels'] == 4]\n",
    "NormalData = DummyDataFrame.loc[DummyDataFrame['labels'] == 0]\n",
    "\n",
    "# Display statement to view the filtered data\n",
    "#display(HTML(tabulate.tabulate(DosData.head(5), tablefmt='html')))\n",
    "#display(HTML(tabulate.tabulate(ProbData.head(5), tablefmt='html')))\n",
    "#display(HTML(tabulate.tabulate(R2LData.head(5), tablefmt='html')))\n",
    "#display(HTML(tabulate.tabulate(U2RData.head(5), tablefmt='html')))\n",
    "#display(HTML(tabulate.tabulate(NormalData.head(5), tablefmt='html')))\n",
    "\n",
    "# Take the random smaple of fileterd out dataset for Image creation we are taking 3 randon rows\n",
    "frames = [DosData.sample(n=3, random_state=2), ProbData.sample(n=3, random_state=2), \n",
    "          R2LData.sample(n=3, random_state=2), U2RData.sample(n=3, random_state=2),\n",
    "          NormalData.sample(n=3, random_state=2)\n",
    "         ]\n",
    "# Join, Concatinate the diffrent filetred dDtaFrames\n",
    "ImageData = pandas.concat(frames)\n",
    "\n",
    "# Set the Protocol Type Column to Numeric values in DataFrame\n",
    "ImageData.loc[(dataset['protocol_type'] =='tcp'),'protocol_type'] = 1\n",
    "ImageData.loc[(dataset['protocol_type'] =='udp'),'protocol_type'] = 2\n",
    "ImageData.loc[(dataset['protocol_type'] =='icmp'),'protocol_type'] = 3\n",
    "# For this test Image coversion purpose change the Service & Flag column to zero in this dataframe\n",
    "ImageData.loc[(dataset['service'] !=''),'service'] = 0\n",
    "ImageData.loc[(dataset['flag'] !=''),'flag'] = 0\n",
    "\n",
    "# Set the Counter\n",
    "IDX = 0\n",
    "#print(ImageData.shape)\n",
    "for index, row in ImageData.iterrows():\n",
    "    # Get all the column data from the DataFrame row\n",
    "    IMGDT = ImageData.iloc[IDX,1:43]\n",
    "    #print(IMGDT)\n",
    "    # Get The Lable data to add to the name to identify type of attack image is for\n",
    "    RowType = IMGDT['labels']\n",
    "    # Convert the data to Numpy Array\n",
    "    IDT = np.array(IMGDT)\n",
    "    # Convert the data to Binary\n",
    "    ISA = np.select([IDT <= .5, IDT>.5], [np.zeros_like(IDT), np.ones_like(IDT)])\n",
    "    # Create the Numpy array of converted data\n",
    "    NPData = np.array(ISA * 255, dtype = np.uint8)\n",
    "    # Create a grayscale image using CV2 function\n",
    "    grayscale = cv2.adaptiveThreshold(NPData, 255, cv2.ADAPTIVE_THRESH_MEAN_C, cv2.THRESH_BINARY, 3, 0)\n",
    "    # Recsale created Grascale Image to 32x32\n",
    "    Image32_32 = cv2.resize(grayscale, (32,32))\n",
    "    # Add new axies/dimension to the image\n",
    "    Image32_32_1 = Image32_32[:, :, np.newaxis]\n",
    "    # Generate the Image Iname\n",
    "    imagename = 'IMG_'+str(IDX)+'_'+str(RowType)+'.png'\n",
    "    # Save Original and convered Image\n",
    "    cv2.imwrite(imagename,Image32_32_1)\n",
    "    cv2.imwrite('U'+imagename,grayscale)\n",
    "    #C lear up the Numply Array for next operation and increment the Index\n",
    "    np.delete(IDT, 1, 0)\n",
    "    IDX = IDX+1\n",
    "        "
   ]
  },
  {
   "cell_type": "code",
   "execution_count": 52,
   "metadata": {},
   "outputs": [
    {
     "data": {
      "text/html": [
       "<table>\n",
       "<tbody>\n",
       "<tr><td style=\"text-align: right;\">0</td><td>tcp</td><td>ftp_data</td><td>SF</td></tr>\n",
       "<tr><td style=\"text-align: right;\">1</td><td>udp</td><td>other   </td><td>SF</td></tr>\n",
       "<tr><td style=\"text-align: right;\">2</td><td>tcp</td><td>private </td><td>S0</td></tr>\n",
       "<tr><td style=\"text-align: right;\">3</td><td>tcp</td><td>http    </td><td>SF</td></tr>\n",
       "<tr><td style=\"text-align: right;\">4</td><td>tcp</td><td>http    </td><td>SF</td></tr>\n",
       "</tbody>\n",
       "</table>"
      ],
      "text/plain": [
       "<IPython.core.display.HTML object>"
      ]
     },
     "metadata": {},
     "output_type": "display_data"
    },
    {
     "data": {
      "text/html": [
       "<table>\n",
       "<tbody>\n",
       "<tr><td style=\"text-align: right;\">0</td><td>tcp </td><td>private </td><td>REJ </td></tr>\n",
       "<tr><td style=\"text-align: right;\">1</td><td>tcp </td><td>private </td><td>REJ </td></tr>\n",
       "<tr><td style=\"text-align: right;\">2</td><td>tcp </td><td>ftp_data</td><td>SF  </td></tr>\n",
       "<tr><td style=\"text-align: right;\">3</td><td>icmp</td><td>eco_i   </td><td>SF  </td></tr>\n",
       "<tr><td style=\"text-align: right;\">4</td><td>tcp </td><td>telnet  </td><td>RSTO</td></tr>\n",
       "</tbody>\n",
       "</table>"
      ],
      "text/plain": [
       "<IPython.core.display.HTML object>"
      ]
     },
     "metadata": {},
     "output_type": "display_data"
    },
    {
     "name": "stdout",
     "output_type": "stream",
     "text": [
      "~~~~~~~~~~~~~~~~~~~Training Data Set Dummy Column List~~~~~~~~~~~~~~~~~~~\n",
      "['Protocol_type_icmp', 'Protocol_type_tcp', 'Protocol_type_udp', 'service_IRC', 'service_X11', 'service_Z39_50', 'service_aol', 'service_auth', 'service_bgp', 'service_courier', 'service_csnet_ns', 'service_ctf', 'service_daytime', 'service_discard', 'service_domain', 'service_domain_u', 'service_echo', 'service_eco_i', 'service_ecr_i', 'service_efs', 'service_exec', 'service_finger', 'service_ftp', 'service_ftp_data', 'service_gopher', 'service_harvest', 'service_hostnames', 'service_http', 'service_http_2784', 'service_http_443', 'service_http_8001', 'service_imap4', 'service_iso_tsap', 'service_klogin', 'service_kshell', 'service_ldap', 'service_link', 'service_login', 'service_mtp', 'service_name', 'service_netbios_dgm', 'service_netbios_ns', 'service_netbios_ssn', 'service_netstat', 'service_nnsp', 'service_nntp', 'service_ntp_u', 'service_other', 'service_pm_dump', 'service_pop_2', 'service_pop_3', 'service_printer', 'service_private', 'service_red_i', 'service_remote_job', 'service_rje', 'service_shell', 'service_smtp', 'service_sql_net', 'service_ssh', 'service_sunrpc', 'service_supdup', 'service_systat', 'service_telnet', 'service_tftp_u', 'service_tim_i', 'service_time', 'service_urh_i', 'service_urp_i', 'service_uucp', 'service_uucp_path', 'service_vmnet', 'service_whois', 'flag_OTH', 'flag_REJ', 'flag_RSTO', 'flag_RSTOS0', 'flag_RSTR', 'flag_S0', 'flag_S1', 'flag_S2', 'flag_S3', 'flag_SF', 'flag_SH']\n",
      "~~~~~~~~~~~~~~~~~~~Testing Data Set Dummy Column List~~~~~~~~~~~~~~~~~~~\n",
      "['Protocol_type_icmp', 'Protocol_type_tcp', 'Protocol_type_udp', 'service_IRC', 'service_X11', 'service_Z39_50', 'service_auth', 'service_bgp', 'service_courier', 'service_csnet_ns', 'service_ctf', 'service_daytime', 'service_discard', 'service_domain', 'service_domain_u', 'service_echo', 'service_eco_i', 'service_ecr_i', 'service_efs', 'service_exec', 'service_finger', 'service_ftp', 'service_ftp_data', 'service_gopher', 'service_hostnames', 'service_http', 'service_http_443', 'service_imap4', 'service_iso_tsap', 'service_klogin', 'service_kshell', 'service_ldap', 'service_link', 'service_login', 'service_mtp', 'service_name', 'service_netbios_dgm', 'service_netbios_ns', 'service_netbios_ssn', 'service_netstat', 'service_nnsp', 'service_nntp', 'service_ntp_u', 'service_other', 'service_pm_dump', 'service_pop_2', 'service_pop_3', 'service_printer', 'service_private', 'service_remote_job', 'service_rje', 'service_shell', 'service_smtp', 'service_sql_net', 'service_ssh', 'service_sunrpc', 'service_supdup', 'service_systat', 'service_telnet', 'service_tim_i', 'service_time', 'service_urp_i', 'service_uucp', 'service_uucp_path', 'service_vmnet', 'service_whois', 'flag_OTH', 'flag_REJ', 'flag_RSTO', 'flag_RSTOS0', 'flag_RSTR', 'flag_S0', 'flag_S1', 'flag_S2', 'flag_S3', 'flag_SF', 'flag_SH']\n"
     ]
    },
    {
     "data": {
      "text/html": [
       "<table>\n",
       "<tbody>\n",
       "<tr><td style=\"text-align: right;\">0</td><td style=\"text-align: right;\">1</td><td style=\"text-align: right;\">20</td><td style=\"text-align: right;\">9</td></tr>\n",
       "<tr><td style=\"text-align: right;\">1</td><td style=\"text-align: right;\">2</td><td style=\"text-align: right;\">44</td><td style=\"text-align: right;\">9</td></tr>\n",
       "<tr><td style=\"text-align: right;\">2</td><td style=\"text-align: right;\">1</td><td style=\"text-align: right;\">49</td><td style=\"text-align: right;\">5</td></tr>\n",
       "<tr><td style=\"text-align: right;\">3</td><td style=\"text-align: right;\">1</td><td style=\"text-align: right;\">24</td><td style=\"text-align: right;\">9</td></tr>\n",
       "<tr><td style=\"text-align: right;\">4</td><td style=\"text-align: right;\">1</td><td style=\"text-align: right;\">24</td><td style=\"text-align: right;\">9</td></tr>\n",
       "</tbody>\n",
       "</table>"
      ],
      "text/plain": [
       "<IPython.core.display.HTML object>"
      ]
     },
     "metadata": {},
     "output_type": "display_data"
    },
    {
     "data": {
      "text/html": [
       "<table>\n",
       "<tbody>\n",
       "<tr><td style=\"text-align: right;\">0</td><td style=\"text-align: right;\">1</td><td style=\"text-align: right;\">45</td><td style=\"text-align: right;\">1</td></tr>\n",
       "<tr><td style=\"text-align: right;\">1</td><td style=\"text-align: right;\">1</td><td style=\"text-align: right;\">45</td><td style=\"text-align: right;\">1</td></tr>\n",
       "<tr><td style=\"text-align: right;\">2</td><td style=\"text-align: right;\">1</td><td style=\"text-align: right;\">19</td><td style=\"text-align: right;\">9</td></tr>\n",
       "<tr><td style=\"text-align: right;\">3</td><td style=\"text-align: right;\">0</td><td style=\"text-align: right;\">13</td><td style=\"text-align: right;\">9</td></tr>\n",
       "<tr><td style=\"text-align: right;\">4</td><td style=\"text-align: right;\">1</td><td style=\"text-align: right;\">55</td><td style=\"text-align: right;\">2</td></tr>\n",
       "</tbody>\n",
       "</table>"
      ],
      "text/plain": [
       "<IPython.core.display.HTML object>"
      ]
     },
     "metadata": {},
     "output_type": "display_data"
    },
    {
     "name": "stdout",
     "output_type": "stream",
     "text": [
      "(125973, 124)\n",
      "(22543, 124)\n"
     ]
    },
    {
     "data": {
      "text/html": [
       "<table>\n",
       "<tbody>\n",
       "<tr><td style=\"text-align: right;\">0</td><td style=\"text-align: right;\">0</td><td style=\"text-align: right;\">491</td><td style=\"text-align: right;\">   0</td><td style=\"text-align: right;\">0</td><td style=\"text-align: right;\">0</td><td style=\"text-align: right;\">0</td><td style=\"text-align: right;\">0</td><td style=\"text-align: right;\">0</td><td style=\"text-align: right;\">0</td><td style=\"text-align: right;\">0</td><td style=\"text-align: right;\">0</td><td style=\"text-align: right;\">0</td><td style=\"text-align: right;\">0</td><td style=\"text-align: right;\">0</td><td style=\"text-align: right;\">0</td><td style=\"text-align: right;\">0</td><td style=\"text-align: right;\">0</td><td style=\"text-align: right;\">0</td><td style=\"text-align: right;\">0</td><td style=\"text-align: right;\">  2</td><td style=\"text-align: right;\"> 2</td><td style=\"text-align: right;\">0  </td><td style=\"text-align: right;\">0  </td><td style=\"text-align: right;\">0</td><td style=\"text-align: right;\">0</td><td style=\"text-align: right;\">1   </td><td style=\"text-align: right;\">0   </td><td style=\"text-align: right;\">0   </td><td style=\"text-align: right;\">150</td><td style=\"text-align: right;\"> 25</td><td style=\"text-align: right;\">0.17</td><td style=\"text-align: right;\">0.03</td><td style=\"text-align: right;\">0.17</td><td style=\"text-align: right;\">0   </td><td style=\"text-align: right;\">0   </td><td style=\"text-align: right;\">0   </td><td style=\"text-align: right;\">0.05</td><td style=\"text-align: right;\">0   </td><td>normal</td><td style=\"text-align: right;\">20</td><td style=\"text-align: right;\">0</td><td style=\"text-align: right;\">1</td><td style=\"text-align: right;\">0</td><td style=\"text-align: right;\">0</td><td style=\"text-align: right;\">0</td><td style=\"text-align: right;\">0</td><td style=\"text-align: right;\">0</td><td style=\"text-align: right;\">0</td><td style=\"text-align: right;\">0</td><td style=\"text-align: right;\">0</td><td style=\"text-align: right;\">0</td><td style=\"text-align: right;\">0</td><td style=\"text-align: right;\">0</td><td style=\"text-align: right;\">0</td><td style=\"text-align: right;\">0</td><td style=\"text-align: right;\">0</td><td style=\"text-align: right;\">0</td><td style=\"text-align: right;\">0</td><td style=\"text-align: right;\">0</td><td style=\"text-align: right;\">0</td><td style=\"text-align: right;\">0</td><td style=\"text-align: right;\">0</td><td style=\"text-align: right;\">0</td><td style=\"text-align: right;\">1</td><td style=\"text-align: right;\">0</td><td style=\"text-align: right;\">0</td><td style=\"text-align: right;\">0</td><td style=\"text-align: right;\">0</td><td style=\"text-align: right;\">0</td><td style=\"text-align: right;\">0</td><td style=\"text-align: right;\">0</td><td style=\"text-align: right;\">0</td><td style=\"text-align: right;\">0</td><td style=\"text-align: right;\">0</td><td style=\"text-align: right;\">0</td><td style=\"text-align: right;\">0</td><td style=\"text-align: right;\">0</td><td style=\"text-align: right;\">0</td><td style=\"text-align: right;\">0</td><td style=\"text-align: right;\">0</td><td style=\"text-align: right;\">0</td><td style=\"text-align: right;\">0</td><td style=\"text-align: right;\">0</td><td style=\"text-align: right;\">0</td><td style=\"text-align: right;\">0</td><td style=\"text-align: right;\">0</td><td style=\"text-align: right;\">0</td><td style=\"text-align: right;\">0</td><td style=\"text-align: right;\">0</td><td style=\"text-align: right;\">0</td><td style=\"text-align: right;\">0</td><td style=\"text-align: right;\">0</td><td style=\"text-align: right;\">0</td><td style=\"text-align: right;\">0</td><td style=\"text-align: right;\">0</td><td style=\"text-align: right;\">0</td><td style=\"text-align: right;\">0</td><td style=\"text-align: right;\">0</td><td style=\"text-align: right;\">0</td><td style=\"text-align: right;\">0</td><td style=\"text-align: right;\">0</td><td style=\"text-align: right;\">0</td><td style=\"text-align: right;\">0</td><td style=\"text-align: right;\">0</td><td style=\"text-align: right;\">0</td><td style=\"text-align: right;\">0</td><td style=\"text-align: right;\">0</td><td style=\"text-align: right;\">0</td><td style=\"text-align: right;\">0</td><td style=\"text-align: right;\">0</td><td style=\"text-align: right;\">0</td><td style=\"text-align: right;\">0</td><td style=\"text-align: right;\">0</td><td style=\"text-align: right;\">0</td><td style=\"text-align: right;\">0</td><td style=\"text-align: right;\">0</td><td style=\"text-align: right;\">0</td><td style=\"text-align: right;\">0</td><td style=\"text-align: right;\">0</td><td style=\"text-align: right;\">0</td><td style=\"text-align: right;\">0</td><td style=\"text-align: right;\">0</td><td style=\"text-align: right;\">1</td><td style=\"text-align: right;\">0</td></tr>\n",
       "<tr><td style=\"text-align: right;\">1</td><td style=\"text-align: right;\">0</td><td style=\"text-align: right;\">146</td><td style=\"text-align: right;\">   0</td><td style=\"text-align: right;\">0</td><td style=\"text-align: right;\">0</td><td style=\"text-align: right;\">0</td><td style=\"text-align: right;\">0</td><td style=\"text-align: right;\">0</td><td style=\"text-align: right;\">0</td><td style=\"text-align: right;\">0</td><td style=\"text-align: right;\">0</td><td style=\"text-align: right;\">0</td><td style=\"text-align: right;\">0</td><td style=\"text-align: right;\">0</td><td style=\"text-align: right;\">0</td><td style=\"text-align: right;\">0</td><td style=\"text-align: right;\">0</td><td style=\"text-align: right;\">0</td><td style=\"text-align: right;\">0</td><td style=\"text-align: right;\"> 13</td><td style=\"text-align: right;\"> 1</td><td style=\"text-align: right;\">0  </td><td style=\"text-align: right;\">0  </td><td style=\"text-align: right;\">0</td><td style=\"text-align: right;\">0</td><td style=\"text-align: right;\">0.08</td><td style=\"text-align: right;\">0.15</td><td style=\"text-align: right;\">0   </td><td style=\"text-align: right;\">255</td><td style=\"text-align: right;\">  1</td><td style=\"text-align: right;\">0   </td><td style=\"text-align: right;\">0.6 </td><td style=\"text-align: right;\">0.88</td><td style=\"text-align: right;\">0   </td><td style=\"text-align: right;\">0   </td><td style=\"text-align: right;\">0   </td><td style=\"text-align: right;\">0   </td><td style=\"text-align: right;\">0   </td><td>normal</td><td style=\"text-align: right;\">15</td><td style=\"text-align: right;\">0</td><td style=\"text-align: right;\">0</td><td style=\"text-align: right;\">1</td><td style=\"text-align: right;\">0</td><td style=\"text-align: right;\">0</td><td style=\"text-align: right;\">0</td><td style=\"text-align: right;\">0</td><td style=\"text-align: right;\">0</td><td style=\"text-align: right;\">0</td><td style=\"text-align: right;\">0</td><td style=\"text-align: right;\">0</td><td style=\"text-align: right;\">0</td><td style=\"text-align: right;\">0</td><td style=\"text-align: right;\">0</td><td style=\"text-align: right;\">0</td><td style=\"text-align: right;\">0</td><td style=\"text-align: right;\">0</td><td style=\"text-align: right;\">0</td><td style=\"text-align: right;\">0</td><td style=\"text-align: right;\">0</td><td style=\"text-align: right;\">0</td><td style=\"text-align: right;\">0</td><td style=\"text-align: right;\">0</td><td style=\"text-align: right;\">0</td><td style=\"text-align: right;\">0</td><td style=\"text-align: right;\">0</td><td style=\"text-align: right;\">0</td><td style=\"text-align: right;\">0</td><td style=\"text-align: right;\">0</td><td style=\"text-align: right;\">0</td><td style=\"text-align: right;\">0</td><td style=\"text-align: right;\">0</td><td style=\"text-align: right;\">0</td><td style=\"text-align: right;\">0</td><td style=\"text-align: right;\">0</td><td style=\"text-align: right;\">0</td><td style=\"text-align: right;\">0</td><td style=\"text-align: right;\">0</td><td style=\"text-align: right;\">0</td><td style=\"text-align: right;\">0</td><td style=\"text-align: right;\">0</td><td style=\"text-align: right;\">0</td><td style=\"text-align: right;\">0</td><td style=\"text-align: right;\">0</td><td style=\"text-align: right;\">0</td><td style=\"text-align: right;\">0</td><td style=\"text-align: right;\">0</td><td style=\"text-align: right;\">1</td><td style=\"text-align: right;\">0</td><td style=\"text-align: right;\">0</td><td style=\"text-align: right;\">0</td><td style=\"text-align: right;\">0</td><td style=\"text-align: right;\">0</td><td style=\"text-align: right;\">0</td><td style=\"text-align: right;\">0</td><td style=\"text-align: right;\">0</td><td style=\"text-align: right;\">0</td><td style=\"text-align: right;\">0</td><td style=\"text-align: right;\">0</td><td style=\"text-align: right;\">0</td><td style=\"text-align: right;\">0</td><td style=\"text-align: right;\">0</td><td style=\"text-align: right;\">0</td><td style=\"text-align: right;\">0</td><td style=\"text-align: right;\">0</td><td style=\"text-align: right;\">0</td><td style=\"text-align: right;\">0</td><td style=\"text-align: right;\">0</td><td style=\"text-align: right;\">0</td><td style=\"text-align: right;\">0</td><td style=\"text-align: right;\">0</td><td style=\"text-align: right;\">0</td><td style=\"text-align: right;\">0</td><td style=\"text-align: right;\">0</td><td style=\"text-align: right;\">0</td><td style=\"text-align: right;\">0</td><td style=\"text-align: right;\">0</td><td style=\"text-align: right;\">0</td><td style=\"text-align: right;\">0</td><td style=\"text-align: right;\">0</td><td style=\"text-align: right;\">0</td><td style=\"text-align: right;\">0</td><td style=\"text-align: right;\">1</td><td style=\"text-align: right;\">0</td></tr>\n",
       "<tr><td style=\"text-align: right;\">2</td><td style=\"text-align: right;\">0</td><td style=\"text-align: right;\">  0</td><td style=\"text-align: right;\">   0</td><td style=\"text-align: right;\">0</td><td style=\"text-align: right;\">0</td><td style=\"text-align: right;\">0</td><td style=\"text-align: right;\">0</td><td style=\"text-align: right;\">0</td><td style=\"text-align: right;\">0</td><td style=\"text-align: right;\">0</td><td style=\"text-align: right;\">0</td><td style=\"text-align: right;\">0</td><td style=\"text-align: right;\">0</td><td style=\"text-align: right;\">0</td><td style=\"text-align: right;\">0</td><td style=\"text-align: right;\">0</td><td style=\"text-align: right;\">0</td><td style=\"text-align: right;\">0</td><td style=\"text-align: right;\">0</td><td style=\"text-align: right;\">123</td><td style=\"text-align: right;\"> 6</td><td style=\"text-align: right;\">1  </td><td style=\"text-align: right;\">1  </td><td style=\"text-align: right;\">0</td><td style=\"text-align: right;\">0</td><td style=\"text-align: right;\">0.05</td><td style=\"text-align: right;\">0.07</td><td style=\"text-align: right;\">0   </td><td style=\"text-align: right;\">255</td><td style=\"text-align: right;\"> 26</td><td style=\"text-align: right;\">0.1 </td><td style=\"text-align: right;\">0.05</td><td style=\"text-align: right;\">0   </td><td style=\"text-align: right;\">0   </td><td style=\"text-align: right;\">1   </td><td style=\"text-align: right;\">1   </td><td style=\"text-align: right;\">0   </td><td style=\"text-align: right;\">0   </td><td>attack</td><td style=\"text-align: right;\">19</td><td style=\"text-align: right;\">0</td><td style=\"text-align: right;\">1</td><td style=\"text-align: right;\">0</td><td style=\"text-align: right;\">0</td><td style=\"text-align: right;\">0</td><td style=\"text-align: right;\">0</td><td style=\"text-align: right;\">0</td><td style=\"text-align: right;\">0</td><td style=\"text-align: right;\">0</td><td style=\"text-align: right;\">0</td><td style=\"text-align: right;\">0</td><td style=\"text-align: right;\">0</td><td style=\"text-align: right;\">0</td><td style=\"text-align: right;\">0</td><td style=\"text-align: right;\">0</td><td style=\"text-align: right;\">0</td><td style=\"text-align: right;\">0</td><td style=\"text-align: right;\">0</td><td style=\"text-align: right;\">0</td><td style=\"text-align: right;\">0</td><td style=\"text-align: right;\">0</td><td style=\"text-align: right;\">0</td><td style=\"text-align: right;\">0</td><td style=\"text-align: right;\">0</td><td style=\"text-align: right;\">0</td><td style=\"text-align: right;\">0</td><td style=\"text-align: right;\">0</td><td style=\"text-align: right;\">0</td><td style=\"text-align: right;\">0</td><td style=\"text-align: right;\">0</td><td style=\"text-align: right;\">0</td><td style=\"text-align: right;\">0</td><td style=\"text-align: right;\">0</td><td style=\"text-align: right;\">0</td><td style=\"text-align: right;\">0</td><td style=\"text-align: right;\">0</td><td style=\"text-align: right;\">0</td><td style=\"text-align: right;\">0</td><td style=\"text-align: right;\">0</td><td style=\"text-align: right;\">0</td><td style=\"text-align: right;\">0</td><td style=\"text-align: right;\">0</td><td style=\"text-align: right;\">0</td><td style=\"text-align: right;\">0</td><td style=\"text-align: right;\">0</td><td style=\"text-align: right;\">0</td><td style=\"text-align: right;\">0</td><td style=\"text-align: right;\">0</td><td style=\"text-align: right;\">0</td><td style=\"text-align: right;\">0</td><td style=\"text-align: right;\">0</td><td style=\"text-align: right;\">0</td><td style=\"text-align: right;\">1</td><td style=\"text-align: right;\">0</td><td style=\"text-align: right;\">0</td><td style=\"text-align: right;\">0</td><td style=\"text-align: right;\">0</td><td style=\"text-align: right;\">0</td><td style=\"text-align: right;\">0</td><td style=\"text-align: right;\">0</td><td style=\"text-align: right;\">0</td><td style=\"text-align: right;\">0</td><td style=\"text-align: right;\">0</td><td style=\"text-align: right;\">0</td><td style=\"text-align: right;\">0</td><td style=\"text-align: right;\">0</td><td style=\"text-align: right;\">0</td><td style=\"text-align: right;\">0</td><td style=\"text-align: right;\">0</td><td style=\"text-align: right;\">0</td><td style=\"text-align: right;\">0</td><td style=\"text-align: right;\">0</td><td style=\"text-align: right;\">0</td><td style=\"text-align: right;\">0</td><td style=\"text-align: right;\">0</td><td style=\"text-align: right;\">0</td><td style=\"text-align: right;\">0</td><td style=\"text-align: right;\">0</td><td style=\"text-align: right;\">1</td><td style=\"text-align: right;\">0</td><td style=\"text-align: right;\">0</td><td style=\"text-align: right;\">0</td><td style=\"text-align: right;\">0</td><td style=\"text-align: right;\">0</td></tr>\n",
       "<tr><td style=\"text-align: right;\">3</td><td style=\"text-align: right;\">0</td><td style=\"text-align: right;\">232</td><td style=\"text-align: right;\">8153</td><td style=\"text-align: right;\">0</td><td style=\"text-align: right;\">0</td><td style=\"text-align: right;\">0</td><td style=\"text-align: right;\">0</td><td style=\"text-align: right;\">0</td><td style=\"text-align: right;\">1</td><td style=\"text-align: right;\">0</td><td style=\"text-align: right;\">0</td><td style=\"text-align: right;\">0</td><td style=\"text-align: right;\">0</td><td style=\"text-align: right;\">0</td><td style=\"text-align: right;\">0</td><td style=\"text-align: right;\">0</td><td style=\"text-align: right;\">0</td><td style=\"text-align: right;\">0</td><td style=\"text-align: right;\">0</td><td style=\"text-align: right;\">  5</td><td style=\"text-align: right;\"> 5</td><td style=\"text-align: right;\">0.2</td><td style=\"text-align: right;\">0.2</td><td style=\"text-align: right;\">0</td><td style=\"text-align: right;\">0</td><td style=\"text-align: right;\">1   </td><td style=\"text-align: right;\">0   </td><td style=\"text-align: right;\">0   </td><td style=\"text-align: right;\"> 30</td><td style=\"text-align: right;\">255</td><td style=\"text-align: right;\">1   </td><td style=\"text-align: right;\">0   </td><td style=\"text-align: right;\">0.03</td><td style=\"text-align: right;\">0.04</td><td style=\"text-align: right;\">0.03</td><td style=\"text-align: right;\">0.01</td><td style=\"text-align: right;\">0   </td><td style=\"text-align: right;\">0.01</td><td>normal</td><td style=\"text-align: right;\">21</td><td style=\"text-align: right;\">0</td><td style=\"text-align: right;\">1</td><td style=\"text-align: right;\">0</td><td style=\"text-align: right;\">0</td><td style=\"text-align: right;\">0</td><td style=\"text-align: right;\">0</td><td style=\"text-align: right;\">0</td><td style=\"text-align: right;\">0</td><td style=\"text-align: right;\">0</td><td style=\"text-align: right;\">0</td><td style=\"text-align: right;\">0</td><td style=\"text-align: right;\">0</td><td style=\"text-align: right;\">0</td><td style=\"text-align: right;\">0</td><td style=\"text-align: right;\">0</td><td style=\"text-align: right;\">0</td><td style=\"text-align: right;\">0</td><td style=\"text-align: right;\">0</td><td style=\"text-align: right;\">0</td><td style=\"text-align: right;\">0</td><td style=\"text-align: right;\">0</td><td style=\"text-align: right;\">0</td><td style=\"text-align: right;\">0</td><td style=\"text-align: right;\">0</td><td style=\"text-align: right;\">0</td><td style=\"text-align: right;\">0</td><td style=\"text-align: right;\">0</td><td style=\"text-align: right;\">1</td><td style=\"text-align: right;\">0</td><td style=\"text-align: right;\">0</td><td style=\"text-align: right;\">0</td><td style=\"text-align: right;\">0</td><td style=\"text-align: right;\">0</td><td style=\"text-align: right;\">0</td><td style=\"text-align: right;\">0</td><td style=\"text-align: right;\">0</td><td style=\"text-align: right;\">0</td><td style=\"text-align: right;\">0</td><td style=\"text-align: right;\">0</td><td style=\"text-align: right;\">0</td><td style=\"text-align: right;\">0</td><td style=\"text-align: right;\">0</td><td style=\"text-align: right;\">0</td><td style=\"text-align: right;\">0</td><td style=\"text-align: right;\">0</td><td style=\"text-align: right;\">0</td><td style=\"text-align: right;\">0</td><td style=\"text-align: right;\">0</td><td style=\"text-align: right;\">0</td><td style=\"text-align: right;\">0</td><td style=\"text-align: right;\">0</td><td style=\"text-align: right;\">0</td><td style=\"text-align: right;\">0</td><td style=\"text-align: right;\">0</td><td style=\"text-align: right;\">0</td><td style=\"text-align: right;\">0</td><td style=\"text-align: right;\">0</td><td style=\"text-align: right;\">0</td><td style=\"text-align: right;\">0</td><td style=\"text-align: right;\">0</td><td style=\"text-align: right;\">0</td><td style=\"text-align: right;\">0</td><td style=\"text-align: right;\">0</td><td style=\"text-align: right;\">0</td><td style=\"text-align: right;\">0</td><td style=\"text-align: right;\">0</td><td style=\"text-align: right;\">0</td><td style=\"text-align: right;\">0</td><td style=\"text-align: right;\">0</td><td style=\"text-align: right;\">0</td><td style=\"text-align: right;\">0</td><td style=\"text-align: right;\">0</td><td style=\"text-align: right;\">0</td><td style=\"text-align: right;\">0</td><td style=\"text-align: right;\">0</td><td style=\"text-align: right;\">0</td><td style=\"text-align: right;\">0</td><td style=\"text-align: right;\">0</td><td style=\"text-align: right;\">0</td><td style=\"text-align: right;\">0</td><td style=\"text-align: right;\">0</td><td style=\"text-align: right;\">0</td><td style=\"text-align: right;\">1</td><td style=\"text-align: right;\">0</td></tr>\n",
       "<tr><td style=\"text-align: right;\">4</td><td style=\"text-align: right;\">0</td><td style=\"text-align: right;\">199</td><td style=\"text-align: right;\"> 420</td><td style=\"text-align: right;\">0</td><td style=\"text-align: right;\">0</td><td style=\"text-align: right;\">0</td><td style=\"text-align: right;\">0</td><td style=\"text-align: right;\">0</td><td style=\"text-align: right;\">1</td><td style=\"text-align: right;\">0</td><td style=\"text-align: right;\">0</td><td style=\"text-align: right;\">0</td><td style=\"text-align: right;\">0</td><td style=\"text-align: right;\">0</td><td style=\"text-align: right;\">0</td><td style=\"text-align: right;\">0</td><td style=\"text-align: right;\">0</td><td style=\"text-align: right;\">0</td><td style=\"text-align: right;\">0</td><td style=\"text-align: right;\"> 30</td><td style=\"text-align: right;\">32</td><td style=\"text-align: right;\">0  </td><td style=\"text-align: right;\">0  </td><td style=\"text-align: right;\">0</td><td style=\"text-align: right;\">0</td><td style=\"text-align: right;\">1   </td><td style=\"text-align: right;\">0   </td><td style=\"text-align: right;\">0.09</td><td style=\"text-align: right;\">255</td><td style=\"text-align: right;\">255</td><td style=\"text-align: right;\">1   </td><td style=\"text-align: right;\">0   </td><td style=\"text-align: right;\">0   </td><td style=\"text-align: right;\">0   </td><td style=\"text-align: right;\">0   </td><td style=\"text-align: right;\">0   </td><td style=\"text-align: right;\">0   </td><td style=\"text-align: right;\">0   </td><td>normal</td><td style=\"text-align: right;\">21</td><td style=\"text-align: right;\">0</td><td style=\"text-align: right;\">1</td><td style=\"text-align: right;\">0</td><td style=\"text-align: right;\">0</td><td style=\"text-align: right;\">0</td><td style=\"text-align: right;\">0</td><td style=\"text-align: right;\">0</td><td style=\"text-align: right;\">0</td><td style=\"text-align: right;\">0</td><td style=\"text-align: right;\">0</td><td style=\"text-align: right;\">0</td><td style=\"text-align: right;\">0</td><td style=\"text-align: right;\">0</td><td style=\"text-align: right;\">0</td><td style=\"text-align: right;\">0</td><td style=\"text-align: right;\">0</td><td style=\"text-align: right;\">0</td><td style=\"text-align: right;\">0</td><td style=\"text-align: right;\">0</td><td style=\"text-align: right;\">0</td><td style=\"text-align: right;\">0</td><td style=\"text-align: right;\">0</td><td style=\"text-align: right;\">0</td><td style=\"text-align: right;\">0</td><td style=\"text-align: right;\">0</td><td style=\"text-align: right;\">0</td><td style=\"text-align: right;\">0</td><td style=\"text-align: right;\">1</td><td style=\"text-align: right;\">0</td><td style=\"text-align: right;\">0</td><td style=\"text-align: right;\">0</td><td style=\"text-align: right;\">0</td><td style=\"text-align: right;\">0</td><td style=\"text-align: right;\">0</td><td style=\"text-align: right;\">0</td><td style=\"text-align: right;\">0</td><td style=\"text-align: right;\">0</td><td style=\"text-align: right;\">0</td><td style=\"text-align: right;\">0</td><td style=\"text-align: right;\">0</td><td style=\"text-align: right;\">0</td><td style=\"text-align: right;\">0</td><td style=\"text-align: right;\">0</td><td style=\"text-align: right;\">0</td><td style=\"text-align: right;\">0</td><td style=\"text-align: right;\">0</td><td style=\"text-align: right;\">0</td><td style=\"text-align: right;\">0</td><td style=\"text-align: right;\">0</td><td style=\"text-align: right;\">0</td><td style=\"text-align: right;\">0</td><td style=\"text-align: right;\">0</td><td style=\"text-align: right;\">0</td><td style=\"text-align: right;\">0</td><td style=\"text-align: right;\">0</td><td style=\"text-align: right;\">0</td><td style=\"text-align: right;\">0</td><td style=\"text-align: right;\">0</td><td style=\"text-align: right;\">0</td><td style=\"text-align: right;\">0</td><td style=\"text-align: right;\">0</td><td style=\"text-align: right;\">0</td><td style=\"text-align: right;\">0</td><td style=\"text-align: right;\">0</td><td style=\"text-align: right;\">0</td><td style=\"text-align: right;\">0</td><td style=\"text-align: right;\">0</td><td style=\"text-align: right;\">0</td><td style=\"text-align: right;\">0</td><td style=\"text-align: right;\">0</td><td style=\"text-align: right;\">0</td><td style=\"text-align: right;\">0</td><td style=\"text-align: right;\">0</td><td style=\"text-align: right;\">0</td><td style=\"text-align: right;\">0</td><td style=\"text-align: right;\">0</td><td style=\"text-align: right;\">0</td><td style=\"text-align: right;\">0</td><td style=\"text-align: right;\">0</td><td style=\"text-align: right;\">0</td><td style=\"text-align: right;\">0</td><td style=\"text-align: right;\">0</td><td style=\"text-align: right;\">1</td><td style=\"text-align: right;\">0</td></tr>\n",
       "</tbody>\n",
       "</table>"
      ],
      "text/plain": [
       "<IPython.core.display.HTML object>"
      ]
     },
     "metadata": {},
     "output_type": "display_data"
    },
    {
     "data": {
      "text/html": [
       "<table>\n",
       "<tbody>\n",
       "<tr><td style=\"text-align: right;\">0</td><td style=\"text-align: right;\">0</td><td style=\"text-align: right;\">    0</td><td style=\"text-align: right;\"> 0</td><td style=\"text-align: right;\">0</td><td style=\"text-align: right;\">0</td><td style=\"text-align: right;\">0</td><td style=\"text-align: right;\">0</td><td style=\"text-align: right;\">0</td><td style=\"text-align: right;\">0</td><td style=\"text-align: right;\">0</td><td style=\"text-align: right;\">0</td><td style=\"text-align: right;\">0</td><td style=\"text-align: right;\">0</td><td style=\"text-align: right;\">0</td><td style=\"text-align: right;\">0</td><td style=\"text-align: right;\">0</td><td style=\"text-align: right;\">0</td><td style=\"text-align: right;\">0</td><td style=\"text-align: right;\">0</td><td style=\"text-align: right;\">229</td><td style=\"text-align: right;\">10</td><td style=\"text-align: right;\">0</td><td style=\"text-align: right;\">0   </td><td style=\"text-align: right;\">1</td><td style=\"text-align: right;\">1  </td><td style=\"text-align: right;\">0.04</td><td style=\"text-align: right;\">0.06</td><td style=\"text-align: right;\">0   </td><td style=\"text-align: right;\">255</td><td style=\"text-align: right;\">10</td><td style=\"text-align: right;\">0.04</td><td style=\"text-align: right;\">0.06</td><td style=\"text-align: right;\">0   </td><td style=\"text-align: right;\">0   </td><td style=\"text-align: right;\">0</td><td style=\"text-align: right;\">0</td><td style=\"text-align: right;\">1   </td><td style=\"text-align: right;\">1   </td><td>normal</td><td style=\"text-align: right;\">21</td><td style=\"text-align: right;\">0</td><td style=\"text-align: right;\">1</td><td style=\"text-align: right;\">0</td><td style=\"text-align: right;\">0</td><td style=\"text-align: right;\">0</td><td style=\"text-align: right;\">0</td><td style=\"text-align: right;\">0</td><td style=\"text-align: right;\">0</td><td style=\"text-align: right;\">0</td><td style=\"text-align: right;\">0</td><td style=\"text-align: right;\">0</td><td style=\"text-align: right;\">0</td><td style=\"text-align: right;\">0</td><td style=\"text-align: right;\">0</td><td style=\"text-align: right;\">0</td><td style=\"text-align: right;\">0</td><td style=\"text-align: right;\">0</td><td style=\"text-align: right;\">0</td><td style=\"text-align: right;\">0</td><td style=\"text-align: right;\">0</td><td style=\"text-align: right;\">0</td><td style=\"text-align: right;\">0</td><td style=\"text-align: right;\">0</td><td style=\"text-align: right;\">0</td><td style=\"text-align: right;\">0</td><td style=\"text-align: right;\">0</td><td style=\"text-align: right;\">0</td><td style=\"text-align: right;\">0</td><td style=\"text-align: right;\">0</td><td style=\"text-align: right;\">0</td><td style=\"text-align: right;\">0</td><td style=\"text-align: right;\">0</td><td style=\"text-align: right;\">0</td><td style=\"text-align: right;\">0</td><td style=\"text-align: right;\">0</td><td style=\"text-align: right;\">0</td><td style=\"text-align: right;\">0</td><td style=\"text-align: right;\">0</td><td style=\"text-align: right;\">0</td><td style=\"text-align: right;\">0</td><td style=\"text-align: right;\">0</td><td style=\"text-align: right;\">0</td><td style=\"text-align: right;\">0</td><td style=\"text-align: right;\">0</td><td style=\"text-align: right;\">0</td><td style=\"text-align: right;\">0</td><td style=\"text-align: right;\">0</td><td style=\"text-align: right;\">0</td><td style=\"text-align: right;\">1</td><td style=\"text-align: right;\">0</td><td style=\"text-align: right;\">0</td><td style=\"text-align: right;\">0</td><td style=\"text-align: right;\">0</td><td style=\"text-align: right;\">0</td><td style=\"text-align: right;\">0</td><td style=\"text-align: right;\">0</td><td style=\"text-align: right;\">0</td><td style=\"text-align: right;\">0</td><td style=\"text-align: right;\">0</td><td style=\"text-align: right;\">0</td><td style=\"text-align: right;\">0</td><td style=\"text-align: right;\">0</td><td style=\"text-align: right;\">0</td><td style=\"text-align: right;\">0</td><td style=\"text-align: right;\">0</td><td style=\"text-align: right;\">0</td><td style=\"text-align: right;\">0</td><td style=\"text-align: right;\">1</td><td style=\"text-align: right;\">0</td><td style=\"text-align: right;\">0</td><td style=\"text-align: right;\">0</td><td style=\"text-align: right;\">0</td><td style=\"text-align: right;\">0</td><td style=\"text-align: right;\">0</td><td style=\"text-align: right;\">0</td><td style=\"text-align: right;\">0</td><td style=\"text-align: right;\">0</td><td style=\"text-align: right;\">0</td><td style=\"text-align: right;\">0</td><td style=\"text-align: right;\">0</td><td style=\"text-align: right;\">0</td><td style=\"text-align: right;\">0</td><td style=\"text-align: right;\">0</td><td style=\"text-align: right;\">0</td></tr>\n",
       "<tr><td style=\"text-align: right;\">1</td><td style=\"text-align: right;\">0</td><td style=\"text-align: right;\">    0</td><td style=\"text-align: right;\"> 0</td><td style=\"text-align: right;\">0</td><td style=\"text-align: right;\">0</td><td style=\"text-align: right;\">0</td><td style=\"text-align: right;\">0</td><td style=\"text-align: right;\">0</td><td style=\"text-align: right;\">0</td><td style=\"text-align: right;\">0</td><td style=\"text-align: right;\">0</td><td style=\"text-align: right;\">0</td><td style=\"text-align: right;\">0</td><td style=\"text-align: right;\">0</td><td style=\"text-align: right;\">0</td><td style=\"text-align: right;\">0</td><td style=\"text-align: right;\">0</td><td style=\"text-align: right;\">0</td><td style=\"text-align: right;\">0</td><td style=\"text-align: right;\">136</td><td style=\"text-align: right;\"> 1</td><td style=\"text-align: right;\">0</td><td style=\"text-align: right;\">0   </td><td style=\"text-align: right;\">1</td><td style=\"text-align: right;\">1  </td><td style=\"text-align: right;\">0.01</td><td style=\"text-align: right;\">0.06</td><td style=\"text-align: right;\">0   </td><td style=\"text-align: right;\">255</td><td style=\"text-align: right;\"> 1</td><td style=\"text-align: right;\">0   </td><td style=\"text-align: right;\">0.06</td><td style=\"text-align: right;\">0   </td><td style=\"text-align: right;\">0   </td><td style=\"text-align: right;\">0</td><td style=\"text-align: right;\">0</td><td style=\"text-align: right;\">1   </td><td style=\"text-align: right;\">1   </td><td>normal</td><td style=\"text-align: right;\">21</td><td style=\"text-align: right;\">0</td><td style=\"text-align: right;\">1</td><td style=\"text-align: right;\">0</td><td style=\"text-align: right;\">0</td><td style=\"text-align: right;\">0</td><td style=\"text-align: right;\">0</td><td style=\"text-align: right;\">0</td><td style=\"text-align: right;\">0</td><td style=\"text-align: right;\">0</td><td style=\"text-align: right;\">0</td><td style=\"text-align: right;\">0</td><td style=\"text-align: right;\">0</td><td style=\"text-align: right;\">0</td><td style=\"text-align: right;\">0</td><td style=\"text-align: right;\">0</td><td style=\"text-align: right;\">0</td><td style=\"text-align: right;\">0</td><td style=\"text-align: right;\">0</td><td style=\"text-align: right;\">0</td><td style=\"text-align: right;\">0</td><td style=\"text-align: right;\">0</td><td style=\"text-align: right;\">0</td><td style=\"text-align: right;\">0</td><td style=\"text-align: right;\">0</td><td style=\"text-align: right;\">0</td><td style=\"text-align: right;\">0</td><td style=\"text-align: right;\">0</td><td style=\"text-align: right;\">0</td><td style=\"text-align: right;\">0</td><td style=\"text-align: right;\">0</td><td style=\"text-align: right;\">0</td><td style=\"text-align: right;\">0</td><td style=\"text-align: right;\">0</td><td style=\"text-align: right;\">0</td><td style=\"text-align: right;\">0</td><td style=\"text-align: right;\">0</td><td style=\"text-align: right;\">0</td><td style=\"text-align: right;\">0</td><td style=\"text-align: right;\">0</td><td style=\"text-align: right;\">0</td><td style=\"text-align: right;\">0</td><td style=\"text-align: right;\">0</td><td style=\"text-align: right;\">0</td><td style=\"text-align: right;\">0</td><td style=\"text-align: right;\">0</td><td style=\"text-align: right;\">0</td><td style=\"text-align: right;\">0</td><td style=\"text-align: right;\">0</td><td style=\"text-align: right;\">1</td><td style=\"text-align: right;\">0</td><td style=\"text-align: right;\">0</td><td style=\"text-align: right;\">0</td><td style=\"text-align: right;\">0</td><td style=\"text-align: right;\">0</td><td style=\"text-align: right;\">0</td><td style=\"text-align: right;\">0</td><td style=\"text-align: right;\">0</td><td style=\"text-align: right;\">0</td><td style=\"text-align: right;\">0</td><td style=\"text-align: right;\">0</td><td style=\"text-align: right;\">0</td><td style=\"text-align: right;\">0</td><td style=\"text-align: right;\">0</td><td style=\"text-align: right;\">0</td><td style=\"text-align: right;\">0</td><td style=\"text-align: right;\">0</td><td style=\"text-align: right;\">0</td><td style=\"text-align: right;\">1</td><td style=\"text-align: right;\">0</td><td style=\"text-align: right;\">0</td><td style=\"text-align: right;\">0</td><td style=\"text-align: right;\">0</td><td style=\"text-align: right;\">0</td><td style=\"text-align: right;\">0</td><td style=\"text-align: right;\">0</td><td style=\"text-align: right;\">0</td><td style=\"text-align: right;\">0</td><td style=\"text-align: right;\">0</td><td style=\"text-align: right;\">0</td><td style=\"text-align: right;\">0</td><td style=\"text-align: right;\">0</td><td style=\"text-align: right;\">0</td><td style=\"text-align: right;\">0</td><td style=\"text-align: right;\">0</td></tr>\n",
       "<tr><td style=\"text-align: right;\">2</td><td style=\"text-align: right;\">2</td><td style=\"text-align: right;\">12983</td><td style=\"text-align: right;\"> 0</td><td style=\"text-align: right;\">0</td><td style=\"text-align: right;\">0</td><td style=\"text-align: right;\">0</td><td style=\"text-align: right;\">0</td><td style=\"text-align: right;\">0</td><td style=\"text-align: right;\">0</td><td style=\"text-align: right;\">0</td><td style=\"text-align: right;\">0</td><td style=\"text-align: right;\">0</td><td style=\"text-align: right;\">0</td><td style=\"text-align: right;\">0</td><td style=\"text-align: right;\">0</td><td style=\"text-align: right;\">0</td><td style=\"text-align: right;\">0</td><td style=\"text-align: right;\">0</td><td style=\"text-align: right;\">0</td><td style=\"text-align: right;\">  1</td><td style=\"text-align: right;\"> 1</td><td style=\"text-align: right;\">0</td><td style=\"text-align: right;\">0   </td><td style=\"text-align: right;\">0</td><td style=\"text-align: right;\">0  </td><td style=\"text-align: right;\">1   </td><td style=\"text-align: right;\">0   </td><td style=\"text-align: right;\">0   </td><td style=\"text-align: right;\">134</td><td style=\"text-align: right;\">86</td><td style=\"text-align: right;\">0.61</td><td style=\"text-align: right;\">0.04</td><td style=\"text-align: right;\">0.61</td><td style=\"text-align: right;\">0.02</td><td style=\"text-align: right;\">0</td><td style=\"text-align: right;\">0</td><td style=\"text-align: right;\">0   </td><td style=\"text-align: right;\">0   </td><td>attack</td><td style=\"text-align: right;\">21</td><td style=\"text-align: right;\">0</td><td style=\"text-align: right;\">1</td><td style=\"text-align: right;\">0</td><td style=\"text-align: right;\">0</td><td style=\"text-align: right;\">0</td><td style=\"text-align: right;\">0</td><td style=\"text-align: right;\">0</td><td style=\"text-align: right;\">0</td><td style=\"text-align: right;\">0</td><td style=\"text-align: right;\">0</td><td style=\"text-align: right;\">0</td><td style=\"text-align: right;\">0</td><td style=\"text-align: right;\">0</td><td style=\"text-align: right;\">0</td><td style=\"text-align: right;\">0</td><td style=\"text-align: right;\">0</td><td style=\"text-align: right;\">0</td><td style=\"text-align: right;\">0</td><td style=\"text-align: right;\">0</td><td style=\"text-align: right;\">0</td><td style=\"text-align: right;\">0</td><td style=\"text-align: right;\">0</td><td style=\"text-align: right;\">1</td><td style=\"text-align: right;\">0</td><td style=\"text-align: right;\">0</td><td style=\"text-align: right;\">0</td><td style=\"text-align: right;\">0</td><td style=\"text-align: right;\">0</td><td style=\"text-align: right;\">0</td><td style=\"text-align: right;\">0</td><td style=\"text-align: right;\">0</td><td style=\"text-align: right;\">0</td><td style=\"text-align: right;\">0</td><td style=\"text-align: right;\">0</td><td style=\"text-align: right;\">0</td><td style=\"text-align: right;\">0</td><td style=\"text-align: right;\">0</td><td style=\"text-align: right;\">0</td><td style=\"text-align: right;\">0</td><td style=\"text-align: right;\">0</td><td style=\"text-align: right;\">0</td><td style=\"text-align: right;\">0</td><td style=\"text-align: right;\">0</td><td style=\"text-align: right;\">0</td><td style=\"text-align: right;\">0</td><td style=\"text-align: right;\">0</td><td style=\"text-align: right;\">0</td><td style=\"text-align: right;\">0</td><td style=\"text-align: right;\">0</td><td style=\"text-align: right;\">0</td><td style=\"text-align: right;\">0</td><td style=\"text-align: right;\">0</td><td style=\"text-align: right;\">0</td><td style=\"text-align: right;\">0</td><td style=\"text-align: right;\">0</td><td style=\"text-align: right;\">0</td><td style=\"text-align: right;\">0</td><td style=\"text-align: right;\">0</td><td style=\"text-align: right;\">0</td><td style=\"text-align: right;\">0</td><td style=\"text-align: right;\">0</td><td style=\"text-align: right;\">0</td><td style=\"text-align: right;\">0</td><td style=\"text-align: right;\">0</td><td style=\"text-align: right;\">0</td><td style=\"text-align: right;\">0</td><td style=\"text-align: right;\">0</td><td style=\"text-align: right;\">0</td><td style=\"text-align: right;\">0</td><td style=\"text-align: right;\">0</td><td style=\"text-align: right;\">0</td><td style=\"text-align: right;\">0</td><td style=\"text-align: right;\">0</td><td style=\"text-align: right;\">0</td><td style=\"text-align: right;\">0</td><td style=\"text-align: right;\">1</td><td style=\"text-align: right;\">0</td><td style=\"text-align: right;\">0</td><td style=\"text-align: right;\">0</td><td style=\"text-align: right;\">0</td><td style=\"text-align: right;\">0</td><td style=\"text-align: right;\">0</td><td style=\"text-align: right;\">0</td><td style=\"text-align: right;\">0</td></tr>\n",
       "<tr><td style=\"text-align: right;\">3</td><td style=\"text-align: right;\">0</td><td style=\"text-align: right;\">   20</td><td style=\"text-align: right;\"> 0</td><td style=\"text-align: right;\">0</td><td style=\"text-align: right;\">0</td><td style=\"text-align: right;\">0</td><td style=\"text-align: right;\">0</td><td style=\"text-align: right;\">0</td><td style=\"text-align: right;\">0</td><td style=\"text-align: right;\">0</td><td style=\"text-align: right;\">0</td><td style=\"text-align: right;\">0</td><td style=\"text-align: right;\">0</td><td style=\"text-align: right;\">0</td><td style=\"text-align: right;\">0</td><td style=\"text-align: right;\">0</td><td style=\"text-align: right;\">0</td><td style=\"text-align: right;\">0</td><td style=\"text-align: right;\">0</td><td style=\"text-align: right;\">  1</td><td style=\"text-align: right;\">65</td><td style=\"text-align: right;\">0</td><td style=\"text-align: right;\">0   </td><td style=\"text-align: right;\">0</td><td style=\"text-align: right;\">0  </td><td style=\"text-align: right;\">1   </td><td style=\"text-align: right;\">0   </td><td style=\"text-align: right;\">1   </td><td style=\"text-align: right;\">  3</td><td style=\"text-align: right;\">57</td><td style=\"text-align: right;\">1   </td><td style=\"text-align: right;\">0   </td><td style=\"text-align: right;\">1   </td><td style=\"text-align: right;\">0.28</td><td style=\"text-align: right;\">0</td><td style=\"text-align: right;\">0</td><td style=\"text-align: right;\">0   </td><td style=\"text-align: right;\">0   </td><td>normal</td><td style=\"text-align: right;\">15</td><td style=\"text-align: right;\">1</td><td style=\"text-align: right;\">0</td><td style=\"text-align: right;\">0</td><td style=\"text-align: right;\">0</td><td style=\"text-align: right;\">0</td><td style=\"text-align: right;\">0</td><td style=\"text-align: right;\">0</td><td style=\"text-align: right;\">0</td><td style=\"text-align: right;\">0</td><td style=\"text-align: right;\">0</td><td style=\"text-align: right;\">0</td><td style=\"text-align: right;\">0</td><td style=\"text-align: right;\">0</td><td style=\"text-align: right;\">0</td><td style=\"text-align: right;\">0</td><td style=\"text-align: right;\">0</td><td style=\"text-align: right;\">1</td><td style=\"text-align: right;\">0</td><td style=\"text-align: right;\">0</td><td style=\"text-align: right;\">0</td><td style=\"text-align: right;\">0</td><td style=\"text-align: right;\">0</td><td style=\"text-align: right;\">0</td><td style=\"text-align: right;\">0</td><td style=\"text-align: right;\">0</td><td style=\"text-align: right;\">0</td><td style=\"text-align: right;\">0</td><td style=\"text-align: right;\">0</td><td style=\"text-align: right;\">0</td><td style=\"text-align: right;\">0</td><td style=\"text-align: right;\">0</td><td style=\"text-align: right;\">0</td><td style=\"text-align: right;\">0</td><td style=\"text-align: right;\">0</td><td style=\"text-align: right;\">0</td><td style=\"text-align: right;\">0</td><td style=\"text-align: right;\">0</td><td style=\"text-align: right;\">0</td><td style=\"text-align: right;\">0</td><td style=\"text-align: right;\">0</td><td style=\"text-align: right;\">0</td><td style=\"text-align: right;\">0</td><td style=\"text-align: right;\">0</td><td style=\"text-align: right;\">0</td><td style=\"text-align: right;\">0</td><td style=\"text-align: right;\">0</td><td style=\"text-align: right;\">0</td><td style=\"text-align: right;\">0</td><td style=\"text-align: right;\">0</td><td style=\"text-align: right;\">0</td><td style=\"text-align: right;\">0</td><td style=\"text-align: right;\">0</td><td style=\"text-align: right;\">0</td><td style=\"text-align: right;\">0</td><td style=\"text-align: right;\">0</td><td style=\"text-align: right;\">0</td><td style=\"text-align: right;\">0</td><td style=\"text-align: right;\">0</td><td style=\"text-align: right;\">0</td><td style=\"text-align: right;\">0</td><td style=\"text-align: right;\">0</td><td style=\"text-align: right;\">0</td><td style=\"text-align: right;\">0</td><td style=\"text-align: right;\">0</td><td style=\"text-align: right;\">0</td><td style=\"text-align: right;\">0</td><td style=\"text-align: right;\">0</td><td style=\"text-align: right;\">0</td><td style=\"text-align: right;\">0</td><td style=\"text-align: right;\">0</td><td style=\"text-align: right;\">0</td><td style=\"text-align: right;\">0</td><td style=\"text-align: right;\">0</td><td style=\"text-align: right;\">0</td><td style=\"text-align: right;\">0</td><td style=\"text-align: right;\">1</td><td style=\"text-align: right;\">0</td><td style=\"text-align: right;\">0</td><td style=\"text-align: right;\">0</td><td style=\"text-align: right;\">0</td><td style=\"text-align: right;\">0</td><td style=\"text-align: right;\">0</td><td style=\"text-align: right;\">0</td><td style=\"text-align: right;\">0</td></tr>\n",
       "<tr><td style=\"text-align: right;\">4</td><td style=\"text-align: right;\">1</td><td style=\"text-align: right;\">    0</td><td style=\"text-align: right;\">15</td><td style=\"text-align: right;\">0</td><td style=\"text-align: right;\">0</td><td style=\"text-align: right;\">0</td><td style=\"text-align: right;\">0</td><td style=\"text-align: right;\">0</td><td style=\"text-align: right;\">0</td><td style=\"text-align: right;\">0</td><td style=\"text-align: right;\">0</td><td style=\"text-align: right;\">0</td><td style=\"text-align: right;\">0</td><td style=\"text-align: right;\">0</td><td style=\"text-align: right;\">0</td><td style=\"text-align: right;\">0</td><td style=\"text-align: right;\">0</td><td style=\"text-align: right;\">0</td><td style=\"text-align: right;\">0</td><td style=\"text-align: right;\">  1</td><td style=\"text-align: right;\"> 8</td><td style=\"text-align: right;\">0</td><td style=\"text-align: right;\">0.12</td><td style=\"text-align: right;\">1</td><td style=\"text-align: right;\">0.5</td><td style=\"text-align: right;\">1   </td><td style=\"text-align: right;\">0   </td><td style=\"text-align: right;\">0.75</td><td style=\"text-align: right;\"> 29</td><td style=\"text-align: right;\">86</td><td style=\"text-align: right;\">0.31</td><td style=\"text-align: right;\">0.17</td><td style=\"text-align: right;\">0.03</td><td style=\"text-align: right;\">0.02</td><td style=\"text-align: right;\">0</td><td style=\"text-align: right;\">0</td><td style=\"text-align: right;\">0.83</td><td style=\"text-align: right;\">0.71</td><td>normal</td><td style=\"text-align: right;\">11</td><td style=\"text-align: right;\">0</td><td style=\"text-align: right;\">1</td><td style=\"text-align: right;\">0</td><td style=\"text-align: right;\">0</td><td style=\"text-align: right;\">0</td><td style=\"text-align: right;\">0</td><td style=\"text-align: right;\">0</td><td style=\"text-align: right;\">0</td><td style=\"text-align: right;\">0</td><td style=\"text-align: right;\">0</td><td style=\"text-align: right;\">0</td><td style=\"text-align: right;\">0</td><td style=\"text-align: right;\">0</td><td style=\"text-align: right;\">0</td><td style=\"text-align: right;\">0</td><td style=\"text-align: right;\">0</td><td style=\"text-align: right;\">0</td><td style=\"text-align: right;\">0</td><td style=\"text-align: right;\">0</td><td style=\"text-align: right;\">0</td><td style=\"text-align: right;\">0</td><td style=\"text-align: right;\">0</td><td style=\"text-align: right;\">0</td><td style=\"text-align: right;\">0</td><td style=\"text-align: right;\">0</td><td style=\"text-align: right;\">0</td><td style=\"text-align: right;\">0</td><td style=\"text-align: right;\">0</td><td style=\"text-align: right;\">0</td><td style=\"text-align: right;\">0</td><td style=\"text-align: right;\">0</td><td style=\"text-align: right;\">0</td><td style=\"text-align: right;\">0</td><td style=\"text-align: right;\">0</td><td style=\"text-align: right;\">0</td><td style=\"text-align: right;\">0</td><td style=\"text-align: right;\">0</td><td style=\"text-align: right;\">0</td><td style=\"text-align: right;\">0</td><td style=\"text-align: right;\">0</td><td style=\"text-align: right;\">0</td><td style=\"text-align: right;\">0</td><td style=\"text-align: right;\">0</td><td style=\"text-align: right;\">0</td><td style=\"text-align: right;\">0</td><td style=\"text-align: right;\">0</td><td style=\"text-align: right;\">0</td><td style=\"text-align: right;\">0</td><td style=\"text-align: right;\">0</td><td style=\"text-align: right;\">0</td><td style=\"text-align: right;\">0</td><td style=\"text-align: right;\">0</td><td style=\"text-align: right;\">0</td><td style=\"text-align: right;\">0</td><td style=\"text-align: right;\">0</td><td style=\"text-align: right;\">0</td><td style=\"text-align: right;\">0</td><td style=\"text-align: right;\">0</td><td style=\"text-align: right;\">1</td><td style=\"text-align: right;\">0</td><td style=\"text-align: right;\">0</td><td style=\"text-align: right;\">0</td><td style=\"text-align: right;\">0</td><td style=\"text-align: right;\">0</td><td style=\"text-align: right;\">0</td><td style=\"text-align: right;\">0</td><td style=\"text-align: right;\">0</td><td style=\"text-align: right;\">0</td><td style=\"text-align: right;\">1</td><td style=\"text-align: right;\">0</td><td style=\"text-align: right;\">0</td><td style=\"text-align: right;\">0</td><td style=\"text-align: right;\">0</td><td style=\"text-align: right;\">0</td><td style=\"text-align: right;\">0</td><td style=\"text-align: right;\">0</td><td style=\"text-align: right;\">0</td><td style=\"text-align: right;\">0</td><td style=\"text-align: right;\">0</td><td style=\"text-align: right;\">0</td><td style=\"text-align: right;\">0</td><td style=\"text-align: right;\">0</td><td style=\"text-align: right;\">0</td><td style=\"text-align: right;\">0</td></tr>\n",
       "</tbody>\n",
       "</table>"
      ],
      "text/plain": [
       "<IPython.core.display.HTML object>"
      ]
     },
     "metadata": {},
     "output_type": "display_data"
    }
   ],
   "source": [
    "        \n",
    "# Get the Label column adjusted\n",
    "traindata.loc[(dataset['labels'] !='normal'),'labels'] = 'attack'\n",
    "traindata.loc[(dataset['labels'] =='normal'),'labels'] = 'normal'\n",
    "testdata.loc[(dataset['labels'] !='normal'),'labels'] = 'attack'\n",
    "testdata.loc[(dataset['labels'] =='normal'),'labels'] = 'normal'\n",
    "\n",
    "# A list of categorical columns into a variable, categorical_columns for training data\n",
    "CategoricalColumnsTrain=['protocol_type', 'service', 'flag']\n",
    "# A list of categorical columns into a variable, categorical_columns for test data\n",
    "CategoricalColumnsTest=['protocol_type', 'service', 'flag'] \n",
    " # Create a 2D numpy array of the categorical values\n",
    "TrainDataCategoricalValues = traindata[CategoricalColumnsTrain]\n",
    "display(HTML(tabulate.tabulate(TrainDataCategoricalValues.head(), tablefmt='html')))\n",
    "TestDataCategoricalValues = testdata[CategoricalColumnsTest]\n",
    "display(HTML(tabulate.tabulate(TestDataCategoricalValues.head(), tablefmt='html')))\n",
    "\n",
    "# Dummy column creation process\n",
    "# Create names for the dummy protocol type coumns\n",
    "UniqueProtocolName=sorted(traindata.protocol_type.unique())\n",
    "ColumnNameOne = 'Protocol_type_'\n",
    "UniqueProtocolNameList=[ColumnNameOne + x for x in UniqueProtocolName]\n",
    "# Create names for the dummy service columns\n",
    "UniqueServiceName=sorted(traindata.service.unique())\n",
    "ColumnNameTwo = 'service_'\n",
    "UniqueServiceNameList=[ColumnNameTwo + x for x in UniqueServiceName]\n",
    "# Create names for the dummy flag coulmns\n",
    "UniqueFlagValue=sorted(traindata.flag.unique())\n",
    "ColumnNameThree = 'flag_'\n",
    "UniqueFlagValueList=[ColumnNameThree + x for x in UniqueFlagValue]\n",
    "# Join all the dummy columns name\n",
    "TrainDummyColumnList=UniqueProtocolNameList + UniqueServiceNameList + UniqueFlagValueList\n",
    "print(\"~~~~~~~~~~~~~~~~~~~Training Data Set Dummy Column List~~~~~~~~~~~~~~~~~~~\")\n",
    "print (TrainDummyColumnList)\n",
    "\n",
    "# do same for test set\n",
    "TestUniqueProtocolName=sorted(testdata.protocol_type.unique())\n",
    "TestUniqueProtocolNameList=[ColumnNameOne + x for x in TestUniqueProtocolName]\n",
    "TestUniqueServiceName=sorted(testdata.service.unique())\n",
    "TestUniqueServiceNameList=[ColumnNameTwo + x for x in TestUniqueServiceName]\n",
    "TestUniqueFlagValue=sorted(traindata.flag.unique())\n",
    "TestUniqueFlagValueList=[ColumnNameThree + x for x in TestUniqueFlagValue]\n",
    "TestDummyColumnList=TestUniqueProtocolNameList + TestUniqueServiceNameList + TestUniqueFlagValueList\n",
    "print(\"~~~~~~~~~~~~~~~~~~~Testing Data Set Dummy Column List~~~~~~~~~~~~~~~~~~~\")\n",
    "print (TestDummyColumnList)\n",
    "\n",
    "# apply lable encoder to the created Dummy column values\n",
    "EncodedTrainDataCategoricalValues=TrainDataCategoricalValues.apply(LabelEncoder().fit_transform)\n",
    "display(HTML(tabulate.tabulate(EncodedTrainDataCategoricalValues.head(), tablefmt='html')))\n",
    "# perform same on the test set\n",
    "EncodedTestDataCategoricalValues=TestDataCategoricalValues.apply(LabelEncoder().fit_transform)\n",
    "display(HTML(tabulate.tabulate(EncodedTestDataCategoricalValues.head(), tablefmt='html')))\n",
    "\n",
    "# Apply one hot encoder to the dummy data\n",
    "OHEncoder = OneHotEncoder()\n",
    "EncodedTrainDataCategoricalValuesOHE = OHEncoder.fit_transform(EncodedTrainDataCategoricalValues)\n",
    "TrainCategoriesData = pandas.DataFrame(EncodedTrainDataCategoricalValuesOHE.toarray(),columns=TrainDummyColumnList)\n",
    "# Perform Same on the Test set\n",
    "EncodedTestDataCategoricalValuesOHE = OHEncoder.fit_transform(EncodedTestDataCategoricalValues)\n",
    "TestCategoriesData = pandas.DataFrame(EncodedTestDataCategoricalValuesOHE.toarray(),columns=TestDummyColumnList)\n",
    "\n",
    "TrainCategoriesData.head()\n",
    "\n",
    "TraingServiceList=traindata['service'].tolist()\n",
    "TestServiceList= testdata['service'].tolist()\n",
    "MissingServicesList=list(set(TraingServiceList) - set(TestServiceList))\n",
    "ServiceLable = 'service_'\n",
    "MissingServicesList=[ServiceLable + x for x in MissingServicesList]\n",
    "MissingServicesList\n",
    "\n",
    "for col in MissingServicesList:\n",
    "    TestCategoriesData[col] = 0\n",
    "\n",
    "TestCategoriesData.shape\n",
    "# Joing the encoded data to original dataframe \n",
    "NewTrainingData=traindata.join(TrainCategoriesData)\n",
    "NewTrainingData.drop('flag', axis=1, inplace=True)\n",
    "NewTrainingData.drop('protocol_type', axis=1, inplace=True)\n",
    "NewTrainingData.drop('service', axis=1, inplace=True)\n",
    "# Perform Same action on Test data\n",
    "NewTestData=testdata.join(TestCategoriesData)\n",
    "NewTestData.drop('flag', axis=1, inplace=True)\n",
    "NewTestData.drop('protocol_type', axis=1, inplace=True)\n",
    "NewTestData.drop('service', axis=1, inplace=True)\n",
    "print(NewTrainingData.shape)\n",
    "print(NewTestData.shape)\n",
    "display(HTML(tabulate.tabulate(NewTrainingData.head(), tablefmt='html')))\n",
    "        \n",
    "display(HTML(tabulate.tabulate(NewTestData.head(), tablefmt='html')))"
   ]
  },
  {
   "cell_type": "code",
   "execution_count": 254,
   "metadata": {},
   "outputs": [
    {
     "ename": "LinAlgError",
     "evalue": "singular matrix",
     "output_type": "error",
     "traceback": [
      "\u001b[0;31m---------------------------------------------------------------------------\u001b[0m",
      "\u001b[0;31mLinAlgError\u001b[0m                               Traceback (most recent call last)",
      "\u001b[0;32m<ipython-input-254-a92c7e6199b3>\u001b[0m in \u001b[0;36m<module>\u001b[0;34m()\u001b[0m\n\u001b[1;32m      1\u001b[0m \u001b[0mplt\u001b[0m\u001b[0;34m.\u001b[0m\u001b[0mfigure\u001b[0m\u001b[0;34m(\u001b[0m\u001b[0mnum\u001b[0m\u001b[0;34m=\u001b[0m\u001b[0;32mNone\u001b[0m\u001b[0;34m,\u001b[0m \u001b[0mfigsize\u001b[0m\u001b[0;34m=\u001b[0m\u001b[0;34m(\u001b[0m\u001b[0;36m8\u001b[0m\u001b[0;34m,\u001b[0m \u001b[0;36m6\u001b[0m\u001b[0;34m)\u001b[0m\u001b[0;34m,\u001b[0m \u001b[0mdpi\u001b[0m\u001b[0;34m=\u001b[0m\u001b[0;36m80\u001b[0m\u001b[0;34m,\u001b[0m \u001b[0mfacecolor\u001b[0m\u001b[0;34m=\u001b[0m\u001b[0;34m'w'\u001b[0m\u001b[0;34m,\u001b[0m \u001b[0medgecolor\u001b[0m\u001b[0;34m=\u001b[0m\u001b[0;34m'k'\u001b[0m\u001b[0;34m)\u001b[0m\u001b[0;34m\u001b[0m\u001b[0m\n\u001b[0;32m----> 2\u001b[0;31m \u001b[0mNewTrainingData\u001b[0m\u001b[0;34m.\u001b[0m\u001b[0mplot\u001b[0m\u001b[0;34m(\u001b[0m\u001b[0mkind\u001b[0m\u001b[0;34m=\u001b[0m\u001b[0;34m'density'\u001b[0m\u001b[0;34m,\u001b[0m \u001b[0msubplots\u001b[0m\u001b[0;34m=\u001b[0m\u001b[0;32mTrue\u001b[0m\u001b[0;34m,\u001b[0m \u001b[0mlayout\u001b[0m\u001b[0;34m=\u001b[0m\u001b[0;34m(\u001b[0m\u001b[0;36m12\u001b[0m\u001b[0;34m,\u001b[0m\u001b[0;36m12\u001b[0m\u001b[0;34m)\u001b[0m\u001b[0;34m,\u001b[0m \u001b[0msharex\u001b[0m\u001b[0;34m=\u001b[0m\u001b[0;32mFalse\u001b[0m\u001b[0;34m)\u001b[0m\u001b[0;34m\u001b[0m\u001b[0m\n\u001b[0m\u001b[1;32m      3\u001b[0m \u001b[0mplt\u001b[0m\u001b[0;34m.\u001b[0m\u001b[0msubplots_adjust\u001b[0m\u001b[0;34m(\u001b[0m\u001b[0mtop\u001b[0m\u001b[0;34m=\u001b[0m\u001b[0;36m0.92\u001b[0m\u001b[0;34m,\u001b[0m \u001b[0mbottom\u001b[0m\u001b[0;34m=\u001b[0m\u001b[0;36m0.08\u001b[0m\u001b[0;34m,\u001b[0m \u001b[0mleft\u001b[0m\u001b[0;34m=\u001b[0m\u001b[0;36m0.10\u001b[0m\u001b[0;34m,\u001b[0m \u001b[0mright\u001b[0m\u001b[0;34m=\u001b[0m\u001b[0;36m0.95\u001b[0m\u001b[0;34m,\u001b[0m \u001b[0mhspace\u001b[0m\u001b[0;34m=\u001b[0m\u001b[0;36m0.25\u001b[0m\u001b[0;34m,\u001b[0m \u001b[0mwspace\u001b[0m\u001b[0;34m=\u001b[0m\u001b[0;36m0.35\u001b[0m\u001b[0;34m)\u001b[0m\u001b[0;34m\u001b[0m\u001b[0m\n\u001b[1;32m      4\u001b[0m \u001b[0mplt\u001b[0m\u001b[0;34m.\u001b[0m\u001b[0mtight_layout\u001b[0m\u001b[0;34m(\u001b[0m\u001b[0mpad\u001b[0m\u001b[0;34m=\u001b[0m\u001b[0;36m0.4\u001b[0m\u001b[0;34m,\u001b[0m \u001b[0mw_pad\u001b[0m\u001b[0;34m=\u001b[0m\u001b[0;36m0.5\u001b[0m\u001b[0;34m,\u001b[0m \u001b[0mh_pad\u001b[0m\u001b[0;34m=\u001b[0m\u001b[0;36m1.0\u001b[0m\u001b[0;34m)\u001b[0m\u001b[0;34m\u001b[0m\u001b[0m\n\u001b[1;32m      5\u001b[0m \u001b[0mplt\u001b[0m\u001b[0;34m.\u001b[0m\u001b[0mshow\u001b[0m\u001b[0;34m(\u001b[0m\u001b[0;34m)\u001b[0m\u001b[0;34m\u001b[0m\u001b[0m\n",
      "\u001b[0;32m~/anaconda3/lib/python3.6/site-packages/pandas/plotting/_core.py\u001b[0m in \u001b[0;36m__call__\u001b[0;34m(self, x, y, kind, ax, subplots, sharex, sharey, layout, figsize, use_index, title, grid, legend, style, logx, logy, loglog, xticks, yticks, xlim, ylim, rot, fontsize, colormap, table, yerr, xerr, secondary_y, sort_columns, **kwds)\u001b[0m\n\u001b[1;32m   2625\u001b[0m                           \u001b[0mfontsize\u001b[0m\u001b[0;34m=\u001b[0m\u001b[0mfontsize\u001b[0m\u001b[0;34m,\u001b[0m \u001b[0mcolormap\u001b[0m\u001b[0;34m=\u001b[0m\u001b[0mcolormap\u001b[0m\u001b[0;34m,\u001b[0m \u001b[0mtable\u001b[0m\u001b[0;34m=\u001b[0m\u001b[0mtable\u001b[0m\u001b[0;34m,\u001b[0m\u001b[0;34m\u001b[0m\u001b[0m\n\u001b[1;32m   2626\u001b[0m                           \u001b[0myerr\u001b[0m\u001b[0;34m=\u001b[0m\u001b[0myerr\u001b[0m\u001b[0;34m,\u001b[0m \u001b[0mxerr\u001b[0m\u001b[0;34m=\u001b[0m\u001b[0mxerr\u001b[0m\u001b[0;34m,\u001b[0m \u001b[0msecondary_y\u001b[0m\u001b[0;34m=\u001b[0m\u001b[0msecondary_y\u001b[0m\u001b[0;34m,\u001b[0m\u001b[0;34m\u001b[0m\u001b[0m\n\u001b[0;32m-> 2627\u001b[0;31m                           sort_columns=sort_columns, **kwds)\n\u001b[0m\u001b[1;32m   2628\u001b[0m     \u001b[0m__call__\u001b[0m\u001b[0;34m.\u001b[0m\u001b[0m__doc__\u001b[0m \u001b[0;34m=\u001b[0m \u001b[0mplot_frame\u001b[0m\u001b[0;34m.\u001b[0m\u001b[0m__doc__\u001b[0m\u001b[0;34m\u001b[0m\u001b[0m\n\u001b[1;32m   2629\u001b[0m \u001b[0;34m\u001b[0m\u001b[0m\n",
      "\u001b[0;32m~/anaconda3/lib/python3.6/site-packages/pandas/plotting/_core.py\u001b[0m in \u001b[0;36mplot_frame\u001b[0;34m(data, x, y, kind, ax, subplots, sharex, sharey, layout, figsize, use_index, title, grid, legend, style, logx, logy, loglog, xticks, yticks, xlim, ylim, rot, fontsize, colormap, table, yerr, xerr, secondary_y, sort_columns, **kwds)\u001b[0m\n\u001b[1;32m   1867\u001b[0m                  \u001b[0myerr\u001b[0m\u001b[0;34m=\u001b[0m\u001b[0myerr\u001b[0m\u001b[0;34m,\u001b[0m \u001b[0mxerr\u001b[0m\u001b[0;34m=\u001b[0m\u001b[0mxerr\u001b[0m\u001b[0;34m,\u001b[0m\u001b[0;34m\u001b[0m\u001b[0m\n\u001b[1;32m   1868\u001b[0m                  \u001b[0msecondary_y\u001b[0m\u001b[0;34m=\u001b[0m\u001b[0msecondary_y\u001b[0m\u001b[0;34m,\u001b[0m \u001b[0msort_columns\u001b[0m\u001b[0;34m=\u001b[0m\u001b[0msort_columns\u001b[0m\u001b[0;34m,\u001b[0m\u001b[0;34m\u001b[0m\u001b[0m\n\u001b[0;32m-> 1869\u001b[0;31m                  **kwds)\n\u001b[0m\u001b[1;32m   1870\u001b[0m \u001b[0;34m\u001b[0m\u001b[0m\n\u001b[1;32m   1871\u001b[0m \u001b[0;34m\u001b[0m\u001b[0m\n",
      "\u001b[0;32m~/anaconda3/lib/python3.6/site-packages/pandas/plotting/_core.py\u001b[0m in \u001b[0;36m_plot\u001b[0;34m(data, x, y, subplots, ax, kind, **kwds)\u001b[0m\n\u001b[1;32m   1692\u001b[0m         \u001b[0mplot_obj\u001b[0m \u001b[0;34m=\u001b[0m \u001b[0mklass\u001b[0m\u001b[0;34m(\u001b[0m\u001b[0mdata\u001b[0m\u001b[0;34m,\u001b[0m \u001b[0msubplots\u001b[0m\u001b[0;34m=\u001b[0m\u001b[0msubplots\u001b[0m\u001b[0;34m,\u001b[0m \u001b[0max\u001b[0m\u001b[0;34m=\u001b[0m\u001b[0max\u001b[0m\u001b[0;34m,\u001b[0m \u001b[0mkind\u001b[0m\u001b[0;34m=\u001b[0m\u001b[0mkind\u001b[0m\u001b[0;34m,\u001b[0m \u001b[0;34m**\u001b[0m\u001b[0mkwds\u001b[0m\u001b[0;34m)\u001b[0m\u001b[0;34m\u001b[0m\u001b[0m\n\u001b[1;32m   1693\u001b[0m \u001b[0;34m\u001b[0m\u001b[0m\n\u001b[0;32m-> 1694\u001b[0;31m     \u001b[0mplot_obj\u001b[0m\u001b[0;34m.\u001b[0m\u001b[0mgenerate\u001b[0m\u001b[0;34m(\u001b[0m\u001b[0;34m)\u001b[0m\u001b[0;34m\u001b[0m\u001b[0m\n\u001b[0m\u001b[1;32m   1695\u001b[0m     \u001b[0mplot_obj\u001b[0m\u001b[0;34m.\u001b[0m\u001b[0mdraw\u001b[0m\u001b[0;34m(\u001b[0m\u001b[0;34m)\u001b[0m\u001b[0;34m\u001b[0m\u001b[0m\n\u001b[1;32m   1696\u001b[0m     \u001b[0;32mreturn\u001b[0m \u001b[0mplot_obj\u001b[0m\u001b[0;34m.\u001b[0m\u001b[0mresult\u001b[0m\u001b[0;34m\u001b[0m\u001b[0m\n",
      "\u001b[0;32m~/anaconda3/lib/python3.6/site-packages/pandas/plotting/_core.py\u001b[0m in \u001b[0;36mgenerate\u001b[0;34m(self)\u001b[0m\n\u001b[1;32m    243\u001b[0m         \u001b[0mself\u001b[0m\u001b[0;34m.\u001b[0m\u001b[0m_compute_plot_data\u001b[0m\u001b[0;34m(\u001b[0m\u001b[0;34m)\u001b[0m\u001b[0;34m\u001b[0m\u001b[0m\n\u001b[1;32m    244\u001b[0m         \u001b[0mself\u001b[0m\u001b[0;34m.\u001b[0m\u001b[0m_setup_subplots\u001b[0m\u001b[0;34m(\u001b[0m\u001b[0;34m)\u001b[0m\u001b[0;34m\u001b[0m\u001b[0m\n\u001b[0;32m--> 245\u001b[0;31m         \u001b[0mself\u001b[0m\u001b[0;34m.\u001b[0m\u001b[0m_make_plot\u001b[0m\u001b[0;34m(\u001b[0m\u001b[0;34m)\u001b[0m\u001b[0;34m\u001b[0m\u001b[0m\n\u001b[0m\u001b[1;32m    246\u001b[0m         \u001b[0mself\u001b[0m\u001b[0;34m.\u001b[0m\u001b[0m_add_table\u001b[0m\u001b[0;34m(\u001b[0m\u001b[0;34m)\u001b[0m\u001b[0;34m\u001b[0m\u001b[0m\n\u001b[1;32m    247\u001b[0m         \u001b[0mself\u001b[0m\u001b[0;34m.\u001b[0m\u001b[0m_make_legend\u001b[0m\u001b[0;34m(\u001b[0m\u001b[0;34m)\u001b[0m\u001b[0;34m\u001b[0m\u001b[0m\n",
      "\u001b[0;32m~/anaconda3/lib/python3.6/site-packages/pandas/plotting/_core.py\u001b[0m in \u001b[0;36m_make_plot\u001b[0;34m(self)\u001b[0m\n\u001b[1;32m   1323\u001b[0m             \u001b[0mkwds\u001b[0m \u001b[0;34m=\u001b[0m \u001b[0mself\u001b[0m\u001b[0;34m.\u001b[0m\u001b[0m_make_plot_keywords\u001b[0m\u001b[0;34m(\u001b[0m\u001b[0mkwds\u001b[0m\u001b[0;34m,\u001b[0m \u001b[0my\u001b[0m\u001b[0;34m)\u001b[0m\u001b[0;34m\u001b[0m\u001b[0m\n\u001b[1;32m   1324\u001b[0m             artists = self._plot(ax, y, column_num=i,\n\u001b[0;32m-> 1325\u001b[0;31m                                  stacking_id=stacking_id, **kwds)\n\u001b[0m\u001b[1;32m   1326\u001b[0m             \u001b[0mself\u001b[0m\u001b[0;34m.\u001b[0m\u001b[0m_add_legend_handle\u001b[0m\u001b[0;34m(\u001b[0m\u001b[0martists\u001b[0m\u001b[0;34m[\u001b[0m\u001b[0;36m0\u001b[0m\u001b[0;34m]\u001b[0m\u001b[0;34m,\u001b[0m \u001b[0mlabel\u001b[0m\u001b[0;34m,\u001b[0m \u001b[0mindex\u001b[0m\u001b[0;34m=\u001b[0m\u001b[0mi\u001b[0m\u001b[0;34m)\u001b[0m\u001b[0;34m\u001b[0m\u001b[0m\n\u001b[1;32m   1327\u001b[0m \u001b[0;34m\u001b[0m\u001b[0m\n",
      "\u001b[0;32m~/anaconda3/lib/python3.6/site-packages/pandas/plotting/_core.py\u001b[0m in \u001b[0;36m_plot\u001b[0;34m(cls, ax, y, style, bw_method, ind, column_num, stacking_id, **kwds)\u001b[0m\n\u001b[1;32m   1378\u001b[0m \u001b[0;34m\u001b[0m\u001b[0m\n\u001b[1;32m   1379\u001b[0m         \u001b[0;32mif\u001b[0m \u001b[0mLooseVersion\u001b[0m\u001b[0;34m(\u001b[0m\u001b[0mspv\u001b[0m\u001b[0;34m)\u001b[0m \u001b[0;34m>=\u001b[0m \u001b[0;34m'0.11.0'\u001b[0m\u001b[0;34m:\u001b[0m\u001b[0;34m\u001b[0m\u001b[0m\n\u001b[0;32m-> 1380\u001b[0;31m             \u001b[0mgkde\u001b[0m \u001b[0;34m=\u001b[0m \u001b[0mgaussian_kde\u001b[0m\u001b[0;34m(\u001b[0m\u001b[0my\u001b[0m\u001b[0;34m,\u001b[0m \u001b[0mbw_method\u001b[0m\u001b[0;34m=\u001b[0m\u001b[0mbw_method\u001b[0m\u001b[0;34m)\u001b[0m\u001b[0;34m\u001b[0m\u001b[0m\n\u001b[0m\u001b[1;32m   1381\u001b[0m         \u001b[0;32melse\u001b[0m\u001b[0;34m:\u001b[0m\u001b[0;34m\u001b[0m\u001b[0m\n\u001b[1;32m   1382\u001b[0m             \u001b[0mgkde\u001b[0m \u001b[0;34m=\u001b[0m \u001b[0mgaussian_kde\u001b[0m\u001b[0;34m(\u001b[0m\u001b[0my\u001b[0m\u001b[0;34m)\u001b[0m\u001b[0;34m\u001b[0m\u001b[0m\n",
      "\u001b[0;32m~/anaconda3/lib/python3.6/site-packages/scipy/stats/kde.py\u001b[0m in \u001b[0;36m__init__\u001b[0;34m(self, dataset, bw_method)\u001b[0m\n\u001b[1;32m    170\u001b[0m \u001b[0;34m\u001b[0m\u001b[0m\n\u001b[1;32m    171\u001b[0m         \u001b[0mself\u001b[0m\u001b[0;34m.\u001b[0m\u001b[0md\u001b[0m\u001b[0;34m,\u001b[0m \u001b[0mself\u001b[0m\u001b[0;34m.\u001b[0m\u001b[0mn\u001b[0m \u001b[0;34m=\u001b[0m \u001b[0mself\u001b[0m\u001b[0;34m.\u001b[0m\u001b[0mdataset\u001b[0m\u001b[0;34m.\u001b[0m\u001b[0mshape\u001b[0m\u001b[0;34m\u001b[0m\u001b[0m\n\u001b[0;32m--> 172\u001b[0;31m         \u001b[0mself\u001b[0m\u001b[0;34m.\u001b[0m\u001b[0mset_bandwidth\u001b[0m\u001b[0;34m(\u001b[0m\u001b[0mbw_method\u001b[0m\u001b[0;34m=\u001b[0m\u001b[0mbw_method\u001b[0m\u001b[0;34m)\u001b[0m\u001b[0;34m\u001b[0m\u001b[0m\n\u001b[0m\u001b[1;32m    173\u001b[0m \u001b[0;34m\u001b[0m\u001b[0m\n\u001b[1;32m    174\u001b[0m     \u001b[0;32mdef\u001b[0m \u001b[0mevaluate\u001b[0m\u001b[0;34m(\u001b[0m\u001b[0mself\u001b[0m\u001b[0;34m,\u001b[0m \u001b[0mpoints\u001b[0m\u001b[0;34m)\u001b[0m\u001b[0;34m:\u001b[0m\u001b[0;34m\u001b[0m\u001b[0m\n",
      "\u001b[0;32m~/anaconda3/lib/python3.6/site-packages/scipy/stats/kde.py\u001b[0m in \u001b[0;36mset_bandwidth\u001b[0;34m(self, bw_method)\u001b[0m\n\u001b[1;32m    497\u001b[0m             \u001b[0;32mraise\u001b[0m \u001b[0mValueError\u001b[0m\u001b[0;34m(\u001b[0m\u001b[0mmsg\u001b[0m\u001b[0;34m)\u001b[0m\u001b[0;34m\u001b[0m\u001b[0m\n\u001b[1;32m    498\u001b[0m \u001b[0;34m\u001b[0m\u001b[0m\n\u001b[0;32m--> 499\u001b[0;31m         \u001b[0mself\u001b[0m\u001b[0;34m.\u001b[0m\u001b[0m_compute_covariance\u001b[0m\u001b[0;34m(\u001b[0m\u001b[0;34m)\u001b[0m\u001b[0;34m\u001b[0m\u001b[0m\n\u001b[0m\u001b[1;32m    500\u001b[0m \u001b[0;34m\u001b[0m\u001b[0m\n\u001b[1;32m    501\u001b[0m     \u001b[0;32mdef\u001b[0m \u001b[0m_compute_covariance\u001b[0m\u001b[0;34m(\u001b[0m\u001b[0mself\u001b[0m\u001b[0;34m)\u001b[0m\u001b[0;34m:\u001b[0m\u001b[0;34m\u001b[0m\u001b[0m\n",
      "\u001b[0;32m~/anaconda3/lib/python3.6/site-packages/scipy/stats/kde.py\u001b[0m in \u001b[0;36m_compute_covariance\u001b[0;34m(self)\u001b[0m\n\u001b[1;32m    508\u001b[0m             self._data_covariance = atleast_2d(np.cov(self.dataset, rowvar=1,\n\u001b[1;32m    509\u001b[0m                                                bias=False))\n\u001b[0;32m--> 510\u001b[0;31m             \u001b[0mself\u001b[0m\u001b[0;34m.\u001b[0m\u001b[0m_data_inv_cov\u001b[0m \u001b[0;34m=\u001b[0m \u001b[0mlinalg\u001b[0m\u001b[0;34m.\u001b[0m\u001b[0minv\u001b[0m\u001b[0;34m(\u001b[0m\u001b[0mself\u001b[0m\u001b[0;34m.\u001b[0m\u001b[0m_data_covariance\u001b[0m\u001b[0;34m)\u001b[0m\u001b[0;34m\u001b[0m\u001b[0m\n\u001b[0m\u001b[1;32m    511\u001b[0m \u001b[0;34m\u001b[0m\u001b[0m\n\u001b[1;32m    512\u001b[0m         \u001b[0mself\u001b[0m\u001b[0;34m.\u001b[0m\u001b[0mcovariance\u001b[0m \u001b[0;34m=\u001b[0m \u001b[0mself\u001b[0m\u001b[0;34m.\u001b[0m\u001b[0m_data_covariance\u001b[0m \u001b[0;34m*\u001b[0m \u001b[0mself\u001b[0m\u001b[0;34m.\u001b[0m\u001b[0mfactor\u001b[0m\u001b[0;34m**\u001b[0m\u001b[0;36m2\u001b[0m\u001b[0;34m\u001b[0m\u001b[0m\n",
      "\u001b[0;32m~/anaconda3/lib/python3.6/site-packages/scipy/linalg/basic.py\u001b[0m in \u001b[0;36minv\u001b[0;34m(a, overwrite_a, check_finite)\u001b[0m\n\u001b[1;32m    974\u001b[0m         \u001b[0minv_a\u001b[0m\u001b[0;34m,\u001b[0m \u001b[0minfo\u001b[0m \u001b[0;34m=\u001b[0m \u001b[0mgetri\u001b[0m\u001b[0;34m(\u001b[0m\u001b[0mlu\u001b[0m\u001b[0;34m,\u001b[0m \u001b[0mpiv\u001b[0m\u001b[0;34m,\u001b[0m \u001b[0mlwork\u001b[0m\u001b[0;34m=\u001b[0m\u001b[0mlwork\u001b[0m\u001b[0;34m,\u001b[0m \u001b[0moverwrite_lu\u001b[0m\u001b[0;34m=\u001b[0m\u001b[0;36m1\u001b[0m\u001b[0;34m)\u001b[0m\u001b[0;34m\u001b[0m\u001b[0m\n\u001b[1;32m    975\u001b[0m     \u001b[0;32mif\u001b[0m \u001b[0minfo\u001b[0m \u001b[0;34m>\u001b[0m \u001b[0;36m0\u001b[0m\u001b[0;34m:\u001b[0m\u001b[0;34m\u001b[0m\u001b[0m\n\u001b[0;32m--> 976\u001b[0;31m         \u001b[0;32mraise\u001b[0m \u001b[0mLinAlgError\u001b[0m\u001b[0;34m(\u001b[0m\u001b[0;34m\"singular matrix\"\u001b[0m\u001b[0;34m)\u001b[0m\u001b[0;34m\u001b[0m\u001b[0m\n\u001b[0m\u001b[1;32m    977\u001b[0m     \u001b[0;32mif\u001b[0m \u001b[0minfo\u001b[0m \u001b[0;34m<\u001b[0m \u001b[0;36m0\u001b[0m\u001b[0;34m:\u001b[0m\u001b[0;34m\u001b[0m\u001b[0m\n\u001b[1;32m    978\u001b[0m         raise ValueError('illegal value in %d-th argument of internal '\n",
      "\u001b[0;31mLinAlgError\u001b[0m: singular matrix"
     ]
    }
   ],
   "source": [
    "plt.figure(num=None, figsize=(8, 6), dpi=80, facecolor='w', edgecolor='k')\n",
    "NewTrainingData.plot(kind='density', subplots=True, layout=(12,12), sharex=False)\n",
    "plt.subplots_adjust(top=0.92, bottom=0.08, left=0.10, right=0.95, hspace=0.25, wspace=0.35)\n",
    "plt.tight_layout(pad=0.4, w_pad=0.5, h_pad=1.0)\n",
    "plt.show()"
   ]
  },
  {
   "cell_type": "code",
   "execution_count": 53,
   "metadata": {},
   "outputs": [
    {
     "data": {
      "text/html": [
       "<table>\n",
       "<tbody>\n",
       "<tr><td style=\"text-align: right;\">0</td><td style=\"text-align: right;\">0</td><td style=\"text-align: right;\">491</td><td style=\"text-align: right;\">   0</td><td style=\"text-align: right;\">0</td><td style=\"text-align: right;\">0</td><td style=\"text-align: right;\">0</td><td style=\"text-align: right;\">0</td><td style=\"text-align: right;\">0</td><td style=\"text-align: right;\">0</td><td style=\"text-align: right;\">0</td><td style=\"text-align: right;\">0</td><td style=\"text-align: right;\">0</td><td style=\"text-align: right;\">0</td><td style=\"text-align: right;\">0</td><td style=\"text-align: right;\">0</td><td style=\"text-align: right;\">0</td><td style=\"text-align: right;\">0</td><td style=\"text-align: right;\">0</td><td style=\"text-align: right;\">0</td><td style=\"text-align: right;\">  2</td><td style=\"text-align: right;\"> 2</td><td style=\"text-align: right;\">0  </td><td style=\"text-align: right;\">0  </td><td style=\"text-align: right;\">0</td><td style=\"text-align: right;\">0</td><td style=\"text-align: right;\">1   </td><td style=\"text-align: right;\">0   </td><td style=\"text-align: right;\">0   </td><td style=\"text-align: right;\">150</td><td style=\"text-align: right;\"> 25</td><td style=\"text-align: right;\">0.17</td><td style=\"text-align: right;\">0.03</td><td style=\"text-align: right;\">0.17</td><td style=\"text-align: right;\">0   </td><td style=\"text-align: right;\">0   </td><td style=\"text-align: right;\">0   </td><td style=\"text-align: right;\">0.05</td><td style=\"text-align: right;\">0   </td><td style=\"text-align: right;\">0</td><td style=\"text-align: right;\">20</td><td style=\"text-align: right;\">0</td><td style=\"text-align: right;\">1</td><td style=\"text-align: right;\">0</td><td style=\"text-align: right;\">0</td><td style=\"text-align: right;\">0</td><td style=\"text-align: right;\">0</td><td style=\"text-align: right;\">0</td><td style=\"text-align: right;\">0</td><td style=\"text-align: right;\">0</td><td style=\"text-align: right;\">0</td><td style=\"text-align: right;\">0</td><td style=\"text-align: right;\">0</td><td style=\"text-align: right;\">0</td><td style=\"text-align: right;\">0</td><td style=\"text-align: right;\">0</td><td style=\"text-align: right;\">0</td><td style=\"text-align: right;\">0</td><td style=\"text-align: right;\">0</td><td style=\"text-align: right;\">0</td><td style=\"text-align: right;\">0</td><td style=\"text-align: right;\">0</td><td style=\"text-align: right;\">0</td><td style=\"text-align: right;\">0</td><td style=\"text-align: right;\">1</td><td style=\"text-align: right;\">0</td><td style=\"text-align: right;\">0</td><td style=\"text-align: right;\">0</td><td style=\"text-align: right;\">0</td><td style=\"text-align: right;\">0</td><td style=\"text-align: right;\">0</td><td style=\"text-align: right;\">0</td><td style=\"text-align: right;\">0</td><td style=\"text-align: right;\">0</td><td style=\"text-align: right;\">0</td><td style=\"text-align: right;\">0</td><td style=\"text-align: right;\">0</td><td style=\"text-align: right;\">0</td><td style=\"text-align: right;\">0</td><td style=\"text-align: right;\">0</td><td style=\"text-align: right;\">0</td><td style=\"text-align: right;\">0</td><td style=\"text-align: right;\">0</td><td style=\"text-align: right;\">0</td><td style=\"text-align: right;\">0</td><td style=\"text-align: right;\">0</td><td style=\"text-align: right;\">0</td><td style=\"text-align: right;\">0</td><td style=\"text-align: right;\">0</td><td style=\"text-align: right;\">0</td><td style=\"text-align: right;\">0</td><td style=\"text-align: right;\">0</td><td style=\"text-align: right;\">0</td><td style=\"text-align: right;\">0</td><td style=\"text-align: right;\">0</td><td style=\"text-align: right;\">0</td><td style=\"text-align: right;\">0</td><td style=\"text-align: right;\">0</td><td style=\"text-align: right;\">0</td><td style=\"text-align: right;\">0</td><td style=\"text-align: right;\">0</td><td style=\"text-align: right;\">0</td><td style=\"text-align: right;\">0</td><td style=\"text-align: right;\">0</td><td style=\"text-align: right;\">0</td><td style=\"text-align: right;\">0</td><td style=\"text-align: right;\">0</td><td style=\"text-align: right;\">0</td><td style=\"text-align: right;\">0</td><td style=\"text-align: right;\">0</td><td style=\"text-align: right;\">0</td><td style=\"text-align: right;\">0</td><td style=\"text-align: right;\">0</td><td style=\"text-align: right;\">0</td><td style=\"text-align: right;\">0</td><td style=\"text-align: right;\">0</td><td style=\"text-align: right;\">0</td><td style=\"text-align: right;\">0</td><td style=\"text-align: right;\">0</td><td style=\"text-align: right;\">0</td><td style=\"text-align: right;\">0</td><td style=\"text-align: right;\">0</td><td style=\"text-align: right;\">0</td><td style=\"text-align: right;\">1</td><td style=\"text-align: right;\">0</td></tr>\n",
       "<tr><td style=\"text-align: right;\">1</td><td style=\"text-align: right;\">0</td><td style=\"text-align: right;\">146</td><td style=\"text-align: right;\">   0</td><td style=\"text-align: right;\">0</td><td style=\"text-align: right;\">0</td><td style=\"text-align: right;\">0</td><td style=\"text-align: right;\">0</td><td style=\"text-align: right;\">0</td><td style=\"text-align: right;\">0</td><td style=\"text-align: right;\">0</td><td style=\"text-align: right;\">0</td><td style=\"text-align: right;\">0</td><td style=\"text-align: right;\">0</td><td style=\"text-align: right;\">0</td><td style=\"text-align: right;\">0</td><td style=\"text-align: right;\">0</td><td style=\"text-align: right;\">0</td><td style=\"text-align: right;\">0</td><td style=\"text-align: right;\">0</td><td style=\"text-align: right;\"> 13</td><td style=\"text-align: right;\"> 1</td><td style=\"text-align: right;\">0  </td><td style=\"text-align: right;\">0  </td><td style=\"text-align: right;\">0</td><td style=\"text-align: right;\">0</td><td style=\"text-align: right;\">0.08</td><td style=\"text-align: right;\">0.15</td><td style=\"text-align: right;\">0   </td><td style=\"text-align: right;\">255</td><td style=\"text-align: right;\">  1</td><td style=\"text-align: right;\">0   </td><td style=\"text-align: right;\">0.6 </td><td style=\"text-align: right;\">0.88</td><td style=\"text-align: right;\">0   </td><td style=\"text-align: right;\">0   </td><td style=\"text-align: right;\">0   </td><td style=\"text-align: right;\">0   </td><td style=\"text-align: right;\">0   </td><td style=\"text-align: right;\">0</td><td style=\"text-align: right;\">15</td><td style=\"text-align: right;\">0</td><td style=\"text-align: right;\">0</td><td style=\"text-align: right;\">1</td><td style=\"text-align: right;\">0</td><td style=\"text-align: right;\">0</td><td style=\"text-align: right;\">0</td><td style=\"text-align: right;\">0</td><td style=\"text-align: right;\">0</td><td style=\"text-align: right;\">0</td><td style=\"text-align: right;\">0</td><td style=\"text-align: right;\">0</td><td style=\"text-align: right;\">0</td><td style=\"text-align: right;\">0</td><td style=\"text-align: right;\">0</td><td style=\"text-align: right;\">0</td><td style=\"text-align: right;\">0</td><td style=\"text-align: right;\">0</td><td style=\"text-align: right;\">0</td><td style=\"text-align: right;\">0</td><td style=\"text-align: right;\">0</td><td style=\"text-align: right;\">0</td><td style=\"text-align: right;\">0</td><td style=\"text-align: right;\">0</td><td style=\"text-align: right;\">0</td><td style=\"text-align: right;\">0</td><td style=\"text-align: right;\">0</td><td style=\"text-align: right;\">0</td><td style=\"text-align: right;\">0</td><td style=\"text-align: right;\">0</td><td style=\"text-align: right;\">0</td><td style=\"text-align: right;\">0</td><td style=\"text-align: right;\">0</td><td style=\"text-align: right;\">0</td><td style=\"text-align: right;\">0</td><td style=\"text-align: right;\">0</td><td style=\"text-align: right;\">0</td><td style=\"text-align: right;\">0</td><td style=\"text-align: right;\">0</td><td style=\"text-align: right;\">0</td><td style=\"text-align: right;\">0</td><td style=\"text-align: right;\">0</td><td style=\"text-align: right;\">0</td><td style=\"text-align: right;\">0</td><td style=\"text-align: right;\">0</td><td style=\"text-align: right;\">0</td><td style=\"text-align: right;\">0</td><td style=\"text-align: right;\">0</td><td style=\"text-align: right;\">1</td><td style=\"text-align: right;\">0</td><td style=\"text-align: right;\">0</td><td style=\"text-align: right;\">0</td><td style=\"text-align: right;\">0</td><td style=\"text-align: right;\">0</td><td style=\"text-align: right;\">0</td><td style=\"text-align: right;\">0</td><td style=\"text-align: right;\">0</td><td style=\"text-align: right;\">0</td><td style=\"text-align: right;\">0</td><td style=\"text-align: right;\">0</td><td style=\"text-align: right;\">0</td><td style=\"text-align: right;\">0</td><td style=\"text-align: right;\">0</td><td style=\"text-align: right;\">0</td><td style=\"text-align: right;\">0</td><td style=\"text-align: right;\">0</td><td style=\"text-align: right;\">0</td><td style=\"text-align: right;\">0</td><td style=\"text-align: right;\">0</td><td style=\"text-align: right;\">0</td><td style=\"text-align: right;\">0</td><td style=\"text-align: right;\">0</td><td style=\"text-align: right;\">0</td><td style=\"text-align: right;\">0</td><td style=\"text-align: right;\">0</td><td style=\"text-align: right;\">0</td><td style=\"text-align: right;\">0</td><td style=\"text-align: right;\">0</td><td style=\"text-align: right;\">0</td><td style=\"text-align: right;\">0</td><td style=\"text-align: right;\">0</td><td style=\"text-align: right;\">0</td><td style=\"text-align: right;\">0</td><td style=\"text-align: right;\">1</td><td style=\"text-align: right;\">0</td></tr>\n",
       "<tr><td style=\"text-align: right;\">2</td><td style=\"text-align: right;\">0</td><td style=\"text-align: right;\">  0</td><td style=\"text-align: right;\">   0</td><td style=\"text-align: right;\">0</td><td style=\"text-align: right;\">0</td><td style=\"text-align: right;\">0</td><td style=\"text-align: right;\">0</td><td style=\"text-align: right;\">0</td><td style=\"text-align: right;\">0</td><td style=\"text-align: right;\">0</td><td style=\"text-align: right;\">0</td><td style=\"text-align: right;\">0</td><td style=\"text-align: right;\">0</td><td style=\"text-align: right;\">0</td><td style=\"text-align: right;\">0</td><td style=\"text-align: right;\">0</td><td style=\"text-align: right;\">0</td><td style=\"text-align: right;\">0</td><td style=\"text-align: right;\">0</td><td style=\"text-align: right;\">123</td><td style=\"text-align: right;\"> 6</td><td style=\"text-align: right;\">1  </td><td style=\"text-align: right;\">1  </td><td style=\"text-align: right;\">0</td><td style=\"text-align: right;\">0</td><td style=\"text-align: right;\">0.05</td><td style=\"text-align: right;\">0.07</td><td style=\"text-align: right;\">0   </td><td style=\"text-align: right;\">255</td><td style=\"text-align: right;\"> 26</td><td style=\"text-align: right;\">0.1 </td><td style=\"text-align: right;\">0.05</td><td style=\"text-align: right;\">0   </td><td style=\"text-align: right;\">0   </td><td style=\"text-align: right;\">1   </td><td style=\"text-align: right;\">1   </td><td style=\"text-align: right;\">0   </td><td style=\"text-align: right;\">0   </td><td style=\"text-align: right;\">1</td><td style=\"text-align: right;\">19</td><td style=\"text-align: right;\">0</td><td style=\"text-align: right;\">1</td><td style=\"text-align: right;\">0</td><td style=\"text-align: right;\">0</td><td style=\"text-align: right;\">0</td><td style=\"text-align: right;\">0</td><td style=\"text-align: right;\">0</td><td style=\"text-align: right;\">0</td><td style=\"text-align: right;\">0</td><td style=\"text-align: right;\">0</td><td style=\"text-align: right;\">0</td><td style=\"text-align: right;\">0</td><td style=\"text-align: right;\">0</td><td style=\"text-align: right;\">0</td><td style=\"text-align: right;\">0</td><td style=\"text-align: right;\">0</td><td style=\"text-align: right;\">0</td><td style=\"text-align: right;\">0</td><td style=\"text-align: right;\">0</td><td style=\"text-align: right;\">0</td><td style=\"text-align: right;\">0</td><td style=\"text-align: right;\">0</td><td style=\"text-align: right;\">0</td><td style=\"text-align: right;\">0</td><td style=\"text-align: right;\">0</td><td style=\"text-align: right;\">0</td><td style=\"text-align: right;\">0</td><td style=\"text-align: right;\">0</td><td style=\"text-align: right;\">0</td><td style=\"text-align: right;\">0</td><td style=\"text-align: right;\">0</td><td style=\"text-align: right;\">0</td><td style=\"text-align: right;\">0</td><td style=\"text-align: right;\">0</td><td style=\"text-align: right;\">0</td><td style=\"text-align: right;\">0</td><td style=\"text-align: right;\">0</td><td style=\"text-align: right;\">0</td><td style=\"text-align: right;\">0</td><td style=\"text-align: right;\">0</td><td style=\"text-align: right;\">0</td><td style=\"text-align: right;\">0</td><td style=\"text-align: right;\">0</td><td style=\"text-align: right;\">0</td><td style=\"text-align: right;\">0</td><td style=\"text-align: right;\">0</td><td style=\"text-align: right;\">0</td><td style=\"text-align: right;\">0</td><td style=\"text-align: right;\">0</td><td style=\"text-align: right;\">0</td><td style=\"text-align: right;\">0</td><td style=\"text-align: right;\">0</td><td style=\"text-align: right;\">1</td><td style=\"text-align: right;\">0</td><td style=\"text-align: right;\">0</td><td style=\"text-align: right;\">0</td><td style=\"text-align: right;\">0</td><td style=\"text-align: right;\">0</td><td style=\"text-align: right;\">0</td><td style=\"text-align: right;\">0</td><td style=\"text-align: right;\">0</td><td style=\"text-align: right;\">0</td><td style=\"text-align: right;\">0</td><td style=\"text-align: right;\">0</td><td style=\"text-align: right;\">0</td><td style=\"text-align: right;\">0</td><td style=\"text-align: right;\">0</td><td style=\"text-align: right;\">0</td><td style=\"text-align: right;\">0</td><td style=\"text-align: right;\">0</td><td style=\"text-align: right;\">0</td><td style=\"text-align: right;\">0</td><td style=\"text-align: right;\">0</td><td style=\"text-align: right;\">0</td><td style=\"text-align: right;\">0</td><td style=\"text-align: right;\">0</td><td style=\"text-align: right;\">0</td><td style=\"text-align: right;\">0</td><td style=\"text-align: right;\">1</td><td style=\"text-align: right;\">0</td><td style=\"text-align: right;\">0</td><td style=\"text-align: right;\">0</td><td style=\"text-align: right;\">0</td><td style=\"text-align: right;\">0</td></tr>\n",
       "<tr><td style=\"text-align: right;\">3</td><td style=\"text-align: right;\">0</td><td style=\"text-align: right;\">232</td><td style=\"text-align: right;\">8153</td><td style=\"text-align: right;\">0</td><td style=\"text-align: right;\">0</td><td style=\"text-align: right;\">0</td><td style=\"text-align: right;\">0</td><td style=\"text-align: right;\">0</td><td style=\"text-align: right;\">1</td><td style=\"text-align: right;\">0</td><td style=\"text-align: right;\">0</td><td style=\"text-align: right;\">0</td><td style=\"text-align: right;\">0</td><td style=\"text-align: right;\">0</td><td style=\"text-align: right;\">0</td><td style=\"text-align: right;\">0</td><td style=\"text-align: right;\">0</td><td style=\"text-align: right;\">0</td><td style=\"text-align: right;\">0</td><td style=\"text-align: right;\">  5</td><td style=\"text-align: right;\"> 5</td><td style=\"text-align: right;\">0.2</td><td style=\"text-align: right;\">0.2</td><td style=\"text-align: right;\">0</td><td style=\"text-align: right;\">0</td><td style=\"text-align: right;\">1   </td><td style=\"text-align: right;\">0   </td><td style=\"text-align: right;\">0   </td><td style=\"text-align: right;\"> 30</td><td style=\"text-align: right;\">255</td><td style=\"text-align: right;\">1   </td><td style=\"text-align: right;\">0   </td><td style=\"text-align: right;\">0.03</td><td style=\"text-align: right;\">0.04</td><td style=\"text-align: right;\">0.03</td><td style=\"text-align: right;\">0.01</td><td style=\"text-align: right;\">0   </td><td style=\"text-align: right;\">0.01</td><td style=\"text-align: right;\">0</td><td style=\"text-align: right;\">21</td><td style=\"text-align: right;\">0</td><td style=\"text-align: right;\">1</td><td style=\"text-align: right;\">0</td><td style=\"text-align: right;\">0</td><td style=\"text-align: right;\">0</td><td style=\"text-align: right;\">0</td><td style=\"text-align: right;\">0</td><td style=\"text-align: right;\">0</td><td style=\"text-align: right;\">0</td><td style=\"text-align: right;\">0</td><td style=\"text-align: right;\">0</td><td style=\"text-align: right;\">0</td><td style=\"text-align: right;\">0</td><td style=\"text-align: right;\">0</td><td style=\"text-align: right;\">0</td><td style=\"text-align: right;\">0</td><td style=\"text-align: right;\">0</td><td style=\"text-align: right;\">0</td><td style=\"text-align: right;\">0</td><td style=\"text-align: right;\">0</td><td style=\"text-align: right;\">0</td><td style=\"text-align: right;\">0</td><td style=\"text-align: right;\">0</td><td style=\"text-align: right;\">0</td><td style=\"text-align: right;\">0</td><td style=\"text-align: right;\">0</td><td style=\"text-align: right;\">0</td><td style=\"text-align: right;\">1</td><td style=\"text-align: right;\">0</td><td style=\"text-align: right;\">0</td><td style=\"text-align: right;\">0</td><td style=\"text-align: right;\">0</td><td style=\"text-align: right;\">0</td><td style=\"text-align: right;\">0</td><td style=\"text-align: right;\">0</td><td style=\"text-align: right;\">0</td><td style=\"text-align: right;\">0</td><td style=\"text-align: right;\">0</td><td style=\"text-align: right;\">0</td><td style=\"text-align: right;\">0</td><td style=\"text-align: right;\">0</td><td style=\"text-align: right;\">0</td><td style=\"text-align: right;\">0</td><td style=\"text-align: right;\">0</td><td style=\"text-align: right;\">0</td><td style=\"text-align: right;\">0</td><td style=\"text-align: right;\">0</td><td style=\"text-align: right;\">0</td><td style=\"text-align: right;\">0</td><td style=\"text-align: right;\">0</td><td style=\"text-align: right;\">0</td><td style=\"text-align: right;\">0</td><td style=\"text-align: right;\">0</td><td style=\"text-align: right;\">0</td><td style=\"text-align: right;\">0</td><td style=\"text-align: right;\">0</td><td style=\"text-align: right;\">0</td><td style=\"text-align: right;\">0</td><td style=\"text-align: right;\">0</td><td style=\"text-align: right;\">0</td><td style=\"text-align: right;\">0</td><td style=\"text-align: right;\">0</td><td style=\"text-align: right;\">0</td><td style=\"text-align: right;\">0</td><td style=\"text-align: right;\">0</td><td style=\"text-align: right;\">0</td><td style=\"text-align: right;\">0</td><td style=\"text-align: right;\">0</td><td style=\"text-align: right;\">0</td><td style=\"text-align: right;\">0</td><td style=\"text-align: right;\">0</td><td style=\"text-align: right;\">0</td><td style=\"text-align: right;\">0</td><td style=\"text-align: right;\">0</td><td style=\"text-align: right;\">0</td><td style=\"text-align: right;\">0</td><td style=\"text-align: right;\">0</td><td style=\"text-align: right;\">0</td><td style=\"text-align: right;\">0</td><td style=\"text-align: right;\">0</td><td style=\"text-align: right;\">0</td><td style=\"text-align: right;\">0</td><td style=\"text-align: right;\">1</td><td style=\"text-align: right;\">0</td></tr>\n",
       "<tr><td style=\"text-align: right;\">4</td><td style=\"text-align: right;\">0</td><td style=\"text-align: right;\">199</td><td style=\"text-align: right;\"> 420</td><td style=\"text-align: right;\">0</td><td style=\"text-align: right;\">0</td><td style=\"text-align: right;\">0</td><td style=\"text-align: right;\">0</td><td style=\"text-align: right;\">0</td><td style=\"text-align: right;\">1</td><td style=\"text-align: right;\">0</td><td style=\"text-align: right;\">0</td><td style=\"text-align: right;\">0</td><td style=\"text-align: right;\">0</td><td style=\"text-align: right;\">0</td><td style=\"text-align: right;\">0</td><td style=\"text-align: right;\">0</td><td style=\"text-align: right;\">0</td><td style=\"text-align: right;\">0</td><td style=\"text-align: right;\">0</td><td style=\"text-align: right;\"> 30</td><td style=\"text-align: right;\">32</td><td style=\"text-align: right;\">0  </td><td style=\"text-align: right;\">0  </td><td style=\"text-align: right;\">0</td><td style=\"text-align: right;\">0</td><td style=\"text-align: right;\">1   </td><td style=\"text-align: right;\">0   </td><td style=\"text-align: right;\">0.09</td><td style=\"text-align: right;\">255</td><td style=\"text-align: right;\">255</td><td style=\"text-align: right;\">1   </td><td style=\"text-align: right;\">0   </td><td style=\"text-align: right;\">0   </td><td style=\"text-align: right;\">0   </td><td style=\"text-align: right;\">0   </td><td style=\"text-align: right;\">0   </td><td style=\"text-align: right;\">0   </td><td style=\"text-align: right;\">0   </td><td style=\"text-align: right;\">0</td><td style=\"text-align: right;\">21</td><td style=\"text-align: right;\">0</td><td style=\"text-align: right;\">1</td><td style=\"text-align: right;\">0</td><td style=\"text-align: right;\">0</td><td style=\"text-align: right;\">0</td><td style=\"text-align: right;\">0</td><td style=\"text-align: right;\">0</td><td style=\"text-align: right;\">0</td><td style=\"text-align: right;\">0</td><td style=\"text-align: right;\">0</td><td style=\"text-align: right;\">0</td><td style=\"text-align: right;\">0</td><td style=\"text-align: right;\">0</td><td style=\"text-align: right;\">0</td><td style=\"text-align: right;\">0</td><td style=\"text-align: right;\">0</td><td style=\"text-align: right;\">0</td><td style=\"text-align: right;\">0</td><td style=\"text-align: right;\">0</td><td style=\"text-align: right;\">0</td><td style=\"text-align: right;\">0</td><td style=\"text-align: right;\">0</td><td style=\"text-align: right;\">0</td><td style=\"text-align: right;\">0</td><td style=\"text-align: right;\">0</td><td style=\"text-align: right;\">0</td><td style=\"text-align: right;\">0</td><td style=\"text-align: right;\">1</td><td style=\"text-align: right;\">0</td><td style=\"text-align: right;\">0</td><td style=\"text-align: right;\">0</td><td style=\"text-align: right;\">0</td><td style=\"text-align: right;\">0</td><td style=\"text-align: right;\">0</td><td style=\"text-align: right;\">0</td><td style=\"text-align: right;\">0</td><td style=\"text-align: right;\">0</td><td style=\"text-align: right;\">0</td><td style=\"text-align: right;\">0</td><td style=\"text-align: right;\">0</td><td style=\"text-align: right;\">0</td><td style=\"text-align: right;\">0</td><td style=\"text-align: right;\">0</td><td style=\"text-align: right;\">0</td><td style=\"text-align: right;\">0</td><td style=\"text-align: right;\">0</td><td style=\"text-align: right;\">0</td><td style=\"text-align: right;\">0</td><td style=\"text-align: right;\">0</td><td style=\"text-align: right;\">0</td><td style=\"text-align: right;\">0</td><td style=\"text-align: right;\">0</td><td style=\"text-align: right;\">0</td><td style=\"text-align: right;\">0</td><td style=\"text-align: right;\">0</td><td style=\"text-align: right;\">0</td><td style=\"text-align: right;\">0</td><td style=\"text-align: right;\">0</td><td style=\"text-align: right;\">0</td><td style=\"text-align: right;\">0</td><td style=\"text-align: right;\">0</td><td style=\"text-align: right;\">0</td><td style=\"text-align: right;\">0</td><td style=\"text-align: right;\">0</td><td style=\"text-align: right;\">0</td><td style=\"text-align: right;\">0</td><td style=\"text-align: right;\">0</td><td style=\"text-align: right;\">0</td><td style=\"text-align: right;\">0</td><td style=\"text-align: right;\">0</td><td style=\"text-align: right;\">0</td><td style=\"text-align: right;\">0</td><td style=\"text-align: right;\">0</td><td style=\"text-align: right;\">0</td><td style=\"text-align: right;\">0</td><td style=\"text-align: right;\">0</td><td style=\"text-align: right;\">0</td><td style=\"text-align: right;\">0</td><td style=\"text-align: right;\">0</td><td style=\"text-align: right;\">0</td><td style=\"text-align: right;\">0</td><td style=\"text-align: right;\">0</td><td style=\"text-align: right;\">1</td><td style=\"text-align: right;\">0</td></tr>\n",
       "</tbody>\n",
       "</table>"
      ],
      "text/plain": [
       "<IPython.core.display.HTML object>"
      ]
     },
     "metadata": {},
     "output_type": "display_data"
    },
    {
     "data": {
      "text/html": [
       "<table>\n",
       "<tbody>\n",
       "<tr><td style=\"text-align: right;\">0</td><td style=\"text-align: right;\">0</td><td style=\"text-align: right;\">    0</td><td style=\"text-align: right;\"> 0</td><td style=\"text-align: right;\">0</td><td style=\"text-align: right;\">0</td><td style=\"text-align: right;\">0</td><td style=\"text-align: right;\">0</td><td style=\"text-align: right;\">0</td><td style=\"text-align: right;\">0</td><td style=\"text-align: right;\">0</td><td style=\"text-align: right;\">0</td><td style=\"text-align: right;\">0</td><td style=\"text-align: right;\">0</td><td style=\"text-align: right;\">0</td><td style=\"text-align: right;\">0</td><td style=\"text-align: right;\">0</td><td style=\"text-align: right;\">0</td><td style=\"text-align: right;\">0</td><td style=\"text-align: right;\">0</td><td style=\"text-align: right;\">229</td><td style=\"text-align: right;\">10</td><td style=\"text-align: right;\">0</td><td style=\"text-align: right;\">0   </td><td style=\"text-align: right;\">1</td><td style=\"text-align: right;\">1  </td><td style=\"text-align: right;\">0.04</td><td style=\"text-align: right;\">0.06</td><td style=\"text-align: right;\">0   </td><td style=\"text-align: right;\">255</td><td style=\"text-align: right;\">10</td><td style=\"text-align: right;\">0.04</td><td style=\"text-align: right;\">0.06</td><td style=\"text-align: right;\">0   </td><td style=\"text-align: right;\">0   </td><td style=\"text-align: right;\">0</td><td style=\"text-align: right;\">0</td><td style=\"text-align: right;\">1   </td><td style=\"text-align: right;\">1   </td><td style=\"text-align: right;\">0</td><td style=\"text-align: right;\">21</td><td style=\"text-align: right;\">0</td><td style=\"text-align: right;\">1</td><td style=\"text-align: right;\">0</td><td style=\"text-align: right;\">0</td><td style=\"text-align: right;\">0</td><td style=\"text-align: right;\">0</td><td style=\"text-align: right;\">0</td><td style=\"text-align: right;\">0</td><td style=\"text-align: right;\">0</td><td style=\"text-align: right;\">0</td><td style=\"text-align: right;\">0</td><td style=\"text-align: right;\">0</td><td style=\"text-align: right;\">0</td><td style=\"text-align: right;\">0</td><td style=\"text-align: right;\">0</td><td style=\"text-align: right;\">0</td><td style=\"text-align: right;\">0</td><td style=\"text-align: right;\">0</td><td style=\"text-align: right;\">0</td><td style=\"text-align: right;\">0</td><td style=\"text-align: right;\">0</td><td style=\"text-align: right;\">0</td><td style=\"text-align: right;\">0</td><td style=\"text-align: right;\">0</td><td style=\"text-align: right;\">0</td><td style=\"text-align: right;\">0</td><td style=\"text-align: right;\">0</td><td style=\"text-align: right;\">0</td><td style=\"text-align: right;\">0</td><td style=\"text-align: right;\">0</td><td style=\"text-align: right;\">0</td><td style=\"text-align: right;\">0</td><td style=\"text-align: right;\">0</td><td style=\"text-align: right;\">0</td><td style=\"text-align: right;\">0</td><td style=\"text-align: right;\">0</td><td style=\"text-align: right;\">0</td><td style=\"text-align: right;\">0</td><td style=\"text-align: right;\">0</td><td style=\"text-align: right;\">0</td><td style=\"text-align: right;\">0</td><td style=\"text-align: right;\">0</td><td style=\"text-align: right;\">0</td><td style=\"text-align: right;\">0</td><td style=\"text-align: right;\">0</td><td style=\"text-align: right;\">0</td><td style=\"text-align: right;\">0</td><td style=\"text-align: right;\">0</td><td style=\"text-align: right;\">1</td><td style=\"text-align: right;\">0</td><td style=\"text-align: right;\">0</td><td style=\"text-align: right;\">0</td><td style=\"text-align: right;\">0</td><td style=\"text-align: right;\">0</td><td style=\"text-align: right;\">0</td><td style=\"text-align: right;\">0</td><td style=\"text-align: right;\">0</td><td style=\"text-align: right;\">0</td><td style=\"text-align: right;\">0</td><td style=\"text-align: right;\">0</td><td style=\"text-align: right;\">0</td><td style=\"text-align: right;\">0</td><td style=\"text-align: right;\">0</td><td style=\"text-align: right;\">0</td><td style=\"text-align: right;\">0</td><td style=\"text-align: right;\">0</td><td style=\"text-align: right;\">0</td><td style=\"text-align: right;\">1</td><td style=\"text-align: right;\">0</td><td style=\"text-align: right;\">0</td><td style=\"text-align: right;\">0</td><td style=\"text-align: right;\">0</td><td style=\"text-align: right;\">0</td><td style=\"text-align: right;\">0</td><td style=\"text-align: right;\">0</td><td style=\"text-align: right;\">0</td><td style=\"text-align: right;\">0</td><td style=\"text-align: right;\">0</td><td style=\"text-align: right;\">0</td><td style=\"text-align: right;\">0</td><td style=\"text-align: right;\">0</td><td style=\"text-align: right;\">0</td><td style=\"text-align: right;\">0</td><td style=\"text-align: right;\">0</td></tr>\n",
       "<tr><td style=\"text-align: right;\">1</td><td style=\"text-align: right;\">0</td><td style=\"text-align: right;\">    0</td><td style=\"text-align: right;\"> 0</td><td style=\"text-align: right;\">0</td><td style=\"text-align: right;\">0</td><td style=\"text-align: right;\">0</td><td style=\"text-align: right;\">0</td><td style=\"text-align: right;\">0</td><td style=\"text-align: right;\">0</td><td style=\"text-align: right;\">0</td><td style=\"text-align: right;\">0</td><td style=\"text-align: right;\">0</td><td style=\"text-align: right;\">0</td><td style=\"text-align: right;\">0</td><td style=\"text-align: right;\">0</td><td style=\"text-align: right;\">0</td><td style=\"text-align: right;\">0</td><td style=\"text-align: right;\">0</td><td style=\"text-align: right;\">0</td><td style=\"text-align: right;\">136</td><td style=\"text-align: right;\"> 1</td><td style=\"text-align: right;\">0</td><td style=\"text-align: right;\">0   </td><td style=\"text-align: right;\">1</td><td style=\"text-align: right;\">1  </td><td style=\"text-align: right;\">0.01</td><td style=\"text-align: right;\">0.06</td><td style=\"text-align: right;\">0   </td><td style=\"text-align: right;\">255</td><td style=\"text-align: right;\"> 1</td><td style=\"text-align: right;\">0   </td><td style=\"text-align: right;\">0.06</td><td style=\"text-align: right;\">0   </td><td style=\"text-align: right;\">0   </td><td style=\"text-align: right;\">0</td><td style=\"text-align: right;\">0</td><td style=\"text-align: right;\">1   </td><td style=\"text-align: right;\">1   </td><td style=\"text-align: right;\">0</td><td style=\"text-align: right;\">21</td><td style=\"text-align: right;\">0</td><td style=\"text-align: right;\">1</td><td style=\"text-align: right;\">0</td><td style=\"text-align: right;\">0</td><td style=\"text-align: right;\">0</td><td style=\"text-align: right;\">0</td><td style=\"text-align: right;\">0</td><td style=\"text-align: right;\">0</td><td style=\"text-align: right;\">0</td><td style=\"text-align: right;\">0</td><td style=\"text-align: right;\">0</td><td style=\"text-align: right;\">0</td><td style=\"text-align: right;\">0</td><td style=\"text-align: right;\">0</td><td style=\"text-align: right;\">0</td><td style=\"text-align: right;\">0</td><td style=\"text-align: right;\">0</td><td style=\"text-align: right;\">0</td><td style=\"text-align: right;\">0</td><td style=\"text-align: right;\">0</td><td style=\"text-align: right;\">0</td><td style=\"text-align: right;\">0</td><td style=\"text-align: right;\">0</td><td style=\"text-align: right;\">0</td><td style=\"text-align: right;\">0</td><td style=\"text-align: right;\">0</td><td style=\"text-align: right;\">0</td><td style=\"text-align: right;\">0</td><td style=\"text-align: right;\">0</td><td style=\"text-align: right;\">0</td><td style=\"text-align: right;\">0</td><td style=\"text-align: right;\">0</td><td style=\"text-align: right;\">0</td><td style=\"text-align: right;\">0</td><td style=\"text-align: right;\">0</td><td style=\"text-align: right;\">0</td><td style=\"text-align: right;\">0</td><td style=\"text-align: right;\">0</td><td style=\"text-align: right;\">0</td><td style=\"text-align: right;\">0</td><td style=\"text-align: right;\">0</td><td style=\"text-align: right;\">0</td><td style=\"text-align: right;\">0</td><td style=\"text-align: right;\">0</td><td style=\"text-align: right;\">0</td><td style=\"text-align: right;\">0</td><td style=\"text-align: right;\">0</td><td style=\"text-align: right;\">0</td><td style=\"text-align: right;\">1</td><td style=\"text-align: right;\">0</td><td style=\"text-align: right;\">0</td><td style=\"text-align: right;\">0</td><td style=\"text-align: right;\">0</td><td style=\"text-align: right;\">0</td><td style=\"text-align: right;\">0</td><td style=\"text-align: right;\">0</td><td style=\"text-align: right;\">0</td><td style=\"text-align: right;\">0</td><td style=\"text-align: right;\">0</td><td style=\"text-align: right;\">0</td><td style=\"text-align: right;\">0</td><td style=\"text-align: right;\">0</td><td style=\"text-align: right;\">0</td><td style=\"text-align: right;\">0</td><td style=\"text-align: right;\">0</td><td style=\"text-align: right;\">0</td><td style=\"text-align: right;\">0</td><td style=\"text-align: right;\">1</td><td style=\"text-align: right;\">0</td><td style=\"text-align: right;\">0</td><td style=\"text-align: right;\">0</td><td style=\"text-align: right;\">0</td><td style=\"text-align: right;\">0</td><td style=\"text-align: right;\">0</td><td style=\"text-align: right;\">0</td><td style=\"text-align: right;\">0</td><td style=\"text-align: right;\">0</td><td style=\"text-align: right;\">0</td><td style=\"text-align: right;\">0</td><td style=\"text-align: right;\">0</td><td style=\"text-align: right;\">0</td><td style=\"text-align: right;\">0</td><td style=\"text-align: right;\">0</td><td style=\"text-align: right;\">0</td></tr>\n",
       "<tr><td style=\"text-align: right;\">2</td><td style=\"text-align: right;\">2</td><td style=\"text-align: right;\">12983</td><td style=\"text-align: right;\"> 0</td><td style=\"text-align: right;\">0</td><td style=\"text-align: right;\">0</td><td style=\"text-align: right;\">0</td><td style=\"text-align: right;\">0</td><td style=\"text-align: right;\">0</td><td style=\"text-align: right;\">0</td><td style=\"text-align: right;\">0</td><td style=\"text-align: right;\">0</td><td style=\"text-align: right;\">0</td><td style=\"text-align: right;\">0</td><td style=\"text-align: right;\">0</td><td style=\"text-align: right;\">0</td><td style=\"text-align: right;\">0</td><td style=\"text-align: right;\">0</td><td style=\"text-align: right;\">0</td><td style=\"text-align: right;\">0</td><td style=\"text-align: right;\">  1</td><td style=\"text-align: right;\"> 1</td><td style=\"text-align: right;\">0</td><td style=\"text-align: right;\">0   </td><td style=\"text-align: right;\">0</td><td style=\"text-align: right;\">0  </td><td style=\"text-align: right;\">1   </td><td style=\"text-align: right;\">0   </td><td style=\"text-align: right;\">0   </td><td style=\"text-align: right;\">134</td><td style=\"text-align: right;\">86</td><td style=\"text-align: right;\">0.61</td><td style=\"text-align: right;\">0.04</td><td style=\"text-align: right;\">0.61</td><td style=\"text-align: right;\">0.02</td><td style=\"text-align: right;\">0</td><td style=\"text-align: right;\">0</td><td style=\"text-align: right;\">0   </td><td style=\"text-align: right;\">0   </td><td style=\"text-align: right;\">1</td><td style=\"text-align: right;\">21</td><td style=\"text-align: right;\">0</td><td style=\"text-align: right;\">1</td><td style=\"text-align: right;\">0</td><td style=\"text-align: right;\">0</td><td style=\"text-align: right;\">0</td><td style=\"text-align: right;\">0</td><td style=\"text-align: right;\">0</td><td style=\"text-align: right;\">0</td><td style=\"text-align: right;\">0</td><td style=\"text-align: right;\">0</td><td style=\"text-align: right;\">0</td><td style=\"text-align: right;\">0</td><td style=\"text-align: right;\">0</td><td style=\"text-align: right;\">0</td><td style=\"text-align: right;\">0</td><td style=\"text-align: right;\">0</td><td style=\"text-align: right;\">0</td><td style=\"text-align: right;\">0</td><td style=\"text-align: right;\">0</td><td style=\"text-align: right;\">0</td><td style=\"text-align: right;\">0</td><td style=\"text-align: right;\">0</td><td style=\"text-align: right;\">1</td><td style=\"text-align: right;\">0</td><td style=\"text-align: right;\">0</td><td style=\"text-align: right;\">0</td><td style=\"text-align: right;\">0</td><td style=\"text-align: right;\">0</td><td style=\"text-align: right;\">0</td><td style=\"text-align: right;\">0</td><td style=\"text-align: right;\">0</td><td style=\"text-align: right;\">0</td><td style=\"text-align: right;\">0</td><td style=\"text-align: right;\">0</td><td style=\"text-align: right;\">0</td><td style=\"text-align: right;\">0</td><td style=\"text-align: right;\">0</td><td style=\"text-align: right;\">0</td><td style=\"text-align: right;\">0</td><td style=\"text-align: right;\">0</td><td style=\"text-align: right;\">0</td><td style=\"text-align: right;\">0</td><td style=\"text-align: right;\">0</td><td style=\"text-align: right;\">0</td><td style=\"text-align: right;\">0</td><td style=\"text-align: right;\">0</td><td style=\"text-align: right;\">0</td><td style=\"text-align: right;\">0</td><td style=\"text-align: right;\">0</td><td style=\"text-align: right;\">0</td><td style=\"text-align: right;\">0</td><td style=\"text-align: right;\">0</td><td style=\"text-align: right;\">0</td><td style=\"text-align: right;\">0</td><td style=\"text-align: right;\">0</td><td style=\"text-align: right;\">0</td><td style=\"text-align: right;\">0</td><td style=\"text-align: right;\">0</td><td style=\"text-align: right;\">0</td><td style=\"text-align: right;\">0</td><td style=\"text-align: right;\">0</td><td style=\"text-align: right;\">0</td><td style=\"text-align: right;\">0</td><td style=\"text-align: right;\">0</td><td style=\"text-align: right;\">0</td><td style=\"text-align: right;\">0</td><td style=\"text-align: right;\">0</td><td style=\"text-align: right;\">0</td><td style=\"text-align: right;\">0</td><td style=\"text-align: right;\">0</td><td style=\"text-align: right;\">0</td><td style=\"text-align: right;\">0</td><td style=\"text-align: right;\">0</td><td style=\"text-align: right;\">0</td><td style=\"text-align: right;\">0</td><td style=\"text-align: right;\">1</td><td style=\"text-align: right;\">0</td><td style=\"text-align: right;\">0</td><td style=\"text-align: right;\">0</td><td style=\"text-align: right;\">0</td><td style=\"text-align: right;\">0</td><td style=\"text-align: right;\">0</td><td style=\"text-align: right;\">0</td><td style=\"text-align: right;\">0</td></tr>\n",
       "<tr><td style=\"text-align: right;\">3</td><td style=\"text-align: right;\">0</td><td style=\"text-align: right;\">   20</td><td style=\"text-align: right;\"> 0</td><td style=\"text-align: right;\">0</td><td style=\"text-align: right;\">0</td><td style=\"text-align: right;\">0</td><td style=\"text-align: right;\">0</td><td style=\"text-align: right;\">0</td><td style=\"text-align: right;\">0</td><td style=\"text-align: right;\">0</td><td style=\"text-align: right;\">0</td><td style=\"text-align: right;\">0</td><td style=\"text-align: right;\">0</td><td style=\"text-align: right;\">0</td><td style=\"text-align: right;\">0</td><td style=\"text-align: right;\">0</td><td style=\"text-align: right;\">0</td><td style=\"text-align: right;\">0</td><td style=\"text-align: right;\">0</td><td style=\"text-align: right;\">  1</td><td style=\"text-align: right;\">65</td><td style=\"text-align: right;\">0</td><td style=\"text-align: right;\">0   </td><td style=\"text-align: right;\">0</td><td style=\"text-align: right;\">0  </td><td style=\"text-align: right;\">1   </td><td style=\"text-align: right;\">0   </td><td style=\"text-align: right;\">1   </td><td style=\"text-align: right;\">  3</td><td style=\"text-align: right;\">57</td><td style=\"text-align: right;\">1   </td><td style=\"text-align: right;\">0   </td><td style=\"text-align: right;\">1   </td><td style=\"text-align: right;\">0.28</td><td style=\"text-align: right;\">0</td><td style=\"text-align: right;\">0</td><td style=\"text-align: right;\">0   </td><td style=\"text-align: right;\">0   </td><td style=\"text-align: right;\">0</td><td style=\"text-align: right;\">15</td><td style=\"text-align: right;\">1</td><td style=\"text-align: right;\">0</td><td style=\"text-align: right;\">0</td><td style=\"text-align: right;\">0</td><td style=\"text-align: right;\">0</td><td style=\"text-align: right;\">0</td><td style=\"text-align: right;\">0</td><td style=\"text-align: right;\">0</td><td style=\"text-align: right;\">0</td><td style=\"text-align: right;\">0</td><td style=\"text-align: right;\">0</td><td style=\"text-align: right;\">0</td><td style=\"text-align: right;\">0</td><td style=\"text-align: right;\">0</td><td style=\"text-align: right;\">0</td><td style=\"text-align: right;\">0</td><td style=\"text-align: right;\">1</td><td style=\"text-align: right;\">0</td><td style=\"text-align: right;\">0</td><td style=\"text-align: right;\">0</td><td style=\"text-align: right;\">0</td><td style=\"text-align: right;\">0</td><td style=\"text-align: right;\">0</td><td style=\"text-align: right;\">0</td><td style=\"text-align: right;\">0</td><td style=\"text-align: right;\">0</td><td style=\"text-align: right;\">0</td><td style=\"text-align: right;\">0</td><td style=\"text-align: right;\">0</td><td style=\"text-align: right;\">0</td><td style=\"text-align: right;\">0</td><td style=\"text-align: right;\">0</td><td style=\"text-align: right;\">0</td><td style=\"text-align: right;\">0</td><td style=\"text-align: right;\">0</td><td style=\"text-align: right;\">0</td><td style=\"text-align: right;\">0</td><td style=\"text-align: right;\">0</td><td style=\"text-align: right;\">0</td><td style=\"text-align: right;\">0</td><td style=\"text-align: right;\">0</td><td style=\"text-align: right;\">0</td><td style=\"text-align: right;\">0</td><td style=\"text-align: right;\">0</td><td style=\"text-align: right;\">0</td><td style=\"text-align: right;\">0</td><td style=\"text-align: right;\">0</td><td style=\"text-align: right;\">0</td><td style=\"text-align: right;\">0</td><td style=\"text-align: right;\">0</td><td style=\"text-align: right;\">0</td><td style=\"text-align: right;\">0</td><td style=\"text-align: right;\">0</td><td style=\"text-align: right;\">0</td><td style=\"text-align: right;\">0</td><td style=\"text-align: right;\">0</td><td style=\"text-align: right;\">0</td><td style=\"text-align: right;\">0</td><td style=\"text-align: right;\">0</td><td style=\"text-align: right;\">0</td><td style=\"text-align: right;\">0</td><td style=\"text-align: right;\">0</td><td style=\"text-align: right;\">0</td><td style=\"text-align: right;\">0</td><td style=\"text-align: right;\">0</td><td style=\"text-align: right;\">0</td><td style=\"text-align: right;\">0</td><td style=\"text-align: right;\">0</td><td style=\"text-align: right;\">0</td><td style=\"text-align: right;\">0</td><td style=\"text-align: right;\">0</td><td style=\"text-align: right;\">0</td><td style=\"text-align: right;\">0</td><td style=\"text-align: right;\">0</td><td style=\"text-align: right;\">0</td><td style=\"text-align: right;\">1</td><td style=\"text-align: right;\">0</td><td style=\"text-align: right;\">0</td><td style=\"text-align: right;\">0</td><td style=\"text-align: right;\">0</td><td style=\"text-align: right;\">0</td><td style=\"text-align: right;\">0</td><td style=\"text-align: right;\">0</td><td style=\"text-align: right;\">0</td></tr>\n",
       "<tr><td style=\"text-align: right;\">4</td><td style=\"text-align: right;\">1</td><td style=\"text-align: right;\">    0</td><td style=\"text-align: right;\">15</td><td style=\"text-align: right;\">0</td><td style=\"text-align: right;\">0</td><td style=\"text-align: right;\">0</td><td style=\"text-align: right;\">0</td><td style=\"text-align: right;\">0</td><td style=\"text-align: right;\">0</td><td style=\"text-align: right;\">0</td><td style=\"text-align: right;\">0</td><td style=\"text-align: right;\">0</td><td style=\"text-align: right;\">0</td><td style=\"text-align: right;\">0</td><td style=\"text-align: right;\">0</td><td style=\"text-align: right;\">0</td><td style=\"text-align: right;\">0</td><td style=\"text-align: right;\">0</td><td style=\"text-align: right;\">0</td><td style=\"text-align: right;\">  1</td><td style=\"text-align: right;\"> 8</td><td style=\"text-align: right;\">0</td><td style=\"text-align: right;\">0.12</td><td style=\"text-align: right;\">1</td><td style=\"text-align: right;\">0.5</td><td style=\"text-align: right;\">1   </td><td style=\"text-align: right;\">0   </td><td style=\"text-align: right;\">0.75</td><td style=\"text-align: right;\"> 29</td><td style=\"text-align: right;\">86</td><td style=\"text-align: right;\">0.31</td><td style=\"text-align: right;\">0.17</td><td style=\"text-align: right;\">0.03</td><td style=\"text-align: right;\">0.02</td><td style=\"text-align: right;\">0</td><td style=\"text-align: right;\">0</td><td style=\"text-align: right;\">0.83</td><td style=\"text-align: right;\">0.71</td><td style=\"text-align: right;\">0</td><td style=\"text-align: right;\">11</td><td style=\"text-align: right;\">0</td><td style=\"text-align: right;\">1</td><td style=\"text-align: right;\">0</td><td style=\"text-align: right;\">0</td><td style=\"text-align: right;\">0</td><td style=\"text-align: right;\">0</td><td style=\"text-align: right;\">0</td><td style=\"text-align: right;\">0</td><td style=\"text-align: right;\">0</td><td style=\"text-align: right;\">0</td><td style=\"text-align: right;\">0</td><td style=\"text-align: right;\">0</td><td style=\"text-align: right;\">0</td><td style=\"text-align: right;\">0</td><td style=\"text-align: right;\">0</td><td style=\"text-align: right;\">0</td><td style=\"text-align: right;\">0</td><td style=\"text-align: right;\">0</td><td style=\"text-align: right;\">0</td><td style=\"text-align: right;\">0</td><td style=\"text-align: right;\">0</td><td style=\"text-align: right;\">0</td><td style=\"text-align: right;\">0</td><td style=\"text-align: right;\">0</td><td style=\"text-align: right;\">0</td><td style=\"text-align: right;\">0</td><td style=\"text-align: right;\">0</td><td style=\"text-align: right;\">0</td><td style=\"text-align: right;\">0</td><td style=\"text-align: right;\">0</td><td style=\"text-align: right;\">0</td><td style=\"text-align: right;\">0</td><td style=\"text-align: right;\">0</td><td style=\"text-align: right;\">0</td><td style=\"text-align: right;\">0</td><td style=\"text-align: right;\">0</td><td style=\"text-align: right;\">0</td><td style=\"text-align: right;\">0</td><td style=\"text-align: right;\">0</td><td style=\"text-align: right;\">0</td><td style=\"text-align: right;\">0</td><td style=\"text-align: right;\">0</td><td style=\"text-align: right;\">0</td><td style=\"text-align: right;\">0</td><td style=\"text-align: right;\">0</td><td style=\"text-align: right;\">0</td><td style=\"text-align: right;\">0</td><td style=\"text-align: right;\">0</td><td style=\"text-align: right;\">0</td><td style=\"text-align: right;\">0</td><td style=\"text-align: right;\">0</td><td style=\"text-align: right;\">0</td><td style=\"text-align: right;\">0</td><td style=\"text-align: right;\">0</td><td style=\"text-align: right;\">0</td><td style=\"text-align: right;\">0</td><td style=\"text-align: right;\">0</td><td style=\"text-align: right;\">0</td><td style=\"text-align: right;\">1</td><td style=\"text-align: right;\">0</td><td style=\"text-align: right;\">0</td><td style=\"text-align: right;\">0</td><td style=\"text-align: right;\">0</td><td style=\"text-align: right;\">0</td><td style=\"text-align: right;\">0</td><td style=\"text-align: right;\">0</td><td style=\"text-align: right;\">0</td><td style=\"text-align: right;\">0</td><td style=\"text-align: right;\">1</td><td style=\"text-align: right;\">0</td><td style=\"text-align: right;\">0</td><td style=\"text-align: right;\">0</td><td style=\"text-align: right;\">0</td><td style=\"text-align: right;\">0</td><td style=\"text-align: right;\">0</td><td style=\"text-align: right;\">0</td><td style=\"text-align: right;\">0</td><td style=\"text-align: right;\">0</td><td style=\"text-align: right;\">0</td><td style=\"text-align: right;\">0</td><td style=\"text-align: right;\">0</td><td style=\"text-align: right;\">0</td><td style=\"text-align: right;\">0</td><td style=\"text-align: right;\">0</td></tr>\n",
       "</tbody>\n",
       "</table>"
      ],
      "text/plain": [
       "<IPython.core.display.HTML object>"
      ]
     },
     "metadata": {},
     "output_type": "display_data"
    },
    {
     "name": "stdout",
     "output_type": "stream",
     "text": [
      "~~~End Of Data Prep~~~\n"
     ]
    }
   ],
   "source": [
    "#\n",
    "# Label Encoding manually to make sure the conversions happens correctly\n",
    "# take label column from train Test Dataset\n",
    "LabelColVal=NewTrainingData['labels']\n",
    "TestLabelColVal=NewTestData['labels']\n",
    "# change the label column for train, test dataset\n",
    "NewLabelColVal=LabelColVal.replace({ 'normal' : 0, 'attack' : 1})\n",
    "NewTestLabelColVal=TestLabelColVal.replace({ 'normal' : 0, 'attack' : 1})\n",
    "# put the new label column back\n",
    "NewTrainingData['labels'] = NewLabelColVal\n",
    "NewTestData['labels'] = NewTestLabelColVal\n",
    "\n",
    "display(HTML(tabulate.tabulate(NewTrainingData.head(), tablefmt='html')))\n",
    "        \n",
    "display(HTML(tabulate.tabulate(NewTestData.head(), tablefmt='html')))\n",
    "\n",
    "X = NewTrainingData.iloc[:,1:124]\n",
    "Y = NewTrainingData.iloc[:,0]\n",
    "C = NewTestData.iloc[:,0]\n",
    "T = NewTestData.iloc[:,1:124]\n",
    "\n",
    "# Perform the split of the training data into Training and Validation data set\n",
    "validation_size = 0.20\n",
    "seed = 7\n",
    "X_train, X_validation, Y_train, Y_validation = model_selection.train_test_split(X, Y, test_size=validation_size, random_state=seed)\n",
    "\n",
    "\n",
    "scalerXT = Normalizer().fit(X_train)\n",
    "trainX = scalerXT.transform(X_train)\n",
    "\n",
    "scalerXV = Normalizer().fit(X_validation)\n",
    "trainXV = scalerXV.transform(X_validation)\n",
    "\n",
    "scaler = Normalizer().fit(T)\n",
    "testT = scaler.transform(T)\n",
    "\n",
    "Traindata = np.array(trainX)\n",
    "Trainlabel = np.array(Y_train)\n",
    "\n",
    "Validationdata = np.array(trainXV)\n",
    "Validationlabel = np.array(Y_validation)\n",
    "\n",
    "Testdata = np.array(testT)\n",
    "Testlabel = np.array(C)\n",
    "\n",
    "print(\"~~~End Of Data Prep~~~\")"
   ]
  },
  {
   "cell_type": "code",
   "execution_count": null,
   "metadata": {},
   "outputs": [],
   "source": [
    "\n",
    "# Test options and evaluation metric\n",
    "seed = 7\n",
    "scoring = 'accuracy'\n",
    "\n",
    "# Spot Check Algorithms\n",
    "ModelsList = []\n",
    "ModelsList.append(('LR', LogisticRegression()))\n",
    "ModelsList.append(('LDA', LinearDiscriminantAnalysis()))\n",
    "ModelsList.append(('KNN', KNeighborsClassifier()))\n",
    "ModelsList.append(('CART', DecisionTreeClassifier()))\n",
    "ModelsList.append(('NB', GaussianNB()))\n",
    "ModelsList.append(('SVM', SVC()))\n",
    "# evaluate each model in turn\n",
    "ResultsList = []\n",
    "NamesOfModel = []\n",
    "for ModelName, Model in ModelsList:\n",
    "    kfold = model_selection.KFold(n_splits=10, random_state=seed)\n",
    "    CrossValidationResults = model_selection.cross_val_score(Model, X_train, Y_train, cv=kfold, scoring=scoring)\n",
    "    ResultsList.append(CrossValidationResults)\n",
    "    NamesOfModel.append(ModelName)\n",
    "    msg = \"%s: %f (%f)\" % (ModelName, CrossValidationResults.mean(), CrossValidationResults.std())\n",
    "    print(msg)"
   ]
  },
  {
   "cell_type": "code",
   "execution_count": null,
   "metadata": {},
   "outputs": [],
   "source": [
    "#SVM SVC Model\n",
    "print(\"~~~~~~~~~~~~~~~~~~~Start Of SVM SVC model~~~~~~~~~~~~~~~~~~~\")\n",
    "clf = SVC(kernel='linear',class_weight=\"balanced\", max_iter=100000000)\n",
    "clf.fit(NewTrainingData, Trainlabel)\n",
    "clf_predict = clf.predict(NewTestData)\n",
    "print(clf.score(NewTestData, Testlabel))\n",
    "print(metrics.classification_report(Testlabel, clf_predict))\n",
    "print(\"~~~~~~~~~~~~~~~~~~~End Of SVM SVC model~~~~~~~~~~~~~~~~~~~\")"
   ]
  },
  {
   "cell_type": "code",
   "execution_count": 67,
   "metadata": {},
   "outputs": [
    {
     "name": "stdout",
     "output_type": "stream",
     "text": [
      "~~~~~~~~~~~~~~~~~~~Start Of Naive Bayes model~~~~~~~~~~~~~~~~~~~\n"
     ]
    },
    {
     "data": {
      "text/plain": [
       "GaussianNB(priors=None)"
      ]
     },
     "metadata": {},
     "output_type": "display_data"
    },
    {
     "name": "stderr",
     "output_type": "stream",
     "text": [
      "/Users/apatkar/anaconda3/lib/python3.6/site-packages/pandas_ml/confusion_matrix/bcm.py:236: RuntimeWarning: invalid value encountered in double_scalars\n",
      "  return(np.float64(self.TP) / self.PositiveTest)\n",
      "/Users/apatkar/anaconda3/lib/python3.6/site-packages/pandas_ml/confusion_matrix/bcm.py:267: RuntimeWarning: invalid value encountered in double_scalars\n",
      "  return(np.float64(self.FP) / self.PositiveTest)\n",
      "/Users/apatkar/anaconda3/lib/python3.6/site-packages/pandas_ml/confusion_matrix/bcm.py:304: RuntimeWarning: invalid value encountered in true_divide\n",
      "  (self.TN + self.FP) * (self.TN + self.FN)))\n",
      "/Users/apatkar/anaconda3/lib/python3.6/site-packages/pandas_ml/confusion_matrix/bcm.py:332: RuntimeWarning: invalid value encountered in double_scalars\n",
      "  return(np.float64(self.TPR) / self.FPR)\n",
      "/Users/apatkar/anaconda3/lib/python3.6/site-packages/pandas_ml/confusion_matrix/bcm.py:191: RuntimeWarning: invalid value encountered in double_scalars\n",
      "  return(np.float64(self.TP) / self.P)\n",
      "/Users/apatkar/anaconda3/lib/python3.6/site-packages/pandas_ml/confusion_matrix/bcm.py:276: RuntimeWarning: invalid value encountered in double_scalars\n",
      "  return(np.float64(self.FN) / self.P)\n",
      "/Users/apatkar/anaconda3/lib/python3.6/site-packages/pandas_ml/confusion_matrix/bcm.py:346: RuntimeWarning: divide by zero encountered in double_scalars\n",
      "  return(np.float64(self.LRP) / self.LRN)\n"
     ]
    },
    {
     "name": "stdout",
     "output_type": "stream",
     "text": [
      "Confusion Matrix:\n",
      "\n",
      "Predicted      0    1   2   3    4   5    6   7  8  9   ...     20741  22174  \\\n",
      "Actual                                                  ...                    \n",
      "0          13576  166   4  28  174   7  675  43  0  0   ...         0      0   \n",
      "1            118    1   1   0    1   1    2   1  0  0   ...         0      0   \n",
      "2             62    0   4   0    0   0    2   0  0  0   ...         0      0   \n",
      "3             52    2   0   0    0   0    1   0  0  0   ...         0      0   \n",
      "4             13    0   0   0    0   1    5   0  0  0   ...         0      0   \n",
      "5             12    3   1   2    0   0   13   2  0  0   ...         0      0   \n",
      "6             11    0   0   0    0   0    0   1  0  0   ...         0      0   \n",
      "7              6    0   0   0    0   0    0   0  0  0   ...         0      0   \n",
      "8              5    0   0   0    0   0    0   1  0  0   ...         0      0   \n",
      "9              3    0   1   0    0   0    0   0  0  0   ...         0      0   \n",
      "10             6    0   0   0    0   0    0   0  0  0   ...         0      0   \n",
      "11             6    0   0   0    0   0    0   0  0  0   ...         0      0   \n",
      "12             1    0   0   0    0   0    0   0  0  0   ...         0      0   \n",
      "13             2    0   0   0    0   0    0   0  0  0   ...         0      0   \n",
      "14             0    0   0   0    0   0    0   0  0  0   ...         0      0   \n",
      "15             1    0   0   0    0   0    0   0  0  0   ...         0      0   \n",
      "16             0    0   0   0    0   0    1   0  0  0   ...         0      0   \n",
      "18             1    2   0   0    0   0    0   0  0  0   ...         0      0   \n",
      "19             0    0   0   0    0   0    0   0  0  0   ...         0      0   \n",
      "20             1    9   0   0    0   0    0   0  0  0   ...         0      0   \n",
      "21             0    4   0   0    0   1    0   0  0  0   ...         0      0   \n",
      "22             1    3   0   0    0   0    0   0  0  0   ...         0      0   \n",
      "23             0    1   6   0    0   0    0   1  0  0   ...         0      0   \n",
      "24             0    0   1   0    0   0    0   0  0  0   ...         0      0   \n",
      "25             0    0   1   0    0   0    0   0  0  0   ...         0      0   \n",
      "26             3    0   3   0    0   0    0   1  0  0   ...         0      0   \n",
      "27             1    0   3   0    0   0    0   0  0  0   ...         0      0   \n",
      "28             1    0   5   0    0   0    0   0  0  0   ...         0      0   \n",
      "29             1    0   0   0    0   0    2   0  0  0   ...         0      0   \n",
      "30             2    0   2   0    0   0    0   0  0  0   ...         0      0   \n",
      "...          ...  ...  ..  ..  ...  ..  ...  .. .. ..   ...       ...    ...   \n",
      "8229           1    0   0   0    0   0    0   0  0  0   ...         0      0   \n",
      "8232           1    0   0   0    0   0    0   0  0  0   ...         0      0   \n",
      "8233           1    0   0   0    0   0    0   0  0  0   ...         0      0   \n",
      "8579           0    0   0   0    0   0    0   0  0  0   ...         0      0   \n",
      "8625           0    0   0   0    0   0    0   0  0  0   ...         0      0   \n",
      "8890           0    0   0   0    0   0    0   0  0  0   ...         0      0   \n",
      "9535           0    0   0   0    0   0    0   0  0  0   ...         0      0   \n",
      "9645           0    0   0   0    0   0    0   0  0  0   ...         0      0   \n",
      "9741           0    0   0   0    0   0    0   0  0  0   ...         0      0   \n",
      "10455          0    0   0   0    0   0    0   0  0  0   ...         0      0   \n",
      "10499          0    0   0   0    0   0    0   0  0  0   ...         0      0   \n",
      "11675          1    0   0   0    0   0    0   0  0  0   ...         0      0   \n",
      "12112          1    0   0   0    0   0    0   0  0  0   ...         0      0   \n",
      "12931          0    0   0   0    0   0    0   0  0  0   ...         0      0   \n",
      "13067          1    0   0   0    0   0    0   0  0  0   ...         0      0   \n",
      "13500          0    0   0   0    0   0    0   0  0  0   ...         0      0   \n",
      "13919          0    0   0   0    0   0    0   0  0  0   ...         0      0   \n",
      "16500          0    0   0   0    0   0    0   0  0  0   ...         0      0   \n",
      "18848          0    0   0   0    0   0    0   0  0  0   ...         0      0   \n",
      "20252          0    0   0   0    0   0    0   0  0  0   ...         0      0   \n",
      "20741          0    0   0   0    1   0    0   0  0  0   ...         0      0   \n",
      "22174          0    0   0   0    0   0    0   0  0  0   ...         0      0   \n",
      "38701          1    0   0   0    0   0    0   0  0  0   ...         0      0   \n",
      "39930          0    0   0   0    0   0    0   0  0  0   ...         0      0   \n",
      "42689          1    0   0   0    0   0    0   0  0  0   ...         0      0   \n",
      "47114          0    0   0   0    0   0    0   0  0  0   ...         0      0   \n",
      "53771          1    0   0   0    0   0    0   0  0  0   ...         0      0   \n",
      "54451          0    0   0   0    0   0    0   0  0  0   ...         0      0   \n",
      "57715          0    0   0   0    0   0    0   0  0  0   ...         0      0   \n",
      "__all__    14418  686  36  31  195  11  723  50  0  0   ...         0      0   \n",
      "\n",
      "Predicted  38701  39930  42689  47114  53771  54451  57715  __all__  \n",
      "Actual                                                               \n",
      "0              0      0      0      0      0      0      0    19017  \n",
      "1              0      0      0      0      0      0      0      587  \n",
      "2              0      0      0      0      0      0      0      103  \n",
      "3              0      0      0      0      0      0      0      120  \n",
      "4              0      0      0      0      0      0      0      539  \n",
      "5              0      0      0      0      0      0      0      146  \n",
      "6              0      0      0      0      0      0      0       35  \n",
      "7              0      0      0      0      0      0      0       15  \n",
      "8              0      0      0      0      0      0      0       15  \n",
      "9              0      0      0      0      0      0      0       12  \n",
      "10             0      0      0      0      0      0      0       15  \n",
      "11             0      0      0      0      0      0      0        9  \n",
      "12             0      0      0      0      0      0      0        3  \n",
      "13             0      0      0      0      0      0      0        3  \n",
      "14             0      0      0      0      0      0      0        4  \n",
      "15             0      0      0      0      0      0      0        3  \n",
      "16             0      0      0      0      0      0      0        1  \n",
      "18             0      0      0      0      0      0      0        3  \n",
      "19             0      0      0      0      0      0      0        1  \n",
      "20             0      0      0      0      0      0      0       12  \n",
      "21             0      0      0      0      0      0      0        6  \n",
      "22             0      0      0      0      0      0      0        6  \n",
      "23             0      0      0      0      0      0      0       10  \n",
      "24             0      0      0      0      0      0      0        1  \n",
      "25             0      0      0      0      0      0      0        1  \n",
      "26             0      0      0      0      0      0      0        8  \n",
      "27             0      0      0      0      0      0      0        4  \n",
      "28             0      0      0      0      0      0      0        7  \n",
      "29             0      0      0      0      0      0      0        3  \n",
      "30             0      0      0      0      0      0      0        5  \n",
      "...          ...    ...    ...    ...    ...    ...    ...      ...  \n",
      "8229           0      0      0      0      0      0      0        1  \n",
      "8232           0      0      0      0      0      0      0        1  \n",
      "8233           0      0      0      0      0      0      0        1  \n",
      "8579           0      0      0      0      0      0      0        1  \n",
      "8625           0      0      0      0      0      0      0        0  \n",
      "8890           0      0      0      0      0      0      0        1  \n",
      "9535           0      0      0      0      0      0      0        0  \n",
      "9645           0      0      0      0      0      0      0        1  \n",
      "9741           0      0      0      0      0      0      0        0  \n",
      "10455          0      0      0      0      0      0      0        0  \n",
      "10499          0      0      0      0      0      0      0        1  \n",
      "11675          0      0      0      0      0      0      0        1  \n",
      "12112          0      0      0      0      0      0      0        1  \n",
      "12931          0      0      0      0      0      0      0        1  \n",
      "13067          0      0      0      0      0      0      0        1  \n",
      "13500          0      0      0      0      0      0      0        0  \n",
      "13919          0      0      0      0      0      0      0        0  \n",
      "16500          0      0      0      0      0      0      0        1  \n",
      "18848          0      0      0      0      0      0      0        0  \n",
      "20252          0      0      0      0      0      0      0        0  \n",
      "20741          0      0      0      0      0      0      0        1  \n",
      "22174          0      0      0      0      0      0      0        1  \n",
      "38701          0      0      0      0      0      0      0        1  \n",
      "39930          0      0      0      0      0      0      0        0  \n",
      "42689          0      0      0      0      0      0      0        1  \n",
      "47114          0      0      0      0      0      0      0        1  \n",
      "53771          0      0      0      0      0      0      0        1  \n",
      "54451          0      0      0      0      0      0      0        1  \n",
      "57715          0      0      0      0      0      0      0        1  \n",
      "__all__        0      1      0      0      0      0      0    22543  \n",
      "\n",
      "[665 rows x 665 columns]\n",
      "\n",
      "\n",
      "Overall Statistics:\n",
      "\n",
      "Accuracy: 0.602581732689\n",
      "95% CI: (0.59615852470164288, 0.60897848017185874)\n",
      "No Information Rate: ToDo\n",
      "P-Value [Acc > NIR]: 1.0\n",
      "Kappa: 0.134691753753\n",
      "Mcnemar's Test P-Value: ToDo\n",
      "\n",
      "\n",
      "Class Statistics:\n",
      "\n",
      "Classes                                    0           1           2      \\\n",
      "Population                                 22543       22543       22543   \n",
      "P: Condition positive                      19017         587         103   \n",
      "N: Condition negative                       3526       21956       22440   \n",
      "Test outcome positive                      14418         686          36   \n",
      "Test outcome negative                       8125       21857       22507   \n",
      "TP: True Positive                          13576           1           4   \n",
      "TN: True Negative                           2684       21271       22408   \n",
      "FP: False Positive                           842         685          32   \n",
      "FN: False Negative                          5441         586          99   \n",
      "TPR: (Sensitivity, hit rate, recall)    0.713888  0.00170358    0.038835   \n",
      "TNR=SPC: (Specificity)                  0.761202    0.968801    0.998574   \n",
      "PPV: Pos Pred Value (Precision)         0.941601  0.00145773    0.111111   \n",
      "NPV: Neg Pred Value                     0.330338    0.973189    0.995601   \n",
      "FPR: False-out                          0.238798   0.0311988  0.00142602   \n",
      "FDR: False Discovery Rate              0.0583992    0.998542    0.888889   \n",
      "FNR: Miss Rate                          0.286112    0.998296    0.961165   \n",
      "ACC: Accuracy                           0.721288    0.943619    0.994189   \n",
      "F1 score                                0.812083  0.00157109    0.057554   \n",
      "MCC: Matthews correlation coefficient   0.359438  -0.0273457   0.0631823   \n",
      "Informedness                             0.47509  -0.0294952   0.0374089   \n",
      "Markedness                              0.271939  -0.0253529    0.106712   \n",
      "Prevalence                              0.843588   0.0260391  0.00456905   \n",
      "LR+: Positive likelihood ratio           2.98951    0.054604      27.233   \n",
      "LR-: Negative likelihood ratio          0.375869     1.03045    0.962538   \n",
      "DOR: Diagnostic odds ratio                7.9536   0.0529907     28.2929   \n",
      "FOR: False omission rate                0.669662   0.0268106  0.00439863   \n",
      "\n",
      "Classes                                     3           4            5      \\\n",
      "Population                                  22543       22543        22543   \n",
      "P: Condition positive                         120         539          146   \n",
      "N: Condition negative                       22423       22004        22397   \n",
      "Test outcome positive                          31         195           11   \n",
      "Test outcome negative                       22512       22348        22532   \n",
      "TP: True Positive                               0           0            0   \n",
      "TN: True Negative                           22392       21809        22386   \n",
      "FP: False Positive                             31         195           11   \n",
      "FN: False Negative                            120         539          146   \n",
      "TPR: (Sensitivity, hit rate, recall)            0           0            0   \n",
      "TNR=SPC: (Specificity)                   0.998617    0.991138     0.999509   \n",
      "PPV: Pos Pred Value (Precision)                 0           0            0   \n",
      "NPV: Neg Pred Value                       0.99467    0.975882      0.99352   \n",
      "FPR: False-out                         0.00138251  0.00886203  0.000491137   \n",
      "FDR: False Discovery Rate                       1           1            1   \n",
      "FNR: Miss Rate                                  1           1            1   \n",
      "ACC: Accuracy                            0.993302     0.96744     0.993036   \n",
      "F1 score                                        0           0            0   \n",
      "MCC: Matthews correlation coefficient -0.00271467  -0.0146198  -0.00178393   \n",
      "Informedness                          -0.00138251 -0.00886203 -0.000491137   \n",
      "Markedness                            -0.00533049  -0.0241185  -0.00647967   \n",
      "Prevalence                             0.00532316   0.0239099   0.00647651   \n",
      "LR+: Positive likelihood ratio                  0           0            0   \n",
      "LR-: Negative likelihood ratio            1.00138     1.00894      1.00049   \n",
      "DOR: Diagnostic odds ratio                      0           0            0   \n",
      "FOR: False omission rate               0.00533049   0.0241185   0.00647967   \n",
      "\n",
      "Classes                                     6            7            8      \\\n",
      "Population                                  22543        22543        22543   \n",
      "P: Condition positive                          35           15           15   \n",
      "N: Condition negative                       22508        22528        22528   \n",
      "Test outcome positive                         723           50            0   \n",
      "Test outcome negative                       21820        22493        22543   \n",
      "TP: True Positive                               0            0            0   \n",
      "TN: True Negative                           21785        22478        22528   \n",
      "FP: False Positive                            723           50            0   \n",
      "FN: False Negative                             35           15           15   \n",
      "TPR: (Sensitivity, hit rate, recall)            0            0            0   \n",
      "TNR=SPC: (Specificity)                   0.967878     0.997781            1   \n",
      "PPV: Pos Pred Value (Precision)                 0            0          NaN   \n",
      "NPV: Neg Pred Value                      0.998396     0.999333     0.999335   \n",
      "FPR: False-out                          0.0321219   0.00221946            0   \n",
      "FDR: False Discovery Rate                       1            1          NaN   \n",
      "FNR: Miss Rate                                  1            1            1   \n",
      "ACC: Accuracy                            0.966375     0.997117     0.999335   \n",
      "F1 score                                        0            0            0   \n",
      "MCC: Matthews correlation coefficient -0.00717806  -0.00121659          NaN   \n",
      "Informedness                           -0.0321219  -0.00221946            0   \n",
      "Markedness                            -0.00160403 -0.000666874          NaN   \n",
      "Prevalence                             0.00155259  0.000665395  0.000665395   \n",
      "LR+: Positive likelihood ratio                  0            0          NaN   \n",
      "LR-: Negative likelihood ratio            1.03319      1.00222            1   \n",
      "DOR: Diagnostic odds ratio                      0            0          NaN   \n",
      "FOR: False omission rate               0.00160403  0.000666874  0.000665395   \n",
      "\n",
      "Classes                                      9         ...            20252  \\\n",
      "Population                                   22543     ...            22543   \n",
      "P: Condition positive                           12     ...                0   \n",
      "N: Condition negative                        22531     ...            22543   \n",
      "Test outcome positive                            0     ...              218   \n",
      "Test outcome negative                        22543     ...            22325   \n",
      "TP: True Positive                                0     ...                0   \n",
      "TN: True Negative                            22531     ...            22325   \n",
      "FP: False Positive                               0     ...              218   \n",
      "FN: False Negative                              12     ...                0   \n",
      "TPR: (Sensitivity, hit rate, recall)             0     ...              NaN   \n",
      "TNR=SPC: (Specificity)                           1     ...          0.99033   \n",
      "PPV: Pos Pred Value (Precision)                NaN     ...                0   \n",
      "NPV: Neg Pred Value                       0.999468     ...                1   \n",
      "FPR: False-out                                   0     ...       0.00967041   \n",
      "FDR: False Discovery Rate                      NaN     ...                1   \n",
      "FNR: Miss Rate                                   1     ...              NaN   \n",
      "ACC: Accuracy                             0.999468     ...          0.99033   \n",
      "F1 score                                         0     ...                0   \n",
      "MCC: Matthews correlation coefficient          NaN     ...              NaN   \n",
      "Informedness                                     0     ...              NaN   \n",
      "Markedness                                     NaN     ...                0   \n",
      "Prevalence                             0.000532316     ...                0   \n",
      "LR+: Positive likelihood ratio                 NaN     ...              NaN   \n",
      "LR-: Negative likelihood ratio                   1     ...              NaN   \n",
      "DOR: Diagnostic odds ratio                     NaN     ...              NaN   \n",
      "FOR: False omission rate               0.000532316     ...                0   \n",
      "\n",
      "Classes                                      20741        22174        38701  \\\n",
      "Population                                   22543        22543        22543   \n",
      "P: Condition positive                            1            1            1   \n",
      "N: Condition negative                        22542        22542        22542   \n",
      "Test outcome positive                            0            0            0   \n",
      "Test outcome negative                        22543        22543        22543   \n",
      "TP: True Positive                                0            0            0   \n",
      "TN: True Negative                            22542        22542        22542   \n",
      "FP: False Positive                               0            0            0   \n",
      "FN: False Negative                               1            1            1   \n",
      "TPR: (Sensitivity, hit rate, recall)             0            0            0   \n",
      "TNR=SPC: (Specificity)                           1            1            1   \n",
      "PPV: Pos Pred Value (Precision)                NaN          NaN          NaN   \n",
      "NPV: Neg Pred Value                       0.999956     0.999956     0.999956   \n",
      "FPR: False-out                                   0            0            0   \n",
      "FDR: False Discovery Rate                      NaN          NaN          NaN   \n",
      "FNR: Miss Rate                                   1            1            1   \n",
      "ACC: Accuracy                             0.999956     0.999956     0.999956   \n",
      "F1 score                                         0            0            0   \n",
      "MCC: Matthews correlation coefficient          NaN          NaN          NaN   \n",
      "Informedness                                     0            0            0   \n",
      "Markedness                                     NaN          NaN          NaN   \n",
      "Prevalence                             4.43597e-05  4.43597e-05  4.43597e-05   \n",
      "LR+: Positive likelihood ratio                 NaN          NaN          NaN   \n",
      "LR-: Negative likelihood ratio                   1            1            1   \n",
      "DOR: Diagnostic odds ratio                     NaN          NaN          NaN   \n",
      "FOR: False omission rate               4.43597e-05  4.43597e-05  4.43597e-05   \n",
      "\n",
      "Classes                                      39930        42689        47114  \\\n",
      "Population                                   22543        22543        22543   \n",
      "P: Condition positive                            0            1            1   \n",
      "N: Condition negative                        22543        22542        22542   \n",
      "Test outcome positive                            1            0            0   \n",
      "Test outcome negative                        22542        22543        22543   \n",
      "TP: True Positive                                0            0            0   \n",
      "TN: True Negative                            22542        22542        22542   \n",
      "FP: False Positive                               1            0            0   \n",
      "FN: False Negative                               0            1            1   \n",
      "TPR: (Sensitivity, hit rate, recall)           NaN            0            0   \n",
      "TNR=SPC: (Specificity)                    0.999956            1            1   \n",
      "PPV: Pos Pred Value (Precision)                  0          NaN          NaN   \n",
      "NPV: Neg Pred Value                              1     0.999956     0.999956   \n",
      "FPR: False-out                         4.43597e-05            0            0   \n",
      "FDR: False Discovery Rate                        1          NaN          NaN   \n",
      "FNR: Miss Rate                                 NaN            1            1   \n",
      "ACC: Accuracy                             0.999956     0.999956     0.999956   \n",
      "F1 score                                         0            0            0   \n",
      "MCC: Matthews correlation coefficient          NaN          NaN          NaN   \n",
      "Informedness                                   NaN            0            0   \n",
      "Markedness                                       0          NaN          NaN   \n",
      "Prevalence                                       0  4.43597e-05  4.43597e-05   \n",
      "LR+: Positive likelihood ratio                 NaN          NaN          NaN   \n",
      "LR-: Negative likelihood ratio                 NaN            1            1   \n",
      "DOR: Diagnostic odds ratio                     NaN          NaN          NaN   \n",
      "FOR: False omission rate                         0  4.43597e-05  4.43597e-05   \n",
      "\n",
      "Classes                                      53771        54451        57715  \n",
      "Population                                   22543        22543        22543  \n",
      "P: Condition positive                            1            1            1  \n",
      "N: Condition negative                        22542        22542        22542  \n",
      "Test outcome positive                            0            0            0  \n",
      "Test outcome negative                        22543        22543        22543  \n",
      "TP: True Positive                                0            0            0  \n",
      "TN: True Negative                            22542        22542        22542  \n",
      "FP: False Positive                               0            0            0  \n",
      "FN: False Negative                               1            1            1  \n",
      "TPR: (Sensitivity, hit rate, recall)             0            0            0  \n",
      "TNR=SPC: (Specificity)                           1            1            1  \n",
      "PPV: Pos Pred Value (Precision)                NaN          NaN          NaN  \n",
      "NPV: Neg Pred Value                       0.999956     0.999956     0.999956  \n",
      "FPR: False-out                                   0            0            0  \n",
      "FDR: False Discovery Rate                      NaN          NaN          NaN  \n",
      "FNR: Miss Rate                                   1            1            1  \n",
      "ACC: Accuracy                             0.999956     0.999956     0.999956  \n",
      "F1 score                                         0            0            0  \n",
      "MCC: Matthews correlation coefficient          NaN          NaN          NaN  \n",
      "Informedness                                     0            0            0  \n",
      "Markedness                                     NaN          NaN          NaN  \n",
      "Prevalence                             4.43597e-05  4.43597e-05  4.43597e-05  \n",
      "LR+: Positive likelihood ratio                 NaN          NaN          NaN  \n",
      "LR-: Negative likelihood ratio                   1            1            1  \n",
      "DOR: Diagnostic odds ratio                     NaN          NaN          NaN  \n",
      "FOR: False omission rate               4.43597e-05  4.43597e-05  4.43597e-05  \n",
      "\n",
      "[26 rows x 664 columns]\n"
     ]
    },
    {
     "data": {
      "text/plain": [
       "Predicted      0    1   2   3    4   5    6   7  8  9   ...     20741  22174  \\\n",
       "Actual                                                  ...                    \n",
       "0          13576  166   4  28  174   7  675  43  0  0   ...         0      0   \n",
       "1            118    1   1   0    1   1    2   1  0  0   ...         0      0   \n",
       "2             62    0   4   0    0   0    2   0  0  0   ...         0      0   \n",
       "3             52    2   0   0    0   0    1   0  0  0   ...         0      0   \n",
       "4             13    0   0   0    0   1    5   0  0  0   ...         0      0   \n",
       "5             12    3   1   2    0   0   13   2  0  0   ...         0      0   \n",
       "6             11    0   0   0    0   0    0   1  0  0   ...         0      0   \n",
       "7              6    0   0   0    0   0    0   0  0  0   ...         0      0   \n",
       "8              5    0   0   0    0   0    0   1  0  0   ...         0      0   \n",
       "9              3    0   1   0    0   0    0   0  0  0   ...         0      0   \n",
       "10             6    0   0   0    0   0    0   0  0  0   ...         0      0   \n",
       "11             6    0   0   0    0   0    0   0  0  0   ...         0      0   \n",
       "12             1    0   0   0    0   0    0   0  0  0   ...         0      0   \n",
       "13             2    0   0   0    0   0    0   0  0  0   ...         0      0   \n",
       "14             0    0   0   0    0   0    0   0  0  0   ...         0      0   \n",
       "15             1    0   0   0    0   0    0   0  0  0   ...         0      0   \n",
       "16             0    0   0   0    0   0    1   0  0  0   ...         0      0   \n",
       "18             1    2   0   0    0   0    0   0  0  0   ...         0      0   \n",
       "19             0    0   0   0    0   0    0   0  0  0   ...         0      0   \n",
       "20             1    9   0   0    0   0    0   0  0  0   ...         0      0   \n",
       "21             0    4   0   0    0   1    0   0  0  0   ...         0      0   \n",
       "22             1    3   0   0    0   0    0   0  0  0   ...         0      0   \n",
       "23             0    1   6   0    0   0    0   1  0  0   ...         0      0   \n",
       "24             0    0   1   0    0   0    0   0  0  0   ...         0      0   \n",
       "25             0    0   1   0    0   0    0   0  0  0   ...         0      0   \n",
       "26             3    0   3   0    0   0    0   1  0  0   ...         0      0   \n",
       "27             1    0   3   0    0   0    0   0  0  0   ...         0      0   \n",
       "28             1    0   5   0    0   0    0   0  0  0   ...         0      0   \n",
       "29             1    0   0   0    0   0    2   0  0  0   ...         0      0   \n",
       "30             2    0   2   0    0   0    0   0  0  0   ...         0      0   \n",
       "...          ...  ...  ..  ..  ...  ..  ...  .. .. ..   ...       ...    ...   \n",
       "8229           1    0   0   0    0   0    0   0  0  0   ...         0      0   \n",
       "8232           1    0   0   0    0   0    0   0  0  0   ...         0      0   \n",
       "8233           1    0   0   0    0   0    0   0  0  0   ...         0      0   \n",
       "8579           0    0   0   0    0   0    0   0  0  0   ...         0      0   \n",
       "8625           0    0   0   0    0   0    0   0  0  0   ...         0      0   \n",
       "8890           0    0   0   0    0   0    0   0  0  0   ...         0      0   \n",
       "9535           0    0   0   0    0   0    0   0  0  0   ...         0      0   \n",
       "9645           0    0   0   0    0   0    0   0  0  0   ...         0      0   \n",
       "9741           0    0   0   0    0   0    0   0  0  0   ...         0      0   \n",
       "10455          0    0   0   0    0   0    0   0  0  0   ...         0      0   \n",
       "10499          0    0   0   0    0   0    0   0  0  0   ...         0      0   \n",
       "11675          1    0   0   0    0   0    0   0  0  0   ...         0      0   \n",
       "12112          1    0   0   0    0   0    0   0  0  0   ...         0      0   \n",
       "12931          0    0   0   0    0   0    0   0  0  0   ...         0      0   \n",
       "13067          1    0   0   0    0   0    0   0  0  0   ...         0      0   \n",
       "13500          0    0   0   0    0   0    0   0  0  0   ...         0      0   \n",
       "13919          0    0   0   0    0   0    0   0  0  0   ...         0      0   \n",
       "16500          0    0   0   0    0   0    0   0  0  0   ...         0      0   \n",
       "18848          0    0   0   0    0   0    0   0  0  0   ...         0      0   \n",
       "20252          0    0   0   0    0   0    0   0  0  0   ...         0      0   \n",
       "20741          0    0   0   0    1   0    0   0  0  0   ...         0      0   \n",
       "22174          0    0   0   0    0   0    0   0  0  0   ...         0      0   \n",
       "38701          1    0   0   0    0   0    0   0  0  0   ...         0      0   \n",
       "39930          0    0   0   0    0   0    0   0  0  0   ...         0      0   \n",
       "42689          1    0   0   0    0   0    0   0  0  0   ...         0      0   \n",
       "47114          0    0   0   0    0   0    0   0  0  0   ...         0      0   \n",
       "53771          1    0   0   0    0   0    0   0  0  0   ...         0      0   \n",
       "54451          0    0   0   0    0   0    0   0  0  0   ...         0      0   \n",
       "57715          0    0   0   0    0   0    0   0  0  0   ...         0      0   \n",
       "__all__    14418  686  36  31  195  11  723  50  0  0   ...         0      0   \n",
       "\n",
       "Predicted  38701  39930  42689  47114  53771  54451  57715  __all__  \n",
       "Actual                                                               \n",
       "0              0      0      0      0      0      0      0    19017  \n",
       "1              0      0      0      0      0      0      0      587  \n",
       "2              0      0      0      0      0      0      0      103  \n",
       "3              0      0      0      0      0      0      0      120  \n",
       "4              0      0      0      0      0      0      0      539  \n",
       "5              0      0      0      0      0      0      0      146  \n",
       "6              0      0      0      0      0      0      0       35  \n",
       "7              0      0      0      0      0      0      0       15  \n",
       "8              0      0      0      0      0      0      0       15  \n",
       "9              0      0      0      0      0      0      0       12  \n",
       "10             0      0      0      0      0      0      0       15  \n",
       "11             0      0      0      0      0      0      0        9  \n",
       "12             0      0      0      0      0      0      0        3  \n",
       "13             0      0      0      0      0      0      0        3  \n",
       "14             0      0      0      0      0      0      0        4  \n",
       "15             0      0      0      0      0      0      0        3  \n",
       "16             0      0      0      0      0      0      0        1  \n",
       "18             0      0      0      0      0      0      0        3  \n",
       "19             0      0      0      0      0      0      0        1  \n",
       "20             0      0      0      0      0      0      0       12  \n",
       "21             0      0      0      0      0      0      0        6  \n",
       "22             0      0      0      0      0      0      0        6  \n",
       "23             0      0      0      0      0      0      0       10  \n",
       "24             0      0      0      0      0      0      0        1  \n",
       "25             0      0      0      0      0      0      0        1  \n",
       "26             0      0      0      0      0      0      0        8  \n",
       "27             0      0      0      0      0      0      0        4  \n",
       "28             0      0      0      0      0      0      0        7  \n",
       "29             0      0      0      0      0      0      0        3  \n",
       "30             0      0      0      0      0      0      0        5  \n",
       "...          ...    ...    ...    ...    ...    ...    ...      ...  \n",
       "8229           0      0      0      0      0      0      0        1  \n",
       "8232           0      0      0      0      0      0      0        1  \n",
       "8233           0      0      0      0      0      0      0        1  \n",
       "8579           0      0      0      0      0      0      0        1  \n",
       "8625           0      0      0      0      0      0      0        0  \n",
       "8890           0      0      0      0      0      0      0        1  \n",
       "9535           0      0      0      0      0      0      0        0  \n",
       "9645           0      0      0      0      0      0      0        1  \n",
       "9741           0      0      0      0      0      0      0        0  \n",
       "10455          0      0      0      0      0      0      0        0  \n",
       "10499          0      0      0      0      0      0      0        1  \n",
       "11675          0      0      0      0      0      0      0        1  \n",
       "12112          0      0      0      0      0      0      0        1  \n",
       "12931          0      0      0      0      0      0      0        1  \n",
       "13067          0      0      0      0      0      0      0        1  \n",
       "13500          0      0      0      0      0      0      0        0  \n",
       "13919          0      0      0      0      0      0      0        0  \n",
       "16500          0      0      0      0      0      0      0        1  \n",
       "18848          0      0      0      0      0      0      0        0  \n",
       "20252          0      0      0      0      0      0      0        0  \n",
       "20741          0      0      0      0      0      0      0        1  \n",
       "22174          0      0      0      0      0      0      0        1  \n",
       "38701          0      0      0      0      0      0      0        1  \n",
       "39930          0      0      0      0      0      0      0        0  \n",
       "42689          0      0      0      0      0      0      0        1  \n",
       "47114          0      0      0      0      0      0      0        1  \n",
       "53771          0      0      0      0      0      0      0        1  \n",
       "54451          0      0      0      0      0      0      0        1  \n",
       "57715          0      0      0      0      0      0      0        1  \n",
       "__all__        0      1      0      0      0      0      0    22543  \n",
       "\n",
       "[665 rows x 665 columns]"
      ]
     },
     "metadata": {},
     "output_type": "display_data"
    },
    {
     "data": {
      "text/html": [
       "<h4> Naive Bayes model PredictedResults Shape: '(22543,)'</h4>"
      ],
      "text/plain": [
       "<IPython.core.display.HTML object>"
      ]
     },
     "metadata": {},
     "output_type": "display_data"
    },
    {
     "data": {
      "text/html": [
       "<h4> Naive Bayes model ExpectedResults Shape: '(22543,)'</h4>"
      ],
      "text/plain": [
       "<IPython.core.display.HTML object>"
      ]
     },
     "metadata": {},
     "output_type": "display_data"
    },
    {
     "name": "stderr",
     "output_type": "stream",
     "text": [
      "/Users/apatkar/anaconda3/lib/python3.6/site-packages/sklearn/metrics/classification.py:1135: UndefinedMetricWarning: Precision is ill-defined and being set to 0.0 in labels with no predicted samples.\n",
      "  'precision', 'predicted', average, warn_for)\n",
      "/Users/apatkar/anaconda3/lib/python3.6/site-packages/sklearn/metrics/classification.py:1137: UndefinedMetricWarning: Recall is ill-defined and being set to 0.0 in labels with no true samples.\n",
      "  'recall', 'true', average, warn_for)\n"
     ]
    },
    {
     "data": {
      "text/html": [
       "<h3>Accuracy</h3>"
      ],
      "text/plain": [
       "<IPython.core.display.HTML object>"
      ]
     },
     "metadata": {},
     "output_type": "display_data"
    },
    {
     "data": {
      "text/html": [
       "0.603"
      ],
      "text/plain": [
       "<IPython.core.display.HTML object>"
      ]
     },
     "metadata": {},
     "output_type": "display_data"
    },
    {
     "data": {
      "text/html": [
       "<h3>precision</h3>"
      ],
      "text/plain": [
       "<IPython.core.display.HTML object>"
      ]
     },
     "metadata": {},
     "output_type": "display_data"
    },
    {
     "data": {
      "text/html": [
       "0.795"
      ],
      "text/plain": [
       "<IPython.core.display.HTML object>"
      ]
     },
     "metadata": {},
     "output_type": "display_data"
    },
    {
     "data": {
      "text/html": [
       "<h3>recall</h3>"
      ],
      "text/plain": [
       "<IPython.core.display.HTML object>"
      ]
     },
     "metadata": {},
     "output_type": "display_data"
    },
    {
     "data": {
      "text/html": [
       "0.603"
      ],
      "text/plain": [
       "<IPython.core.display.HTML object>"
      ]
     },
     "metadata": {},
     "output_type": "display_data"
    },
    {
     "data": {
      "text/html": [
       "<h3>f-score</h3>"
      ],
      "text/plain": [
       "<IPython.core.display.HTML object>"
      ]
     },
     "metadata": {},
     "output_type": "display_data"
    },
    {
     "data": {
      "text/html": [
       "0.685"
      ],
      "text/plain": [
       "<IPython.core.display.HTML object>"
      ]
     },
     "metadata": {},
     "output_type": "display_data"
    },
    {
     "name": "stdout",
     "output_type": "stream",
     "text": [
      "~~~~~~~~~~~~~~~~~~~End Of Naive Bayes model~~~~~~~~~~~~~~~~~~~\n"
     ]
    }
   ],
   "source": [
    "print(\"~~~~~~~~~~~~~~~~~~~Start Of Naive Bayes model~~~~~~~~~~~~~~~~~~~\")\n",
    "# fit a Naive Bayes model to the data\n",
    "GNBmodel = GaussianNB()\n",
    "GNBmodel.fit(Traindata, Trainlabel)\n",
    "display(GNBmodel)\n",
    "# make predictions\n",
    "GNBexpected = Testlabel\n",
    "GNBpredicted = GNBmodel.predict(Testdata)\n",
    "\n",
    "GNBcm = ConfusionMatrix(GNBexpected, GNBpredicted)\n",
    "#display(GNBexpected.shape)\n",
    "#display(GNBpredicted.shape)\n",
    "GNBexpected = np.array(GNBexpected)\n",
    "predicted = np.array(GNBpredicted)\n",
    "GNBcm.print_stats()\n",
    "\n",
    "np.savetxt('GNBexpected.txt', GNBexpected, fmt='%01d')\n",
    "np.savetxt('GNBpredicted.txt', GNBpredicted , fmt='%01d')\n",
    "\n",
    "display(GNBcm)\n",
    "display(HTML(\"<h4> Naive Bayes model PredictedResults Shape: '{GNBP}'</h4>\".\n",
    "                     format(ColumnName=ColumnName, GNBP=GNBexpected.shape))) #GNBexpected.shape)\n",
    "display(HTML(\"<h4> Naive Bayes model ExpectedResults Shape: '{GNBE}'</h4>\".\n",
    "                     format(ColumnName=ColumnName, GNBE=GNBpredicted.shape)))\n",
    "#display(GNBpredicted.shape)\n",
    "GNBcm.stats()\n",
    "\n",
    "GNBaccuracy = accuracy_score(GNBexpected, GNBpredicted)\n",
    "GNBprecision = precision_score(GNBexpected, GNBpredicted, average='weighted')\n",
    "GNBrecall = recall_score(GNBexpected, GNBpredicted, average='weighted')\n",
    "GNBf1 = 2 * (GNBprecision * GNBrecall) / (GNBprecision + GNBrecall)\n",
    "\n",
    "display(HTML(\"<h3>Accuracy</h3>\"))\n",
    "display(HTML(str.format('{0:.3f}', GNBaccuracy)))\n",
    "\n",
    "display(HTML(\"<h3>precision</h3>\"))\n",
    "display(HTML(str.format('{0:.3f}', GNBprecision))) \n",
    "\n",
    "display(HTML(\"<h3>recall</h3>\"))\n",
    "display(HTML(str.format('{0:.3f}', GNBrecall)))\n",
    "\n",
    "display(HTML(\"<h3>f1-score</h3>\"))\n",
    "display(HTML(str.format('{0:.3f}', GNBf1)))\n",
    "\n",
    "print(\"~~~~~~~~~~~~~~~~~~~End Of Naive Bayes model~~~~~~~~~~~~~~~~~~~\")"
   ]
  },
  {
   "cell_type": "code",
   "execution_count": 68,
   "metadata": {},
   "outputs": [
    {
     "name": "stdout",
     "output_type": "stream",
     "text": [
      "~~~~~~~~~~~~~~~~~~~Start Of k-nearest neighbor model~~~~~~~~~~~~~~~~~~~\n",
      "KNeighborsClassifier(algorithm='auto', leaf_size=30, metric='minkowski',\n",
      "           metric_params=None, n_jobs=1, n_neighbors=5, p=2,\n",
      "           weights='uniform')\n",
      "[[18853    70    10 ...,     0     0     0]\n",
      " [  551    25     4 ...,     0     0     0]\n",
      " [   97     4     0 ...,     0     0     0]\n",
      " ..., \n",
      " [    0     0     0 ...,     0     0     0]\n",
      " [    1     0     0 ...,     0     0     0]\n",
      " [    0     0     0 ...,     0     0     0]]\n"
     ]
    },
    {
     "name": "stderr",
     "output_type": "stream",
     "text": [
      "/Users/apatkar/anaconda3/lib/python3.6/site-packages/sklearn/metrics/classification.py:1135: UndefinedMetricWarning: Precision is ill-defined and being set to 0.0 in labels with no predicted samples.\n",
      "  'precision', 'predicted', average, warn_for)\n",
      "/Users/apatkar/anaconda3/lib/python3.6/site-packages/sklearn/metrics/classification.py:1137: UndefinedMetricWarning: Recall is ill-defined and being set to 0.0 in labels with no true samples.\n",
      "  'recall', 'true', average, warn_for)\n"
     ]
    },
    {
     "data": {
      "text/html": [
       "<h3>Accuracy</h3>"
      ],
      "text/plain": [
       "<IPython.core.display.HTML object>"
      ]
     },
     "metadata": {},
     "output_type": "display_data"
    },
    {
     "data": {
      "text/html": [
       "0.838"
      ],
      "text/plain": [
       "<IPython.core.display.HTML object>"
      ]
     },
     "metadata": {},
     "output_type": "display_data"
    },
    {
     "data": {
      "text/html": [
       "<h3>precision</h3>"
      ],
      "text/plain": [
       "<IPython.core.display.HTML object>"
      ]
     },
     "metadata": {},
     "output_type": "display_data"
    },
    {
     "data": {
      "text/html": [
       "0.730"
      ],
      "text/plain": [
       "<IPython.core.display.HTML object>"
      ]
     },
     "metadata": {},
     "output_type": "display_data"
    },
    {
     "data": {
      "text/html": [
       "<h3>recall</h3>"
      ],
      "text/plain": [
       "<IPython.core.display.HTML object>"
      ]
     },
     "metadata": {},
     "output_type": "display_data"
    },
    {
     "data": {
      "text/html": [
       "0.838"
      ],
      "text/plain": [
       "<IPython.core.display.HTML object>"
      ]
     },
     "metadata": {},
     "output_type": "display_data"
    },
    {
     "data": {
      "text/html": [
       "<h3>f-score</h3>"
      ],
      "text/plain": [
       "<IPython.core.display.HTML object>"
      ]
     },
     "metadata": {},
     "output_type": "display_data"
    },
    {
     "data": {
      "text/html": [
       "0.781"
      ],
      "text/plain": [
       "<IPython.core.display.HTML object>"
      ]
     },
     "metadata": {},
     "output_type": "display_data"
    },
    {
     "data": {
      "text/html": [
       "<h3>f-score</h3>"
      ],
      "text/plain": [
       "<IPython.core.display.HTML object>"
      ]
     },
     "metadata": {},
     "output_type": "display_data"
    },
    {
     "data": {
      "text/html": [
       "0.043"
      ],
      "text/plain": [
       "<IPython.core.display.HTML object>"
      ]
     },
     "metadata": {},
     "output_type": "display_data"
    },
    {
     "data": {
      "text/html": [
       "<h3>f-score</h3>"
      ],
      "text/plain": [
       "<IPython.core.display.HTML object>"
      ]
     },
     "metadata": {},
     "output_type": "display_data"
    },
    {
     "data": {
      "text/html": [
       "0.991"
      ],
      "text/plain": [
       "<IPython.core.display.HTML object>"
      ]
     },
     "metadata": {},
     "output_type": "display_data"
    },
    {
     "name": "stdout",
     "output_type": "stream",
     "text": [
      "~~~~~~~~~~~~~~~~~~~End Of k-nearest neighbor model~~~~~~~~~~~~~~~~~~~\n"
     ]
    }
   ],
   "source": [
    "\n",
    "print(\"~~~~~~~~~~~~~~~~~~~Start Of k-nearest neighbor model~~~~~~~~~~~~~~~~~~~\")\n",
    "# fit a k-nearest neighbor model to the data\n",
    "KNmodel = KNeighborsClassifier()\n",
    "KNmodel.fit(Traindata, Trainlabel)\n",
    "print(KNmodel)\n",
    "# make predictions\n",
    "KNexpected = Testlabel\n",
    "KNpredicted = KNmodel.predict(Testdata)\n",
    "# summarize the fit of the model\n",
    "\n",
    "KNcm = metrics.confusion_matrix(KNexpected, KNpredicted)\n",
    "print(KNcm)\n",
    "KNtpr = float(KNcm[0][0])/np.sum(KNcm[0])\n",
    "KNfpr = float(KNcm[1][1])/np.sum(KNcm[1])\n",
    "KNaccuracy = accuracy_score(KNexpected, KNpredicted)\n",
    "KNprecision = precision_score(KNexpected, KNpredicted, average='weighted')\n",
    "KNrecall = recall_score(KNexpected, KNpredicted, average='weighted')\n",
    "KNf1 = 2 * (KNprecision * KNrecall) / (KNprecision + KNrecall)\n",
    "\n",
    "display(HTML(\"<h3>Accuracy</h3>\"))\n",
    "display(HTML(str.format('{0:.3f}', KNaccuracy)))\n",
    "\n",
    "display(HTML(\"<h3>precision</h3>\"))\n",
    "display(HTML(str.format('{0:.3f}', KNprecision))) \n",
    "\n",
    "display(HTML(\"<h3>recall</h3>\"))\n",
    "display(HTML(str.format('{0:.3f}', KNrecall)))\n",
    "\n",
    "display(HTML(\"<h3>f-score</h3>\"))\n",
    "display(HTML(str.format('{0:.3f}', KNf1)))\n",
    "\n",
    "display(HTML(\"<h3>FPR</h3>\"))\n",
    "display(HTML(str.format('{0:.3f}', KNfpr)))\n",
    "\n",
    "display(HTML(\"<h3>TPR</h3>\"))\n",
    "display(HTML(str.format('{0:.3f}', KNtpr)))\n",
    "\n",
    "np.savetxt('KNexpected.txt', KNexpected, fmt='%01d')\n",
    "np.savetxt('KNpredicted.txt', KNpredicted, fmt='%01d')\n",
    "print(\"~~~~~~~~~~~~~~~~~~~End Of k-nearest neighbor model~~~~~~~~~~~~~~~~~~~\")"
   ]
  },
  {
   "cell_type": "code",
   "execution_count": 69,
   "metadata": {},
   "outputs": [
    {
     "name": "stdout",
     "output_type": "stream",
     "text": [
      "~~~~~~~~~~~~~~~~~~~Start Of Decision Tree model~~~~~~~~~~~~~~~~~~~\n",
      "DecisionTreeClassifier(class_weight=None, criterion='gini', max_depth=None,\n",
      "            max_features=None, max_leaf_nodes=None,\n",
      "            min_impurity_decrease=0.0, min_impurity_split=None,\n",
      "            min_samples_leaf=1, min_samples_split=2,\n",
      "            min_weight_fraction_leaf=0.0, presort=False, random_state=None,\n",
      "            splitter='best')\n",
      "[[17771   203   150 ...,     0     0     0]\n",
      " [  538     0    27 ...,     0     0     0]\n",
      " [   80     0    14 ...,     0     0     0]\n",
      " ..., \n",
      " [    1     0     0 ...,     0     0     0]\n",
      " [    1     0     0 ...,     0     0     0]\n",
      " [    0     0     0 ...,     0     0     0]]\n"
     ]
    },
    {
     "name": "stderr",
     "output_type": "stream",
     "text": [
      "/Users/apatkar/anaconda3/lib/python3.6/site-packages/sklearn/metrics/classification.py:1135: UndefinedMetricWarning: Precision is ill-defined and being set to 0.0 in labels with no predicted samples.\n",
      "  'precision', 'predicted', average, warn_for)\n",
      "/Users/apatkar/anaconda3/lib/python3.6/site-packages/sklearn/metrics/classification.py:1137: UndefinedMetricWarning: Recall is ill-defined and being set to 0.0 in labels with no true samples.\n",
      "  'recall', 'true', average, warn_for)\n"
     ]
    },
    {
     "data": {
      "text/html": [
       "<h3>Accuracy</h3>"
      ],
      "text/plain": [
       "<IPython.core.display.HTML object>"
      ]
     },
     "metadata": {},
     "output_type": "display_data"
    },
    {
     "data": {
      "text/html": [
       "0.789"
      ],
      "text/plain": [
       "<IPython.core.display.HTML object>"
      ]
     },
     "metadata": {},
     "output_type": "display_data"
    },
    {
     "data": {
      "text/html": [
       "<h3>precision</h3>"
      ],
      "text/plain": [
       "<IPython.core.display.HTML object>"
      ]
     },
     "metadata": {},
     "output_type": "display_data"
    },
    {
     "data": {
      "text/html": [
       "0.736"
      ],
      "text/plain": [
       "<IPython.core.display.HTML object>"
      ]
     },
     "metadata": {},
     "output_type": "display_data"
    },
    {
     "data": {
      "text/html": [
       "<h3>recall</h3>"
      ],
      "text/plain": [
       "<IPython.core.display.HTML object>"
      ]
     },
     "metadata": {},
     "output_type": "display_data"
    },
    {
     "data": {
      "text/html": [
       "0.789"
      ],
      "text/plain": [
       "<IPython.core.display.HTML object>"
      ]
     },
     "metadata": {},
     "output_type": "display_data"
    },
    {
     "data": {
      "text/html": [
       "<h3>f-score</h3>"
      ],
      "text/plain": [
       "<IPython.core.display.HTML object>"
      ]
     },
     "metadata": {},
     "output_type": "display_data"
    },
    {
     "data": {
      "text/html": [
       "0.761"
      ],
      "text/plain": [
       "<IPython.core.display.HTML object>"
      ]
     },
     "metadata": {},
     "output_type": "display_data"
    },
    {
     "data": {
      "text/html": [
       "<h3>FPR</h3>"
      ],
      "text/plain": [
       "<IPython.core.display.HTML object>"
      ]
     },
     "metadata": {},
     "output_type": "display_data"
    },
    {
     "data": {
      "text/html": [
       "0.000"
      ],
      "text/plain": [
       "<IPython.core.display.HTML object>"
      ]
     },
     "metadata": {},
     "output_type": "display_data"
    },
    {
     "data": {
      "text/html": [
       "<h3>TPR</h3>"
      ],
      "text/plain": [
       "<IPython.core.display.HTML object>"
      ]
     },
     "metadata": {},
     "output_type": "display_data"
    },
    {
     "data": {
      "text/html": [
       "0.934"
      ],
      "text/plain": [
       "<IPython.core.display.HTML object>"
      ]
     },
     "metadata": {},
     "output_type": "display_data"
    },
    {
     "name": "stdout",
     "output_type": "stream",
     "text": [
      "~~~~~~~~~~~~~~~~~~~End Of Decision Tree model~~~~~~~~~~~~~~~~~~~\n"
     ]
    }
   ],
   "source": [
    "\n",
    "print(\"~~~~~~~~~~~~~~~~~~~Start Of Decision Tree model~~~~~~~~~~~~~~~~~~~\")\n",
    "# fit a Decision Tree model to the data\n",
    "DTmodel = DecisionTreeClassifier()\n",
    "DTmodel.fit(Traindata, Trainlabel)\n",
    "print(DTmodel)\n",
    "\n",
    "# make predictions\n",
    "DTexpected = Testlabel\n",
    "DTpredicted = DTmodel.predict(Testdata)\n",
    "\n",
    "# summarize the fit of the model\n",
    "\n",
    "DTcm = metrics.confusion_matrix(DTexpected, DTpredicted)\n",
    "print(DTcm)\n",
    "DTtpr = float(DTcm[0][0])/np.sum(DTcm[0])\n",
    "DTfpr = float(DTcm[1][1])/np.sum(DTcm[1])\n",
    "DTaccuracy = accuracy_score(DTexpected, DTpredicted)\n",
    "DTprecision = precision_score(DTexpected, DTpredicted, average='weighted')\n",
    "DTrecall = recall_score(DTexpected, DTpredicted, average='weighted')\n",
    "DTf1 = 2 * (DTprecision * DTrecall) / (DTprecision + DTrecall)\n",
    "\n",
    "display(HTML(\"<h3>Accuracy</h3>\"))\n",
    "display(HTML(str.format('{0:.3f}', DTaccuracy)))\n",
    "\n",
    "display(HTML(\"<h3>precision</h3>\"))\n",
    "display(HTML(str.format('{0:.3f}', DTprecision))) \n",
    "\n",
    "display(HTML(\"<h3>recall</h3>\"))\n",
    "display(HTML(str.format('{0:.3f}', DTrecall)))\n",
    "\n",
    "display(HTML(\"<h3>f-score</h3>\"))\n",
    "display(HTML(str.format('{0:.3f}', DTf1)))\n",
    "\n",
    "display(HTML(\"<h3>FPR</h3>\"))\n",
    "display(HTML(str.format('{0:.3f}', DTfpr)))\n",
    "\n",
    "display(HTML(\"<h3>TPR</h3>\"))\n",
    "display(HTML(str.format('{0:.3f}', DTtpr)))\n",
    "\n",
    "np.savetxt('DTexpected.txt', DTexpected, fmt='%01d')\n",
    "np.savetxt('DTpredicted.txt', DTpredicted, fmt='%01d')\n",
    "print(\"~~~~~~~~~~~~~~~~~~~End Of Decision Tree model~~~~~~~~~~~~~~~~~~~\")"
   ]
  },
  {
   "cell_type": "code",
   "execution_count": 70,
   "metadata": {},
   "outputs": [
    {
     "name": "stdout",
     "output_type": "stream",
     "text": [
      "~~~~~~~~~~~~~~~~~~~Start Of Random Forest model~~~~~~~~~~~~~~~~~~~\n",
      "[[19017     0     0 ...,     0     0     0]\n",
      " [  587     0     0 ...,     0     0     0]\n",
      " [  103     0     0 ...,     0     0     0]\n",
      " ..., \n",
      " [    1     0     0 ...,     0     0     0]\n",
      " [    1     0     0 ...,     0     0     0]\n",
      " [    1     0     0 ...,     0     0     0]]\n"
     ]
    },
    {
     "name": "stderr",
     "output_type": "stream",
     "text": [
      "/Users/apatkar/anaconda3/lib/python3.6/site-packages/sklearn/metrics/classification.py:1135: UndefinedMetricWarning: Precision is ill-defined and being set to 0.0 in labels with no predicted samples.\n",
      "  'precision', 'predicted', average, warn_for)\n",
      "/Users/apatkar/anaconda3/lib/python3.6/site-packages/sklearn/metrics/classification.py:1137: UndefinedMetricWarning: Recall is ill-defined and being set to 0.0 in labels with no true samples.\n",
      "  'recall', 'true', average, warn_for)\n"
     ]
    },
    {
     "data": {
      "text/html": [
       "<h3>Accuracy</h3>"
      ],
      "text/plain": [
       "<IPython.core.display.HTML object>"
      ]
     },
     "metadata": {},
     "output_type": "display_data"
    },
    {
     "data": {
      "text/html": [
       "0.844"
      ],
      "text/plain": [
       "<IPython.core.display.HTML object>"
      ]
     },
     "metadata": {},
     "output_type": "display_data"
    },
    {
     "data": {
      "text/html": [
       "<h3>precision</h3>"
      ],
      "text/plain": [
       "<IPython.core.display.HTML object>"
      ]
     },
     "metadata": {},
     "output_type": "display_data"
    },
    {
     "data": {
      "text/html": [
       "0.712"
      ],
      "text/plain": [
       "<IPython.core.display.HTML object>"
      ]
     },
     "metadata": {},
     "output_type": "display_data"
    },
    {
     "data": {
      "text/html": [
       "<h3>recall</h3>"
      ],
      "text/plain": [
       "<IPython.core.display.HTML object>"
      ]
     },
     "metadata": {},
     "output_type": "display_data"
    },
    {
     "data": {
      "text/html": [
       "0.844"
      ],
      "text/plain": [
       "<IPython.core.display.HTML object>"
      ]
     },
     "metadata": {},
     "output_type": "display_data"
    },
    {
     "data": {
      "text/html": [
       "<h3>f-score</h3>"
      ],
      "text/plain": [
       "<IPython.core.display.HTML object>"
      ]
     },
     "metadata": {},
     "output_type": "display_data"
    },
    {
     "data": {
      "text/html": [
       "0.772"
      ],
      "text/plain": [
       "<IPython.core.display.HTML object>"
      ]
     },
     "metadata": {},
     "output_type": "display_data"
    },
    {
     "data": {
      "text/html": [
       "<h3>FPR</h3>"
      ],
      "text/plain": [
       "<IPython.core.display.HTML object>"
      ]
     },
     "metadata": {},
     "output_type": "display_data"
    },
    {
     "data": {
      "text/html": [
       "0.000"
      ],
      "text/plain": [
       "<IPython.core.display.HTML object>"
      ]
     },
     "metadata": {},
     "output_type": "display_data"
    },
    {
     "data": {
      "text/html": [
       "<h3>TPR</h3>"
      ],
      "text/plain": [
       "<IPython.core.display.HTML object>"
      ]
     },
     "metadata": {},
     "output_type": "display_data"
    },
    {
     "data": {
      "text/html": [
       "1.000"
      ],
      "text/plain": [
       "<IPython.core.display.HTML object>"
      ]
     },
     "metadata": {},
     "output_type": "display_data"
    },
    {
     "name": "stdout",
     "output_type": "stream",
     "text": [
      "~~~~~~~~~~~~~~~~~~~End Of Random Forest model~~~~~~~~~~~~~~~~~~~\n"
     ]
    }
   ],
   "source": [
    "\n",
    "print(\"~~~~~~~~~~~~~~~~~~~Start Of Random Forest model~~~~~~~~~~~~~~~~~~~\")\n",
    "# fit a Random Forest model to the data\n",
    "RFmodel = RandomForestClassifier(n_estimators=100, criterion='entropy', max_depth=20)\n",
    "RFmodel = RFmodel.fit(Traindata, Trainlabel)\n",
    "\n",
    "# make predictions\n",
    "RFexpected = Testlabel\n",
    "RFpredicted = RFmodel.predict(Testdata)\n",
    "# summarize the fit of the model\n",
    "\n",
    "RFcm = metrics.confusion_matrix(RFexpected, RFpredicted)\n",
    "print(RFcm)\n",
    "RFtpr = float(RFcm[0][0])/np.sum(RFcm[0])\n",
    "RFfpr = float(RFcm[1][1])/np.sum(RFcm[1])\n",
    "RFaccuracy = accuracy_score(RFexpected, RFpredicted)\n",
    "RFprecision = precision_score(RFexpected, RFpredicted, average='weighted')\n",
    "RFrecall = recall_score(RFexpected, RFpredicted, average='weighted')\n",
    "RFf1 = 2 * (RFprecision * RFrecall) / (RFprecision + RFrecall)\n",
    "\n",
    "display(HTML(\"<h3>Accuracy</h3>\"))\n",
    "display(HTML(str.format('{0:.3f}', RFaccuracy)))\n",
    "\n",
    "display(HTML(\"<h3>precision</h3>\"))\n",
    "display(HTML(str.format('{0:.3f}', RFprecision))) \n",
    "\n",
    "display(HTML(\"<h3>recall</h3>\"))\n",
    "display(HTML(str.format('{0:.3f}', RFrecall)))\n",
    "\n",
    "display(HTML(\"<h3>f-score</h3>\"))\n",
    "display(HTML(str.format('{0:.3f}', RFf1)))\n",
    "\n",
    "display(HTML(\"<h3>FPR</h3>\"))\n",
    "display(HTML(str.format('{0:.3f}', RFfpr)))\n",
    "\n",
    "display(HTML(\"<h3>TPR</h3>\"))\n",
    "display(HTML(str.format('{0:.3f}', RFtpr)))\n",
    "#print(\"%.3f\" %RFtpr)\n",
    "#print(\"%.3f\" %RFfpr)\n",
    "#print(\"Accuracy\")\n",
    "#print(\"%.3f\" %RFaccuracy)\n",
    "#print(\"precision\")\n",
    "#print(\"%.3f\" %RFprecision)\n",
    "#print(\"recall\")\n",
    "#print(\"%.3f\" %RFrecall)\n",
    "#print(\"f-score\")\n",
    "#print(\"%.3f\" %RFf1)\n",
    "#print(\"fpr\")\n",
    "#print(\"%.3f\" %RFfpr)\n",
    "#print(\"tpr\")\n",
    "#print(\"%.3f\" %RFtpr)\n",
    "np.savetxt('RFexpected.txt', RFexpected, fmt='%01d')\n",
    "np.savetxt('RFpredicted.txt', RFpredicted, fmt='%01d')\n",
    "print(\"~~~~~~~~~~~~~~~~~~~End Of Random Forest model~~~~~~~~~~~~~~~~~~~\")"
   ]
  },
  {
   "cell_type": "code",
   "execution_count": 71,
   "metadata": {},
   "outputs": [
    {
     "name": "stdout",
     "output_type": "stream",
     "text": [
      "~~~~~~~~~~~~~~~~~~~Start Of Multinomial Naive Bayes model~~~~~~~~~~~~~~~~~~~\n",
      "MultinomialNB(alpha=1.0, class_prior=None, fit_prior=True)\n"
     ]
    },
    {
     "name": "stderr",
     "output_type": "stream",
     "text": [
      "/Users/apatkar/anaconda3/lib/python3.6/site-packages/pandas_ml/confusion_matrix/bcm.py:259: RuntimeWarning: invalid value encountered in double_scalars\n",
      "  return(np.float64(self.TN) / self.NegativeTest)\n",
      "/Users/apatkar/anaconda3/lib/python3.6/site-packages/pandas_ml/confusion_matrix/bcm.py:304: RuntimeWarning: invalid value encountered in true_divide\n",
      "  (self.TN + self.FP) * (self.TN + self.FN)))\n",
      "/Users/apatkar/anaconda3/lib/python3.6/site-packages/pandas_ml/confusion_matrix/bcm.py:339: RuntimeWarning: invalid value encountered in double_scalars\n",
      "  return(np.float64(self.FNR) / self.TNR)\n",
      "/Users/apatkar/anaconda3/lib/python3.6/site-packages/pandas_ml/confusion_matrix/bcm.py:251: RuntimeWarning: invalid value encountered in double_scalars\n",
      "  return(np.float64(self.FN) / self.NegativeTest)\n",
      "/Users/apatkar/anaconda3/lib/python3.6/site-packages/pandas_ml/confusion_matrix/bcm.py:236: RuntimeWarning: invalid value encountered in double_scalars\n",
      "  return(np.float64(self.TP) / self.PositiveTest)\n",
      "/Users/apatkar/anaconda3/lib/python3.6/site-packages/pandas_ml/confusion_matrix/bcm.py:267: RuntimeWarning: invalid value encountered in double_scalars\n",
      "  return(np.float64(self.FP) / self.PositiveTest)\n",
      "/Users/apatkar/anaconda3/lib/python3.6/site-packages/pandas_ml/confusion_matrix/bcm.py:332: RuntimeWarning: invalid value encountered in double_scalars\n",
      "  return(np.float64(self.TPR) / self.FPR)\n"
     ]
    },
    {
     "name": "stdout",
     "output_type": "stream",
     "text": [
      "Confusion Matrix:\n",
      "\n",
      "Predicted      0  1  2  3  4  5  6  7  8  9   ...     16500  20741  22174  \\\n",
      "Actual                                        ...                           \n",
      "0          19017  0  0  0  0  0  0  0  0  0   ...         0      0      0   \n",
      "1            587  0  0  0  0  0  0  0  0  0   ...         0      0      0   \n",
      "2            103  0  0  0  0  0  0  0  0  0   ...         0      0      0   \n",
      "3            120  0  0  0  0  0  0  0  0  0   ...         0      0      0   \n",
      "4            539  0  0  0  0  0  0  0  0  0   ...         0      0      0   \n",
      "5            146  0  0  0  0  0  0  0  0  0   ...         0      0      0   \n",
      "6             35  0  0  0  0  0  0  0  0  0   ...         0      0      0   \n",
      "7             15  0  0  0  0  0  0  0  0  0   ...         0      0      0   \n",
      "8             15  0  0  0  0  0  0  0  0  0   ...         0      0      0   \n",
      "9             12  0  0  0  0  0  0  0  0  0   ...         0      0      0   \n",
      "10            15  0  0  0  0  0  0  0  0  0   ...         0      0      0   \n",
      "11             9  0  0  0  0  0  0  0  0  0   ...         0      0      0   \n",
      "12             3  0  0  0  0  0  0  0  0  0   ...         0      0      0   \n",
      "13             3  0  0  0  0  0  0  0  0  0   ...         0      0      0   \n",
      "14             4  0  0  0  0  0  0  0  0  0   ...         0      0      0   \n",
      "15             3  0  0  0  0  0  0  0  0  0   ...         0      0      0   \n",
      "16             1  0  0  0  0  0  0  0  0  0   ...         0      0      0   \n",
      "18             3  0  0  0  0  0  0  0  0  0   ...         0      0      0   \n",
      "19             1  0  0  0  0  0  0  0  0  0   ...         0      0      0   \n",
      "20            12  0  0  0  0  0  0  0  0  0   ...         0      0      0   \n",
      "21             6  0  0  0  0  0  0  0  0  0   ...         0      0      0   \n",
      "22             6  0  0  0  0  0  0  0  0  0   ...         0      0      0   \n",
      "23            10  0  0  0  0  0  0  0  0  0   ...         0      0      0   \n",
      "24             1  0  0  0  0  0  0  0  0  0   ...         0      0      0   \n",
      "25             1  0  0  0  0  0  0  0  0  0   ...         0      0      0   \n",
      "26             8  0  0  0  0  0  0  0  0  0   ...         0      0      0   \n",
      "27             4  0  0  0  0  0  0  0  0  0   ...         0      0      0   \n",
      "28             7  0  0  0  0  0  0  0  0  0   ...         0      0      0   \n",
      "29             3  0  0  0  0  0  0  0  0  0   ...         0      0      0   \n",
      "30             5  0  0  0  0  0  0  0  0  0   ...         0      0      0   \n",
      "...          ... .. .. .. .. .. .. .. .. ..   ...       ...    ...    ...   \n",
      "8209           1  0  0  0  0  0  0  0  0  0   ...         0      0      0   \n",
      "8212           2  0  0  0  0  0  0  0  0  0   ...         0      0      0   \n",
      "8213           1  0  0  0  0  0  0  0  0  0   ...         0      0      0   \n",
      "8216           1  0  0  0  0  0  0  0  0  0   ...         0      0      0   \n",
      "8217           1  0  0  0  0  0  0  0  0  0   ...         0      0      0   \n",
      "8220           2  0  0  0  0  0  0  0  0  0   ...         0      0      0   \n",
      "8221           1  0  0  0  0  0  0  0  0  0   ...         0      0      0   \n",
      "8224           2  0  0  0  0  0  0  0  0  0   ...         0      0      0   \n",
      "8228           2  0  0  0  0  0  0  0  0  0   ...         0      0      0   \n",
      "8229           1  0  0  0  0  0  0  0  0  0   ...         0      0      0   \n",
      "8232           1  0  0  0  0  0  0  0  0  0   ...         0      0      0   \n",
      "8233           1  0  0  0  0  0  0  0  0  0   ...         0      0      0   \n",
      "8579           1  0  0  0  0  0  0  0  0  0   ...         0      0      0   \n",
      "8890           1  0  0  0  0  0  0  0  0  0   ...         0      0      0   \n",
      "9645           1  0  0  0  0  0  0  0  0  0   ...         0      0      0   \n",
      "10499          1  0  0  0  0  0  0  0  0  0   ...         0      0      0   \n",
      "11675          1  0  0  0  0  0  0  0  0  0   ...         0      0      0   \n",
      "12112          1  0  0  0  0  0  0  0  0  0   ...         0      0      0   \n",
      "12931          1  0  0  0  0  0  0  0  0  0   ...         0      0      0   \n",
      "13067          1  0  0  0  0  0  0  0  0  0   ...         0      0      0   \n",
      "16500          1  0  0  0  0  0  0  0  0  0   ...         0      0      0   \n",
      "20741          1  0  0  0  0  0  0  0  0  0   ...         0      0      0   \n",
      "22174          1  0  0  0  0  0  0  0  0  0   ...         0      0      0   \n",
      "38701          1  0  0  0  0  0  0  0  0  0   ...         0      0      0   \n",
      "42689          1  0  0  0  0  0  0  0  0  0   ...         0      0      0   \n",
      "47114          1  0  0  0  0  0  0  0  0  0   ...         0      0      0   \n",
      "53771          1  0  0  0  0  0  0  0  0  0   ...         0      0      0   \n",
      "54451          1  0  0  0  0  0  0  0  0  0   ...         0      0      0   \n",
      "57715          1  0  0  0  0  0  0  0  0  0   ...         0      0      0   \n",
      "__all__    22543  0  0  0  0  0  0  0  0  0   ...         0      0      0   \n",
      "\n",
      "Predicted  38701  42689  47114  53771  54451  57715  __all__  \n",
      "Actual                                                        \n",
      "0              0      0      0      0      0      0    19017  \n",
      "1              0      0      0      0      0      0      587  \n",
      "2              0      0      0      0      0      0      103  \n",
      "3              0      0      0      0      0      0      120  \n",
      "4              0      0      0      0      0      0      539  \n",
      "5              0      0      0      0      0      0      146  \n",
      "6              0      0      0      0      0      0       35  \n",
      "7              0      0      0      0      0      0       15  \n",
      "8              0      0      0      0      0      0       15  \n",
      "9              0      0      0      0      0      0       12  \n",
      "10             0      0      0      0      0      0       15  \n",
      "11             0      0      0      0      0      0        9  \n",
      "12             0      0      0      0      0      0        3  \n",
      "13             0      0      0      0      0      0        3  \n",
      "14             0      0      0      0      0      0        4  \n",
      "15             0      0      0      0      0      0        3  \n",
      "16             0      0      0      0      0      0        1  \n",
      "18             0      0      0      0      0      0        3  \n",
      "19             0      0      0      0      0      0        1  \n",
      "20             0      0      0      0      0      0       12  \n",
      "21             0      0      0      0      0      0        6  \n",
      "22             0      0      0      0      0      0        6  \n",
      "23             0      0      0      0      0      0       10  \n",
      "24             0      0      0      0      0      0        1  \n",
      "25             0      0      0      0      0      0        1  \n",
      "26             0      0      0      0      0      0        8  \n",
      "27             0      0      0      0      0      0        4  \n",
      "28             0      0      0      0      0      0        7  \n",
      "29             0      0      0      0      0      0        3  \n",
      "30             0      0      0      0      0      0        5  \n",
      "...          ...    ...    ...    ...    ...    ...      ...  \n",
      "8209           0      0      0      0      0      0        1  \n",
      "8212           0      0      0      0      0      0        2  \n",
      "8213           0      0      0      0      0      0        1  \n",
      "8216           0      0      0      0      0      0        1  \n",
      "8217           0      0      0      0      0      0        1  \n",
      "8220           0      0      0      0      0      0        2  \n",
      "8221           0      0      0      0      0      0        1  \n",
      "8224           0      0      0      0      0      0        2  \n",
      "8228           0      0      0      0      0      0        2  \n",
      "8229           0      0      0      0      0      0        1  \n",
      "8232           0      0      0      0      0      0        1  \n",
      "8233           0      0      0      0      0      0        1  \n",
      "8579           0      0      0      0      0      0        1  \n",
      "8890           0      0      0      0      0      0        1  \n",
      "9645           0      0      0      0      0      0        1  \n",
      "10499          0      0      0      0      0      0        1  \n",
      "11675          0      0      0      0      0      0        1  \n",
      "12112          0      0      0      0      0      0        1  \n",
      "12931          0      0      0      0      0      0        1  \n",
      "13067          0      0      0      0      0      0        1  \n",
      "16500          0      0      0      0      0      0        1  \n",
      "20741          0      0      0      0      0      0        1  \n",
      "22174          0      0      0      0      0      0        1  \n",
      "38701          0      0      0      0      0      0        1  \n",
      "42689          0      0      0      0      0      0        1  \n",
      "47114          0      0      0      0      0      0        1  \n",
      "53771          0      0      0      0      0      0        1  \n",
      "54451          0      0      0      0      0      0        1  \n",
      "57715          0      0      0      0      0      0        1  \n",
      "__all__        0      0      0      0      0      0    22543  \n",
      "\n",
      "[625 rows x 625 columns]\n",
      "\n",
      "\n",
      "Overall Statistics:\n",
      "\n",
      "Accuracy: 0.843587809963\n",
      "95% CI: (0.83877958771245364, 0.84830726475481788)\n",
      "No Information Rate: ToDo\n",
      "P-Value [Acc > NIR]: 1.0\n",
      "Kappa: 0.0\n",
      "Mcnemar's Test P-Value: ToDo\n",
      "\n",
      "\n",
      "Class Statistics:\n",
      "\n",
      "Classes                                   0          1           2      \\\n",
      "Population                                22543      22543       22543   \n",
      "P: Condition positive                     19017        587         103   \n",
      "N: Condition negative                      3526      21956       22440   \n",
      "Test outcome positive                     22543          0           0   \n",
      "Test outcome negative                         0      22543       22543   \n",
      "TP: True Positive                         19017          0           0   \n",
      "TN: True Negative                             0      21956       22440   \n",
      "FP: False Positive                         3526          0           0   \n",
      "FN: False Negative                            0        587         103   \n",
      "TPR: (Sensitivity, hit rate, recall)          1          0           0   \n",
      "TNR=SPC: (Specificity)                        0          1           1   \n",
      "PPV: Pos Pred Value (Precision)        0.843588        NaN         NaN   \n",
      "NPV: Neg Pred Value                         NaN   0.973961    0.995431   \n",
      "FPR: False-out                                1          0           0   \n",
      "FDR: False Discovery Rate              0.156412        NaN         NaN   \n",
      "FNR: Miss Rate                                0          1           1   \n",
      "ACC: Accuracy                          0.843588   0.973961    0.995431   \n",
      "F1 score                               0.915159          0           0   \n",
      "MCC: Matthews correlation coefficient       NaN        NaN         NaN   \n",
      "Informedness                                  0          0           0   \n",
      "Markedness                                  NaN        NaN         NaN   \n",
      "Prevalence                             0.843588  0.0260391  0.00456905   \n",
      "LR+: Positive likelihood ratio                1        NaN         NaN   \n",
      "LR-: Negative likelihood ratio              NaN          1           1   \n",
      "DOR: Diagnostic odds ratio                  NaN        NaN         NaN   \n",
      "FOR: False omission rate                    NaN  0.0260391  0.00456905   \n",
      "\n",
      "Classes                                     3          4           5      \\\n",
      "Population                                  22543      22543       22543   \n",
      "P: Condition positive                         120        539         146   \n",
      "N: Condition negative                       22423      22004       22397   \n",
      "Test outcome positive                           0          0           0   \n",
      "Test outcome negative                       22543      22543       22543   \n",
      "TP: True Positive                               0          0           0   \n",
      "TN: True Negative                           22423      22004       22397   \n",
      "FP: False Positive                              0          0           0   \n",
      "FN: False Negative                            120        539         146   \n",
      "TPR: (Sensitivity, hit rate, recall)            0          0           0   \n",
      "TNR=SPC: (Specificity)                          1          1           1   \n",
      "PPV: Pos Pred Value (Precision)               NaN        NaN         NaN   \n",
      "NPV: Neg Pred Value                      0.994677    0.97609    0.993523   \n",
      "FPR: False-out                                  0          0           0   \n",
      "FDR: False Discovery Rate                     NaN        NaN         NaN   \n",
      "FNR: Miss Rate                                  1          1           1   \n",
      "ACC: Accuracy                            0.994677    0.97609    0.993523   \n",
      "F1 score                                        0          0           0   \n",
      "MCC: Matthews correlation coefficient         NaN        NaN         NaN   \n",
      "Informedness                                    0          0           0   \n",
      "Markedness                                    NaN        NaN         NaN   \n",
      "Prevalence                             0.00532316  0.0239099  0.00647651   \n",
      "LR+: Positive likelihood ratio                NaN        NaN         NaN   \n",
      "LR-: Negative likelihood ratio                  1          1           1   \n",
      "DOR: Diagnostic odds ratio                    NaN        NaN         NaN   \n",
      "FOR: False omission rate               0.00532316  0.0239099  0.00647651   \n",
      "\n",
      "Classes                                     6            7            8      \\\n",
      "Population                                  22543        22543        22543   \n",
      "P: Condition positive                          35           15           15   \n",
      "N: Condition negative                       22508        22528        22528   \n",
      "Test outcome positive                           0            0            0   \n",
      "Test outcome negative                       22543        22543        22543   \n",
      "TP: True Positive                               0            0            0   \n",
      "TN: True Negative                           22508        22528        22528   \n",
      "FP: False Positive                              0            0            0   \n",
      "FN: False Negative                             35           15           15   \n",
      "TPR: (Sensitivity, hit rate, recall)            0            0            0   \n",
      "TNR=SPC: (Specificity)                          1            1            1   \n",
      "PPV: Pos Pred Value (Precision)               NaN          NaN          NaN   \n",
      "NPV: Neg Pred Value                      0.998447     0.999335     0.999335   \n",
      "FPR: False-out                                  0            0            0   \n",
      "FDR: False Discovery Rate                     NaN          NaN          NaN   \n",
      "FNR: Miss Rate                                  1            1            1   \n",
      "ACC: Accuracy                            0.998447     0.999335     0.999335   \n",
      "F1 score                                        0            0            0   \n",
      "MCC: Matthews correlation coefficient         NaN          NaN          NaN   \n",
      "Informedness                                    0            0            0   \n",
      "Markedness                                    NaN          NaN          NaN   \n",
      "Prevalence                             0.00155259  0.000665395  0.000665395   \n",
      "LR+: Positive likelihood ratio                NaN          NaN          NaN   \n",
      "LR-: Negative likelihood ratio                  1            1            1   \n",
      "DOR: Diagnostic odds ratio                    NaN          NaN          NaN   \n",
      "FOR: False omission rate               0.00155259  0.000665395  0.000665395   \n",
      "\n",
      "Classes                                      9         ...             13067  \\\n",
      "Population                                   22543     ...             22543   \n",
      "P: Condition positive                           12     ...                 1   \n",
      "N: Condition negative                        22531     ...             22542   \n",
      "Test outcome positive                            0     ...                 0   \n",
      "Test outcome negative                        22543     ...             22543   \n",
      "TP: True Positive                                0     ...                 0   \n",
      "TN: True Negative                            22531     ...             22542   \n",
      "FP: False Positive                               0     ...                 0   \n",
      "FN: False Negative                              12     ...                 1   \n",
      "TPR: (Sensitivity, hit rate, recall)             0     ...                 0   \n",
      "TNR=SPC: (Specificity)                           1     ...                 1   \n",
      "PPV: Pos Pred Value (Precision)                NaN     ...               NaN   \n",
      "NPV: Neg Pred Value                       0.999468     ...          0.999956   \n",
      "FPR: False-out                                   0     ...                 0   \n",
      "FDR: False Discovery Rate                      NaN     ...               NaN   \n",
      "FNR: Miss Rate                                   1     ...                 1   \n",
      "ACC: Accuracy                             0.999468     ...          0.999956   \n",
      "F1 score                                         0     ...                 0   \n",
      "MCC: Matthews correlation coefficient          NaN     ...               NaN   \n",
      "Informedness                                     0     ...                 0   \n",
      "Markedness                                     NaN     ...               NaN   \n",
      "Prevalence                             0.000532316     ...       4.43597e-05   \n",
      "LR+: Positive likelihood ratio                 NaN     ...               NaN   \n",
      "LR-: Negative likelihood ratio                   1     ...                 1   \n",
      "DOR: Diagnostic odds ratio                     NaN     ...               NaN   \n",
      "FOR: False omission rate               0.000532316     ...       4.43597e-05   \n",
      "\n",
      "Classes                                      16500        20741        22174  \\\n",
      "Population                                   22543        22543        22543   \n",
      "P: Condition positive                            1            1            1   \n",
      "N: Condition negative                        22542        22542        22542   \n",
      "Test outcome positive                            0            0            0   \n",
      "Test outcome negative                        22543        22543        22543   \n",
      "TP: True Positive                                0            0            0   \n",
      "TN: True Negative                            22542        22542        22542   \n",
      "FP: False Positive                               0            0            0   \n",
      "FN: False Negative                               1            1            1   \n",
      "TPR: (Sensitivity, hit rate, recall)             0            0            0   \n",
      "TNR=SPC: (Specificity)                           1            1            1   \n",
      "PPV: Pos Pred Value (Precision)                NaN          NaN          NaN   \n",
      "NPV: Neg Pred Value                       0.999956     0.999956     0.999956   \n",
      "FPR: False-out                                   0            0            0   \n",
      "FDR: False Discovery Rate                      NaN          NaN          NaN   \n",
      "FNR: Miss Rate                                   1            1            1   \n",
      "ACC: Accuracy                             0.999956     0.999956     0.999956   \n",
      "F1 score                                         0            0            0   \n",
      "MCC: Matthews correlation coefficient          NaN          NaN          NaN   \n",
      "Informedness                                     0            0            0   \n",
      "Markedness                                     NaN          NaN          NaN   \n",
      "Prevalence                             4.43597e-05  4.43597e-05  4.43597e-05   \n",
      "LR+: Positive likelihood ratio                 NaN          NaN          NaN   \n",
      "LR-: Negative likelihood ratio                   1            1            1   \n",
      "DOR: Diagnostic odds ratio                     NaN          NaN          NaN   \n",
      "FOR: False omission rate               4.43597e-05  4.43597e-05  4.43597e-05   \n",
      "\n",
      "Classes                                      38701        42689        47114  \\\n",
      "Population                                   22543        22543        22543   \n",
      "P: Condition positive                            1            1            1   \n",
      "N: Condition negative                        22542        22542        22542   \n",
      "Test outcome positive                            0            0            0   \n",
      "Test outcome negative                        22543        22543        22543   \n",
      "TP: True Positive                                0            0            0   \n",
      "TN: True Negative                            22542        22542        22542   \n",
      "FP: False Positive                               0            0            0   \n",
      "FN: False Negative                               1            1            1   \n",
      "TPR: (Sensitivity, hit rate, recall)             0            0            0   \n",
      "TNR=SPC: (Specificity)                           1            1            1   \n",
      "PPV: Pos Pred Value (Precision)                NaN          NaN          NaN   \n",
      "NPV: Neg Pred Value                       0.999956     0.999956     0.999956   \n",
      "FPR: False-out                                   0            0            0   \n",
      "FDR: False Discovery Rate                      NaN          NaN          NaN   \n",
      "FNR: Miss Rate                                   1            1            1   \n",
      "ACC: Accuracy                             0.999956     0.999956     0.999956   \n",
      "F1 score                                         0            0            0   \n",
      "MCC: Matthews correlation coefficient          NaN          NaN          NaN   \n",
      "Informedness                                     0            0            0   \n",
      "Markedness                                     NaN          NaN          NaN   \n",
      "Prevalence                             4.43597e-05  4.43597e-05  4.43597e-05   \n",
      "LR+: Positive likelihood ratio                 NaN          NaN          NaN   \n",
      "LR-: Negative likelihood ratio                   1            1            1   \n",
      "DOR: Diagnostic odds ratio                     NaN          NaN          NaN   \n",
      "FOR: False omission rate               4.43597e-05  4.43597e-05  4.43597e-05   \n",
      "\n",
      "Classes                                      53771        54451        57715  \n",
      "Population                                   22543        22543        22543  \n",
      "P: Condition positive                            1            1            1  \n",
      "N: Condition negative                        22542        22542        22542  \n",
      "Test outcome positive                            0            0            0  \n",
      "Test outcome negative                        22543        22543        22543  \n",
      "TP: True Positive                                0            0            0  \n",
      "TN: True Negative                            22542        22542        22542  \n",
      "FP: False Positive                               0            0            0  \n",
      "FN: False Negative                               1            1            1  \n",
      "TPR: (Sensitivity, hit rate, recall)             0            0            0  \n",
      "TNR=SPC: (Specificity)                           1            1            1  \n",
      "PPV: Pos Pred Value (Precision)                NaN          NaN          NaN  \n",
      "NPV: Neg Pred Value                       0.999956     0.999956     0.999956  \n",
      "FPR: False-out                                   0            0            0  \n",
      "FDR: False Discovery Rate                      NaN          NaN          NaN  \n",
      "FNR: Miss Rate                                   1            1            1  \n",
      "ACC: Accuracy                             0.999956     0.999956     0.999956  \n",
      "F1 score                                         0            0            0  \n",
      "MCC: Matthews correlation coefficient          NaN          NaN          NaN  \n",
      "Informedness                                     0            0            0  \n",
      "Markedness                                     NaN          NaN          NaN  \n",
      "Prevalence                             4.43597e-05  4.43597e-05  4.43597e-05  \n",
      "LR+: Positive likelihood ratio                 NaN          NaN          NaN  \n",
      "LR-: Negative likelihood ratio                   1            1            1  \n",
      "DOR: Diagnostic odds ratio                     NaN          NaN          NaN  \n",
      "FOR: False omission rate               4.43597e-05  4.43597e-05  4.43597e-05  \n",
      "\n",
      "[26 rows x 624 columns]\n"
     ]
    },
    {
     "data": {
      "text/plain": [
       "Predicted      0  1  2  3  4  5  6  7  8  9   ...     16500  20741  22174  \\\n",
       "Actual                                        ...                           \n",
       "0          19017  0  0  0  0  0  0  0  0  0   ...         0      0      0   \n",
       "1            587  0  0  0  0  0  0  0  0  0   ...         0      0      0   \n",
       "2            103  0  0  0  0  0  0  0  0  0   ...         0      0      0   \n",
       "3            120  0  0  0  0  0  0  0  0  0   ...         0      0      0   \n",
       "4            539  0  0  0  0  0  0  0  0  0   ...         0      0      0   \n",
       "5            146  0  0  0  0  0  0  0  0  0   ...         0      0      0   \n",
       "6             35  0  0  0  0  0  0  0  0  0   ...         0      0      0   \n",
       "7             15  0  0  0  0  0  0  0  0  0   ...         0      0      0   \n",
       "8             15  0  0  0  0  0  0  0  0  0   ...         0      0      0   \n",
       "9             12  0  0  0  0  0  0  0  0  0   ...         0      0      0   \n",
       "10            15  0  0  0  0  0  0  0  0  0   ...         0      0      0   \n",
       "11             9  0  0  0  0  0  0  0  0  0   ...         0      0      0   \n",
       "12             3  0  0  0  0  0  0  0  0  0   ...         0      0      0   \n",
       "13             3  0  0  0  0  0  0  0  0  0   ...         0      0      0   \n",
       "14             4  0  0  0  0  0  0  0  0  0   ...         0      0      0   \n",
       "15             3  0  0  0  0  0  0  0  0  0   ...         0      0      0   \n",
       "16             1  0  0  0  0  0  0  0  0  0   ...         0      0      0   \n",
       "18             3  0  0  0  0  0  0  0  0  0   ...         0      0      0   \n",
       "19             1  0  0  0  0  0  0  0  0  0   ...         0      0      0   \n",
       "20            12  0  0  0  0  0  0  0  0  0   ...         0      0      0   \n",
       "21             6  0  0  0  0  0  0  0  0  0   ...         0      0      0   \n",
       "22             6  0  0  0  0  0  0  0  0  0   ...         0      0      0   \n",
       "23            10  0  0  0  0  0  0  0  0  0   ...         0      0      0   \n",
       "24             1  0  0  0  0  0  0  0  0  0   ...         0      0      0   \n",
       "25             1  0  0  0  0  0  0  0  0  0   ...         0      0      0   \n",
       "26             8  0  0  0  0  0  0  0  0  0   ...         0      0      0   \n",
       "27             4  0  0  0  0  0  0  0  0  0   ...         0      0      0   \n",
       "28             7  0  0  0  0  0  0  0  0  0   ...         0      0      0   \n",
       "29             3  0  0  0  0  0  0  0  0  0   ...         0      0      0   \n",
       "30             5  0  0  0  0  0  0  0  0  0   ...         0      0      0   \n",
       "...          ... .. .. .. .. .. .. .. .. ..   ...       ...    ...    ...   \n",
       "8209           1  0  0  0  0  0  0  0  0  0   ...         0      0      0   \n",
       "8212           2  0  0  0  0  0  0  0  0  0   ...         0      0      0   \n",
       "8213           1  0  0  0  0  0  0  0  0  0   ...         0      0      0   \n",
       "8216           1  0  0  0  0  0  0  0  0  0   ...         0      0      0   \n",
       "8217           1  0  0  0  0  0  0  0  0  0   ...         0      0      0   \n",
       "8220           2  0  0  0  0  0  0  0  0  0   ...         0      0      0   \n",
       "8221           1  0  0  0  0  0  0  0  0  0   ...         0      0      0   \n",
       "8224           2  0  0  0  0  0  0  0  0  0   ...         0      0      0   \n",
       "8228           2  0  0  0  0  0  0  0  0  0   ...         0      0      0   \n",
       "8229           1  0  0  0  0  0  0  0  0  0   ...         0      0      0   \n",
       "8232           1  0  0  0  0  0  0  0  0  0   ...         0      0      0   \n",
       "8233           1  0  0  0  0  0  0  0  0  0   ...         0      0      0   \n",
       "8579           1  0  0  0  0  0  0  0  0  0   ...         0      0      0   \n",
       "8890           1  0  0  0  0  0  0  0  0  0   ...         0      0      0   \n",
       "9645           1  0  0  0  0  0  0  0  0  0   ...         0      0      0   \n",
       "10499          1  0  0  0  0  0  0  0  0  0   ...         0      0      0   \n",
       "11675          1  0  0  0  0  0  0  0  0  0   ...         0      0      0   \n",
       "12112          1  0  0  0  0  0  0  0  0  0   ...         0      0      0   \n",
       "12931          1  0  0  0  0  0  0  0  0  0   ...         0      0      0   \n",
       "13067          1  0  0  0  0  0  0  0  0  0   ...         0      0      0   \n",
       "16500          1  0  0  0  0  0  0  0  0  0   ...         0      0      0   \n",
       "20741          1  0  0  0  0  0  0  0  0  0   ...         0      0      0   \n",
       "22174          1  0  0  0  0  0  0  0  0  0   ...         0      0      0   \n",
       "38701          1  0  0  0  0  0  0  0  0  0   ...         0      0      0   \n",
       "42689          1  0  0  0  0  0  0  0  0  0   ...         0      0      0   \n",
       "47114          1  0  0  0  0  0  0  0  0  0   ...         0      0      0   \n",
       "53771          1  0  0  0  0  0  0  0  0  0   ...         0      0      0   \n",
       "54451          1  0  0  0  0  0  0  0  0  0   ...         0      0      0   \n",
       "57715          1  0  0  0  0  0  0  0  0  0   ...         0      0      0   \n",
       "__all__    22543  0  0  0  0  0  0  0  0  0   ...         0      0      0   \n",
       "\n",
       "Predicted  38701  42689  47114  53771  54451  57715  __all__  \n",
       "Actual                                                        \n",
       "0              0      0      0      0      0      0    19017  \n",
       "1              0      0      0      0      0      0      587  \n",
       "2              0      0      0      0      0      0      103  \n",
       "3              0      0      0      0      0      0      120  \n",
       "4              0      0      0      0      0      0      539  \n",
       "5              0      0      0      0      0      0      146  \n",
       "6              0      0      0      0      0      0       35  \n",
       "7              0      0      0      0      0      0       15  \n",
       "8              0      0      0      0      0      0       15  \n",
       "9              0      0      0      0      0      0       12  \n",
       "10             0      0      0      0      0      0       15  \n",
       "11             0      0      0      0      0      0        9  \n",
       "12             0      0      0      0      0      0        3  \n",
       "13             0      0      0      0      0      0        3  \n",
       "14             0      0      0      0      0      0        4  \n",
       "15             0      0      0      0      0      0        3  \n",
       "16             0      0      0      0      0      0        1  \n",
       "18             0      0      0      0      0      0        3  \n",
       "19             0      0      0      0      0      0        1  \n",
       "20             0      0      0      0      0      0       12  \n",
       "21             0      0      0      0      0      0        6  \n",
       "22             0      0      0      0      0      0        6  \n",
       "23             0      0      0      0      0      0       10  \n",
       "24             0      0      0      0      0      0        1  \n",
       "25             0      0      0      0      0      0        1  \n",
       "26             0      0      0      0      0      0        8  \n",
       "27             0      0      0      0      0      0        4  \n",
       "28             0      0      0      0      0      0        7  \n",
       "29             0      0      0      0      0      0        3  \n",
       "30             0      0      0      0      0      0        5  \n",
       "...          ...    ...    ...    ...    ...    ...      ...  \n",
       "8209           0      0      0      0      0      0        1  \n",
       "8212           0      0      0      0      0      0        2  \n",
       "8213           0      0      0      0      0      0        1  \n",
       "8216           0      0      0      0      0      0        1  \n",
       "8217           0      0      0      0      0      0        1  \n",
       "8220           0      0      0      0      0      0        2  \n",
       "8221           0      0      0      0      0      0        1  \n",
       "8224           0      0      0      0      0      0        2  \n",
       "8228           0      0      0      0      0      0        2  \n",
       "8229           0      0      0      0      0      0        1  \n",
       "8232           0      0      0      0      0      0        1  \n",
       "8233           0      0      0      0      0      0        1  \n",
       "8579           0      0      0      0      0      0        1  \n",
       "8890           0      0      0      0      0      0        1  \n",
       "9645           0      0      0      0      0      0        1  \n",
       "10499          0      0      0      0      0      0        1  \n",
       "11675          0      0      0      0      0      0        1  \n",
       "12112          0      0      0      0      0      0        1  \n",
       "12931          0      0      0      0      0      0        1  \n",
       "13067          0      0      0      0      0      0        1  \n",
       "16500          0      0      0      0      0      0        1  \n",
       "20741          0      0      0      0      0      0        1  \n",
       "22174          0      0      0      0      0      0        1  \n",
       "38701          0      0      0      0      0      0        1  \n",
       "42689          0      0      0      0      0      0        1  \n",
       "47114          0      0      0      0      0      0        1  \n",
       "53771          0      0      0      0      0      0        1  \n",
       "54451          0      0      0      0      0      0        1  \n",
       "57715          0      0      0      0      0      0        1  \n",
       "__all__        0      0      0      0      0      0    22543  \n",
       "\n",
       "[625 rows x 625 columns]"
      ]
     },
     "metadata": {},
     "output_type": "display_data"
    },
    {
     "data": {
      "text/html": [
       "<h4> Multinomial Naive Bayes model PredictedResults Shape: '(22543,)'</h4>"
      ],
      "text/plain": [
       "<IPython.core.display.HTML object>"
      ]
     },
     "metadata": {},
     "output_type": "display_data"
    },
    {
     "data": {
      "text/html": [
       "<h4> Multinomial Naive Bayes model ExpectedResults Shape: '(22543,)'</h4>"
      ],
      "text/plain": [
       "<IPython.core.display.HTML object>"
      ]
     },
     "metadata": {},
     "output_type": "display_data"
    },
    {
     "name": "stderr",
     "output_type": "stream",
     "text": [
      "/Users/apatkar/anaconda3/lib/python3.6/site-packages/sklearn/metrics/classification.py:1135: UndefinedMetricWarning: Precision is ill-defined and being set to 0.0 in labels with no predicted samples.\n",
      "  'precision', 'predicted', average, warn_for)\n"
     ]
    },
    {
     "data": {
      "text/html": [
       "<h3>Accuracy</h3>"
      ],
      "text/plain": [
       "<IPython.core.display.HTML object>"
      ]
     },
     "metadata": {},
     "output_type": "display_data"
    },
    {
     "data": {
      "text/html": [
       "0.844"
      ],
      "text/plain": [
       "<IPython.core.display.HTML object>"
      ]
     },
     "metadata": {},
     "output_type": "display_data"
    },
    {
     "data": {
      "text/html": [
       "<h3>precision</h3>"
      ],
      "text/plain": [
       "<IPython.core.display.HTML object>"
      ]
     },
     "metadata": {},
     "output_type": "display_data"
    },
    {
     "data": {
      "text/html": [
       "0.712"
      ],
      "text/plain": [
       "<IPython.core.display.HTML object>"
      ]
     },
     "metadata": {},
     "output_type": "display_data"
    },
    {
     "data": {
      "text/html": [
       "<h3>recall</h3>"
      ],
      "text/plain": [
       "<IPython.core.display.HTML object>"
      ]
     },
     "metadata": {},
     "output_type": "display_data"
    },
    {
     "data": {
      "text/html": [
       "0.844"
      ],
      "text/plain": [
       "<IPython.core.display.HTML object>"
      ]
     },
     "metadata": {},
     "output_type": "display_data"
    },
    {
     "data": {
      "text/html": [
       "<h3>f-score</h3>"
      ],
      "text/plain": [
       "<IPython.core.display.HTML object>"
      ]
     },
     "metadata": {},
     "output_type": "display_data"
    },
    {
     "data": {
      "text/html": [
       "0.772"
      ],
      "text/plain": [
       "<IPython.core.display.HTML object>"
      ]
     },
     "metadata": {},
     "output_type": "display_data"
    },
    {
     "name": "stdout",
     "output_type": "stream",
     "text": [
      "~~~~~~~~~~~~~~~~~~~End Of Multinomial Naive Bayes model~~~~~~~~~~~~~~~~~~~\n"
     ]
    }
   ],
   "source": [
    "print(\"~~~~~~~~~~~~~~~~~~~Start Of Multinomial Naive Bayes model~~~~~~~~~~~~~~~~~~~\")\n",
    "\n",
    "# fit a Multinomial Naive Bayes model to the data\n",
    "MNBmodel = MultinomialNB()\n",
    "MNBmodel.fit(Traindata, Trainlabel)\n",
    "print(MNBmodel)\n",
    "# make predictions\n",
    "MNBexpected = Testlabel\n",
    "MNBpredicted = MNBmodel.predict(Testdata)\n",
    "\n",
    "MNBcm = ConfusionMatrix(MNBexpected, MNBpredicted)\n",
    "#display(MNBexpected.shape)\n",
    "#display(MNBpredicted.shape)\n",
    "MNBexpected = np.array(MNBexpected)\n",
    "MNBpredicted = np.array(MNBpredicted)\n",
    "MNBcm.print_stats()\n",
    "\n",
    "np.savetxt('MNBexpected.txt', MNBexpected, fmt='%01d')\n",
    "np.savetxt('MNBpredicted.txt', MNBpredicted, fmt='%01d')\n",
    "\n",
    "display(MNBcm)\n",
    "display(HTML(\"<h4> Multinomial Naive Bayes model PredictedResults Shape: '{MNBP}'</h4>\".\n",
    "                     format(ColumnName=ColumnName, MNBP=MNBexpected.shape))) #GNBexpected.shape)\n",
    "display(HTML(\"<h4> Multinomial Naive Bayes model ExpectedResults Shape: '{MNBE}'</h4>\".\n",
    "                     format(ColumnName=ColumnName, MNBE=MNBpredicted.shape)))\n",
    "#display(GNBpredicted.shape)\n",
    "MNBcm.stats()\n",
    "\n",
    "MNBaccuracy = accuracy_score(MNBexpected, MNBpredicted)\n",
    "MNBprecision = precision_score(MNBexpected, MNBpredicted, average='weighted')\n",
    "MNBrecall = recall_score(MNBexpected, MNBpredicted, average='weighted')\n",
    "MNBf1 = 2 * (MNBprecision * MNBrecall) / (MNBprecision + MNBrecall)\n",
    "\n",
    "display(HTML(\"<h3>Accuracy</h3>\"))\n",
    "display(HTML(str.format('{0:.3f}', MNBaccuracy)))\n",
    "\n",
    "display(HTML(\"<h3>precision</h3>\"))\n",
    "display(HTML(str.format('{0:.3f}', MNBprecision))) \n",
    "\n",
    "display(HTML(\"<h3>recall</h3>\"))\n",
    "display(HTML(str.format('{0:.3f}', MNBrecall)))\n",
    "\n",
    "display(HTML(\"<h3>f-score</h3>\"))\n",
    "display(HTML(str.format('{0:.3f}', MNBf1)))\n",
    "\n",
    "print(\"~~~~~~~~~~~~~~~~~~~End Of Multinomial Naive Bayes model~~~~~~~~~~~~~~~~~~~\")\n"
   ]
  },
  {
   "cell_type": "code",
   "execution_count": 72,
   "metadata": {},
   "outputs": [
    {
     "name": "stdout",
     "output_type": "stream",
     "text": [
      "~~~End Of Image Preperation~~~\n"
     ]
    }
   ],
   "source": [
    "# ImageCreation Function\n",
    "def CreateGrayScaleImage(DataFrameX):\n",
    "    ImageList = []\n",
    "    IDX = 0\n",
    "    # Arguments DataFrameX sent as DataFrame\n",
    "    for index, row in DataFrameX.iterrows():\n",
    "        #print(IDX)\n",
    "        # Get all the column data from the DataFrame row\n",
    "        IMGDT = DataFrameX.iloc[IDX,1:124]\n",
    "        #print(IMGDT)\n",
    "        #RowType = IMGDT['labels']\n",
    "        # Convert the data to Numpy Array\n",
    "        IDT = np.array(IMGDT)\n",
    "        # Convert the data to Binary\n",
    "        ISA = np.select([IDT <= .5, IDT>.5], [np.zeros_like(IDT), np.ones_like(IDT)])\n",
    "        # Create the Numpy array of converted data\n",
    "        img = np.array(ISA * 255, dtype = np.uint8)\n",
    "        # Create a grayscale image using CV2 function\n",
    "        grayscale = cv2.adaptiveThreshold(img, 255, cv2.ADAPTIVE_THRESH_MEAN_C, cv2.THRESH_BINARY, 3, 0)\n",
    "        # Recsale created Grascale Image to 32x32\n",
    "        Image32_32 = cv2.resize(grayscale, (32,32))\n",
    "        # Add new axies/dimension to the image\n",
    "        Image32_32_1 = Image32_32[:, :, np.newaxis]\n",
    "        ImageList.append(Image32_32_1)\n",
    "        # Clear up the Numply Array for next operation and increment the Index\n",
    "        np.delete(img, 1, 0)\n",
    "        IDX = IDX+1\n",
    "        \n",
    "    return ImageList\n",
    "\n",
    "#  empty regular list\n",
    "ValImageArray = [] \n",
    "ValLable1 = []\n",
    "TrainImageArray = []\n",
    "TrainLable1 = []\n",
    "\n",
    "# Set The Index Column in DataFrame\n",
    "NewTrainingData.set_index('labels')\n",
    "\n",
    "NewTrainingData1 = NewTrainingData.sample(n=50, random_state=2) #head(150)\n",
    "TrainLable1 = np.array(NewTrainingData1['labels'])\n",
    "TrainImageArray = CreateGrayScaleImage(NewTrainingData1)\n",
    "\n",
    "#print(TrainImageArray)\n",
    "#print(TrainLable1)\n",
    "#print(len(TrainLable1))\n",
    "#print(len(TrainImageArray))\n",
    "\n",
    "TrainLableT1=TrainLable1[0:35]\n",
    "TrainLableV1=TrainLable1[35:50]\n",
    "TrainImageArrayT1=TrainImageArray[0:35]\n",
    "TrainImageArrayV1=TrainImageArray[35:50]\n",
    "\n",
    "#print(len(TrainLableT1))\n",
    "#print(len(TrainImageArrayT1))\n",
    "#print(len(TrainLableV1))\n",
    "#print(len(TrainImageArrayV1))\n",
    "\n",
    "NewTestData1 = NewTestData.sample(n=50, random_state=2)\n",
    "TestLable1 = np.array(NewTestData1['labels'])\n",
    "TestImageArray = CreateGrayScaleImage(NewTestData1)\n",
    "\n",
    "print(\"~~~End Of Image Preperation~~~\")"
   ]
  },
  {
   "cell_type": "code",
   "execution_count": 73,
   "metadata": {},
   "outputs": [
    {
     "name": "stderr",
     "output_type": "stream",
     "text": [
      "/Users/apatkar/anaconda3/lib/python3.6/importlib/_bootstrap.py:219: RuntimeWarning: compiletime version 3.5 of module 'tensorflow.python.framework.fast_tensor_util' does not match runtime version 3.6\n",
      "  return f(*args, **kwds)\n"
     ]
    }
   ],
   "source": [
    "import tensorflow as tf\n",
    "from tensorflow.contrib.layers import flatten\n",
    "\n",
    "EPOCHS = 10\n",
    "BATCH_SIZE = 124 #Size/Numbers of our Attribute/Columns\n",
    "\n",
    "def LeNet(x):    \n",
    "    # Hyperparameters\n",
    "    mu = 0\n",
    "    sigma = 0.1\n",
    "\n",
    "    # SOLUTION: Layer 1: Convolutional. Input = 32x32x1. Output = 28x28x6.\n",
    "    conv1_W = tf.Variable(tf.truncated_normal(shape=(5, 5, 1, 6), mean = mu, stddev = sigma))\n",
    "    conv1_b = tf.Variable(tf.zeros(6))\n",
    "    conv1   = tf.nn.conv2d(x, conv1_W, strides=[1, 1, 1, 1], padding='VALID') + conv1_b\n",
    "\n",
    "    # SOLUTION: Activation.\n",
    "    conv1 = tf.nn.relu(conv1)\n",
    "\n",
    "    # SOLUTION: Pooling. Input = 28x28x6. Output = 14x14x6.\n",
    "    conv1 = tf.nn.max_pool(conv1, ksize=[1, 2, 2, 1], strides=[1, 2, 2, 1], padding='VALID')\n",
    "\n",
    "    # SOLUTION: Layer 2: Convolutional. Output = 10x10x16.\n",
    "    conv2_W = tf.Variable(tf.truncated_normal(shape=(5, 5, 6, 16), mean = mu, stddev = sigma))\n",
    "    conv2_b = tf.Variable(tf.zeros(16))\n",
    "    conv2   = tf.nn.conv2d(conv1, conv2_W, strides=[1, 1, 1, 1], padding='VALID') + conv2_b\n",
    "\n",
    "    # SOLUTION: Activation.\n",
    "    conv2 = tf.nn.relu(conv2)\n",
    "\n",
    "    # SOLUTION: Pooling. Input = 10x10x16. Output = 5x5x16.\n",
    "    conv2 = tf.nn.max_pool(conv2, ksize=[1, 2, 2, 1], strides=[1, 2, 2, 1], padding='VALID')\n",
    "\n",
    "    # SOLUTION: Flatten. Input = 5x5x16. Output = 400.\n",
    "    fc0   = flatten(conv2)\n",
    "\n",
    "    # SOLUTION: Layer 3: Fully Connected. Input = 400. Output = 120.\n",
    "    fc1_W = tf.Variable(tf.truncated_normal(shape=(400, 120), mean = mu, stddev = sigma))\n",
    "    fc1_b = tf.Variable(tf.zeros(120))\n",
    "    fc1   = tf.matmul(fc0, fc1_W) + fc1_b\n",
    "\n",
    "    # SOLUTION: Activation.\n",
    "    fc1    = tf.nn.relu(fc1)\n",
    "\n",
    "    # SOLUTION: Layer 4: Fully Connected. Input = 120. Output = 84.\n",
    "    fc2_W  = tf.Variable(tf.truncated_normal(shape=(120, 84), mean = mu, stddev = sigma))\n",
    "    fc2_b  = tf.Variable(tf.zeros(84))\n",
    "    fc2    = tf.matmul(fc1, fc2_W) + fc2_b\n",
    "\n",
    "    # SOLUTION: Activation.\n",
    "    fc2    = tf.nn.relu(fc2)\n",
    "\n",
    "    # SOLUTION: Layer 5: Fully Connected. Input = 84. Output = 10.\n",
    "    fc3_W  = tf.Variable(tf.truncated_normal(shape=(84, 10), mean = mu, stddev = sigma))\n",
    "    fc3_b  = tf.Variable(tf.zeros(10))\n",
    "    logits = tf.matmul(fc2, fc3_W) + fc3_b\n",
    "\n",
    "    return logits"
   ]
  },
  {
   "cell_type": "code",
   "execution_count": 74,
   "metadata": {},
   "outputs": [],
   "source": [
    "x = tf.placeholder(tf.float32, (None, 32, 32, 1))\n",
    "y = tf.placeholder(tf.int32, (None))\n",
    "one_hot_y = tf.one_hot(y, 10)\n",
    "\n",
    "rate = 0.001\n",
    "\n",
    "logits = LeNet(x)\n",
    "cross_entropy = tf.nn.softmax_cross_entropy_with_logits(logits=logits, labels=one_hot_y)\n",
    "loss_operation = tf.reduce_mean(cross_entropy)\n",
    "optimizer = tf.train.AdamOptimizer(learning_rate = rate)\n",
    "training_operation = optimizer.minimize(loss_operation)"
   ]
  },
  {
   "cell_type": "code",
   "execution_count": 75,
   "metadata": {},
   "outputs": [
    {
     "name": "stdout",
     "output_type": "stream",
     "text": [
      "Training...\n",
      "\n",
      "124 0 124\n",
      "EPOCH 1 ...\n",
      "Validation Accuracy = 0.733\n",
      "\n",
      "124 0 124\n",
      "EPOCH 2 ...\n",
      "Validation Accuracy = 0.533\n",
      "\n",
      "124 0 124\n",
      "EPOCH 3 ...\n",
      "Validation Accuracy = 0.533\n",
      "\n",
      "124 0 124\n",
      "EPOCH 4 ...\n",
      "Validation Accuracy = 0.533\n",
      "\n",
      "124 0 124\n",
      "EPOCH 5 ...\n",
      "Validation Accuracy = 0.733\n",
      "\n",
      "124 0 124\n",
      "EPOCH 6 ...\n",
      "Validation Accuracy = 0.933\n",
      "\n",
      "124 0 124\n",
      "EPOCH 7 ...\n",
      "Validation Accuracy = 0.933\n",
      "\n",
      "124 0 124\n",
      "EPOCH 8 ...\n",
      "Validation Accuracy = 0.867\n",
      "\n",
      "124 0 124\n",
      "EPOCH 9 ...\n",
      "Validation Accuracy = 0.933\n",
      "\n",
      "124 0 124\n",
      "EPOCH 10 ...\n",
      "Validation Accuracy = 0.933\n",
      "\n",
      "Model saved\n",
      "INFO:tensorflow:Restoring parameters from ./lenet\n",
      "Test Accuracy = 0.500\n"
     ]
    }
   ],
   "source": [
    "from sklearn.utils import shuffle\n",
    "\n",
    "correct_prediction = tf.equal(tf.argmax(logits, 1), tf.argmax(one_hot_y, 1))\n",
    "accuracy_operation = tf.reduce_mean(tf.cast(correct_prediction, tf.float32))\n",
    "saver = tf.train.Saver()\n",
    "\n",
    "def evaluate(X_data, y_data):\n",
    "    num_examples = len(X_data)\n",
    "    total_accuracy = 0\n",
    "    sess = tf.get_default_session()\n",
    "    for offset in range(0, num_examples, BATCH_SIZE):\n",
    "        batch_x, batch_y = X_data[offset:offset+BATCH_SIZE], y_data[offset:offset+BATCH_SIZE]\n",
    "        accuracy = sess.run(accuracy_operation, feed_dict={x: batch_x, y: batch_y})\n",
    "        total_accuracy += (accuracy * len(batch_x))\n",
    "    return total_accuracy / num_examples\n",
    "\n",
    "with tf.Session() as sess:\n",
    "    sess.run(tf.global_variables_initializer())\n",
    "    num_examples = len(TrainImageArray) #X_train)\n",
    "    \n",
    "    assert(len(TrainImageArray) == len(TrainLable1))\n",
    "    print(\"Training...\")\n",
    "    print()\n",
    "    for i in range(EPOCHS):\n",
    "        x_train, y_train = shuffle(TrainImageArrayT1, TrainLableT1) #X_train, Y_train)\n",
    "        for offset in range(0, num_examples, BATCH_SIZE):\n",
    "            end = offset + BATCH_SIZE\n",
    "            print(end,offset,BATCH_SIZE)\n",
    "            batch_x, batch_y = x_train[offset:end], y_train[offset:end]\n",
    "            sess.run(training_operation, feed_dict={x: batch_x, y: batch_y})\n",
    "            \n",
    "        validation_accuracy = evaluate(TrainImageArrayV1, TrainLableV1) #X_validation, Y_validation)\n",
    "        print(\"EPOCH {} ...\".format(i+1))\n",
    "        print(\"Validation Accuracy = {:.3f}\".format(validation_accuracy))\n",
    "        print()\n",
    "        \n",
    "    saver.save(sess, './lenet')\n",
    "    print(\"Model saved\")\n",
    "    \n",
    "with tf.Session() as sess:\n",
    "    saver.restore(sess, tf.train.latest_checkpoint('.'))\n",
    "\n",
    "    test_accuracy = evaluate(TestImageArray, TestLable1) #X_test, y_test)\n",
    "    print(\"Test Accuracy = {:.3f}\".format(test_accuracy))"
   ]
  },
  {
   "cell_type": "code",
   "execution_count": null,
   "metadata": {},
   "outputs": [],
   "source": [
    "from tensorflow.contrib.learn.python.learn.datasets.mnist import read_data_sets\n",
    "from tensorflow.python.framework import ops\n",
    "ops.reset_default_graph()\n",
    "\n",
    "# Start a graph session\n",
    "sess = tf.Session()\n",
    "\n",
    "def Create28x28GrayScaleImage(Row):\n",
    "    #display(Row)\n",
    "    IMGDT = Row.iloc[1:124]\n",
    "    # Convert the data to Numpy Array\n",
    "    IDT = np.array(IMGDT)\n",
    "    # Convert the data to Binary\n",
    "    ISA = np.select([IDT <= .5, IDT>.5], [np.zeros_like(IDT), np.ones_like(IDT)])\n",
    "    # Create the Numpy array of converted data\n",
    "    img = np.array(ISA * 255, dtype = np.uint8)\n",
    "    # Create a grayscale image using CV2 function\n",
    "    grayscale = cv2.adaptiveThreshold(img, 255, cv2.ADAPTIVE_THRESH_MEAN_C, cv2.THRESH_BINARY, 3, 0)\n",
    "    # Recsale created Grascale Image to 28x28\n",
    "    Image28x28 = cv2.resize(grayscale, (28,28))\n",
    "    # Add new axies/dimension to the image\n",
    "    #Image32_32_1 = Image32_32[:, :, np.newaxis]\n",
    "        \n",
    "    return Image28x28\n",
    "\n",
    "NewTrainingData2 = NewTrainingData.sample(n=10000, random_state=2)\n",
    "TrainLable2 = np.array(NewTrainingData2['labels'])\n",
    "\n",
    "TRIMGLst = []\n",
    "for index, Trainrow in NewTrainingData2.iterrows():\n",
    "    TRIMGLst.append(Create28x28GrayScaleImage(Trainrow))\n",
    "\n",
    "NewTrainingData3 = np.array(TRIMGLst)\n",
    "\n",
    "NewTestData2 = NewTestData.sample(n=10000, random_state=2)\n",
    "TestLable2 = np.array(NewTestData2['labels'])\n",
    "\n",
    "TSIMGLst = []\n",
    "for index, Testrow in NewTestData2.iterrows():\n",
    "    TSIMGLst.append(Create28x28GrayScaleImage(Testrow))\n",
    "\n",
    "NewTestData3 = np.array(TSIMGLst)\n",
    "\n",
    "# Convert images into 28x28 (they are 32x32)\n",
    "train_xdata = NewTrainingData3\n",
    "test_xdata = NewTestData3\n",
    " \n",
    "# Above Converted labels into one-hot encoded vectors\n",
    "train_labels = TrainLable2\n",
    "test_labels = TestLable2\n",
    "\n",
    "display(train_labels)\n",
    "display(test_labels)\n",
    "print(\"~~~End Of Image Preperation2 Creation~~~\")"
   ]
  },
  {
   "cell_type": "code",
   "execution_count": 208,
   "metadata": {},
   "outputs": [
    {
     "name": "stdout",
     "output_type": "stream",
     "text": [
      "~~~End Of My TF Model Creation~~~\n"
     ]
    }
   ],
   "source": [
    "# Set model parameters\n",
    "batch_size = 1000\n",
    "learning_rate = 0.0001\n",
    "evaluation_size = 500\n",
    "image_width = train_xdata[0].shape[0]\n",
    "image_height = train_xdata[0].shape[1]\n",
    "target_size = max(train_labels) + 1\n",
    "num_channels = 1 # greyscale = 1 channel\n",
    "generations = 500\n",
    "eval_every = 5\n",
    "conv1_features = 25\n",
    "conv2_features = 50\n",
    "max_pool_size1 = 2 # NxN window for 1st max pool layer\n",
    "max_pool_size2 = 2 # NxN window for 2nd max pool layer\n",
    "fully_connected_size1 = 100\n",
    "\n",
    "x_input_shape = (batch_size, image_width, image_height, num_channels)\n",
    "x_input = tf.placeholder(tf.float32, shape=x_input_shape)\n",
    "y_target = tf.placeholder(tf.int32, shape=(batch_size))\n",
    "\n",
    "eval_input_shape = (evaluation_size, image_width, image_height, num_channels)\n",
    "eval_input = tf.placeholder(tf.float32, shape=eval_input_shape)\n",
    "eval_target = tf.placeholder(tf.int32, shape=(evaluation_size))\n",
    "\n",
    "# Convolutional layer variables\n",
    "conv1_weight = tf.Variable(tf.truncated_normal([4, 4, num_channels, conv1_features],\n",
    "                                               stddev=0.1, dtype=tf.float32))\n",
    "conv1_bias = tf.Variable(tf.zeros([conv1_features], dtype=tf.float32))\n",
    "\n",
    "conv2_weight = tf.Variable(tf.truncated_normal([4, 4, conv1_features, conv2_features],\n",
    "                                               stddev=0.1, dtype=tf.float32))\n",
    "conv2_bias = tf.Variable(tf.zeros([conv2_features], dtype=tf.float32))\n",
    "\n",
    "#display(conv1_weight)\n",
    "#display(conv1_bias)\n",
    "#display(conv2_weight)\n",
    "#display(conv2_bias)\n",
    "# fully connected variables\n",
    "resulting_width = image_width // (max_pool_size1 * max_pool_size2)\n",
    "resulting_height = image_height // (max_pool_size1 * max_pool_size2)\n",
    "full1_input_size = resulting_width * resulting_height * conv2_features\n",
    "full1_weight = tf.Variable(tf.truncated_normal([full1_input_size, fully_connected_size1],\n",
    "                          stddev=0.1, dtype=tf.float32))\n",
    "full1_bias = tf.Variable(tf.truncated_normal([fully_connected_size1], stddev=0.1, dtype=tf.float32))\n",
    "full2_weight = tf.Variable(tf.truncated_normal([fully_connected_size1, target_size],\n",
    "                                               stddev=0.1, dtype=tf.float32))\n",
    "full2_bias = tf.Variable(tf.truncated_normal([target_size], stddev=0.1, dtype=tf.float32))\n",
    "print(\"~~~End Of My TF Model Creation~~~\")"
   ]
  },
  {
   "cell_type": "code",
   "execution_count": 209,
   "metadata": {},
   "outputs": [
    {
     "name": "stdout",
     "output_type": "stream",
     "text": [
      "Generation # 5. Train Loss: 35.02. Train Acc (Test Acc): 80.60 (57.20)\n",
      "Generation # 10. Train Loss: 9.37. Train Acc (Test Acc): 89.10 (68.60)\n",
      "Generation # 15. Train Loss: 6.22. Train Acc (Test Acc): 90.20 (85.20)\n",
      "Generation # 20. Train Loss: 3.56. Train Acc (Test Acc): 89.60 (71.60)\n",
      "Generation # 25. Train Loss: 0.55. Train Acc (Test Acc): 97.60 (81.60)\n",
      "Generation # 30. Train Loss: 0.57. Train Acc (Test Acc): 98.60 (79.80)\n",
      "Generation # 35. Train Loss: 0.44. Train Acc (Test Acc): 98.90 (76.40)\n",
      "Generation # 40. Train Loss: 0.16. Train Acc (Test Acc): 99.20 (79.00)\n",
      "Generation # 45. Train Loss: 0.27. Train Acc (Test Acc): 99.00 (83.80)\n",
      "Generation # 50. Train Loss: 0.11. Train Acc (Test Acc): 99.20 (82.00)\n",
      "Generation # 55. Train Loss: 0.17. Train Acc (Test Acc): 99.60 (81.80)\n",
      "Generation # 60. Train Loss: 0.45. Train Acc (Test Acc): 99.30 (82.40)\n",
      "Generation # 65. Train Loss: 0.24. Train Acc (Test Acc): 99.60 (84.00)\n",
      "Generation # 70. Train Loss: 0.04. Train Acc (Test Acc): 99.60 (83.60)\n",
      "Generation # 75. Train Loss: 0.14. Train Acc (Test Acc): 99.70 (83.80)\n",
      "Generation # 80. Train Loss: 0.11. Train Acc (Test Acc): 99.60 (82.80)\n",
      "Generation # 85. Train Loss: 0.03. Train Acc (Test Acc): 99.70 (82.00)\n",
      "Generation # 90. Train Loss: 0.24. Train Acc (Test Acc): 99.10 (81.80)\n",
      "Generation # 95. Train Loss: 0.03. Train Acc (Test Acc): 99.80 (83.20)\n",
      "Generation # 100. Train Loss: 0.09. Train Acc (Test Acc): 99.60 (84.20)\n",
      "Generation # 105. Train Loss: 0.06. Train Acc (Test Acc): 99.50 (81.60)\n",
      "Generation # 110. Train Loss: 0.06. Train Acc (Test Acc): 99.50 (81.40)\n",
      "Generation # 115. Train Loss: 0.06. Train Acc (Test Acc): 99.50 (81.20)\n",
      "Generation # 120. Train Loss: 0.01. Train Acc (Test Acc): 99.70 (85.60)\n",
      "Generation # 125. Train Loss: 0.09. Train Acc (Test Acc): 99.40 (82.80)\n",
      "Generation # 130. Train Loss: 0.00. Train Acc (Test Acc): 99.90 (81.40)\n",
      "Generation # 135. Train Loss: 0.00. Train Acc (Test Acc): 100.00 (84.40)\n",
      "Generation # 140. Train Loss: 0.04. Train Acc (Test Acc): 99.50 (82.80)\n",
      "Generation # 145. Train Loss: 0.10. Train Acc (Test Acc): 99.60 (83.60)\n",
      "Generation # 150. Train Loss: 0.03. Train Acc (Test Acc): 99.80 (83.20)\n",
      "Generation # 155. Train Loss: 0.11. Train Acc (Test Acc): 99.60 (83.60)\n",
      "Generation # 160. Train Loss: 0.16. Train Acc (Test Acc): 99.50 (84.40)\n",
      "Generation # 165. Train Loss: 0.16. Train Acc (Test Acc): 99.40 (80.00)\n",
      "Generation # 170. Train Loss: 0.03. Train Acc (Test Acc): 99.80 (83.00)\n",
      "Generation # 175. Train Loss: 0.17. Train Acc (Test Acc): 99.40 (83.00)\n",
      "Generation # 180. Train Loss: 0.07. Train Acc (Test Acc): 99.50 (81.40)\n",
      "Generation # 185. Train Loss: 0.00. Train Acc (Test Acc): 99.90 (80.20)\n",
      "Generation # 190. Train Loss: 0.01. Train Acc (Test Acc): 99.80 (84.80)\n",
      "Generation # 195. Train Loss: 0.01. Train Acc (Test Acc): 99.70 (84.00)\n",
      "Generation # 200. Train Loss: 0.06. Train Acc (Test Acc): 99.50 (81.60)\n",
      "Generation # 205. Train Loss: 0.01. Train Acc (Test Acc): 99.80 (84.00)\n",
      "Generation # 210. Train Loss: 0.11. Train Acc (Test Acc): 99.50 (80.20)\n",
      "Generation # 215. Train Loss: 0.01. Train Acc (Test Acc): 99.80 (84.00)\n",
      "Generation # 220. Train Loss: 0.04. Train Acc (Test Acc): 99.60 (88.40)\n",
      "Generation # 225. Train Loss: 0.01. Train Acc (Test Acc): 99.60 (89.20)\n",
      "Generation # 230. Train Loss: 0.06. Train Acc (Test Acc): 99.80 (86.20)\n",
      "Generation # 235. Train Loss: 0.01. Train Acc (Test Acc): 99.80 (86.20)\n",
      "Generation # 240. Train Loss: 0.06. Train Acc (Test Acc): 99.80 (88.20)\n",
      "Generation # 245. Train Loss: 0.02. Train Acc (Test Acc): 99.70 (84.00)\n",
      "Generation # 250. Train Loss: 0.01. Train Acc (Test Acc): 99.90 (84.60)\n",
      "Generation # 255. Train Loss: 0.01. Train Acc (Test Acc): 99.80 (85.80)\n",
      "Generation # 260. Train Loss: 0.00. Train Acc (Test Acc): 100.00 (85.00)\n",
      "Generation # 265. Train Loss: 0.01. Train Acc (Test Acc): 99.60 (85.00)\n",
      "Generation # 270. Train Loss: 0.01. Train Acc (Test Acc): 99.50 (87.40)\n",
      "Generation # 275. Train Loss: 0.00. Train Acc (Test Acc): 99.90 (85.00)\n",
      "Generation # 280. Train Loss: 0.07. Train Acc (Test Acc): 99.70 (86.20)\n",
      "Generation # 285. Train Loss: 0.06. Train Acc (Test Acc): 99.70 (85.20)\n",
      "Generation # 290. Train Loss: 0.06. Train Acc (Test Acc): 99.80 (88.60)\n",
      "Generation # 295. Train Loss: 0.01. Train Acc (Test Acc): 99.80 (86.40)\n",
      "Generation # 300. Train Loss: 0.02. Train Acc (Test Acc): 99.80 (86.00)\n",
      "Generation # 305. Train Loss: 0.05. Train Acc (Test Acc): 99.60 (85.40)\n",
      "Generation # 310. Train Loss: 0.00. Train Acc (Test Acc): 100.00 (84.80)\n",
      "Generation # 315. Train Loss: 0.00. Train Acc (Test Acc): 99.90 (85.40)\n",
      "Generation # 320. Train Loss: 0.05. Train Acc (Test Acc): 99.80 (84.20)\n",
      "Generation # 325. Train Loss: 0.00. Train Acc (Test Acc): 99.80 (86.60)\n",
      "Generation # 330. Train Loss: 0.02. Train Acc (Test Acc): 99.80 (87.20)\n",
      "Generation # 335. Train Loss: 0.00. Train Acc (Test Acc): 99.80 (87.20)\n",
      "Generation # 340. Train Loss: 0.00. Train Acc (Test Acc): 100.00 (86.60)\n",
      "Generation # 345. Train Loss: 0.02. Train Acc (Test Acc): 99.70 (86.20)\n",
      "Generation # 350. Train Loss: 0.02. Train Acc (Test Acc): 99.90 (89.80)\n",
      "Generation # 355. Train Loss: 0.01. Train Acc (Test Acc): 99.60 (86.20)\n",
      "Generation # 360. Train Loss: 0.06. Train Acc (Test Acc): 99.80 (87.20)\n",
      "Generation # 365. Train Loss: 0.00. Train Acc (Test Acc): 99.90 (87.20)\n",
      "Generation # 370. Train Loss: 0.00. Train Acc (Test Acc): 99.80 (85.40)\n",
      "Generation # 375. Train Loss: 0.00. Train Acc (Test Acc): 99.90 (84.00)\n",
      "Generation # 380. Train Loss: 0.00. Train Acc (Test Acc): 99.90 (85.40)\n",
      "Generation # 385. Train Loss: 0.00. Train Acc (Test Acc): 99.70 (85.80)\n",
      "Generation # 390. Train Loss: 0.03. Train Acc (Test Acc): 99.70 (85.00)\n",
      "Generation # 395. Train Loss: 0.04. Train Acc (Test Acc): 99.90 (87.60)\n",
      "Generation # 400. Train Loss: 0.00. Train Acc (Test Acc): 100.00 (87.40)\n",
      "Generation # 405. Train Loss: 0.01. Train Acc (Test Acc): 99.80 (86.00)\n",
      "Generation # 410. Train Loss: 0.03. Train Acc (Test Acc): 99.70 (88.00)\n",
      "Generation # 415. Train Loss: 0.03. Train Acc (Test Acc): 99.70 (88.20)\n",
      "Generation # 420. Train Loss: 0.02. Train Acc (Test Acc): 99.50 (85.60)\n",
      "Generation # 425. Train Loss: 0.03. Train Acc (Test Acc): 99.70 (86.60)\n",
      "Generation # 430. Train Loss: 0.02. Train Acc (Test Acc): 99.80 (86.80)\n",
      "Generation # 435. Train Loss: 0.00. Train Acc (Test Acc): 99.80 (81.40)\n",
      "Generation # 440. Train Loss: 0.02. Train Acc (Test Acc): 99.80 (87.60)\n",
      "Generation # 445. Train Loss: 0.02. Train Acc (Test Acc): 99.60 (89.80)\n",
      "Generation # 450. Train Loss: 0.01. Train Acc (Test Acc): 99.60 (88.20)\n",
      "Generation # 455. Train Loss: 0.02. Train Acc (Test Acc): 99.80 (84.40)\n",
      "Generation # 460. Train Loss: 0.00. Train Acc (Test Acc): 99.80 (84.80)\n",
      "Generation # 465. Train Loss: 0.01. Train Acc (Test Acc): 99.80 (84.60)\n",
      "Generation # 470. Train Loss: 0.01. Train Acc (Test Acc): 99.80 (84.00)\n",
      "Generation # 475. Train Loss: 0.01. Train Acc (Test Acc): 99.90 (85.00)\n",
      "Generation # 480. Train Loss: 0.00. Train Acc (Test Acc): 100.00 (86.60)\n",
      "Generation # 485. Train Loss: 0.03. Train Acc (Test Acc): 99.80 (87.00)\n",
      "Generation # 490. Train Loss: 0.00. Train Acc (Test Acc): 99.80 (85.40)\n",
      "Generation # 495. Train Loss: 0.00. Train Acc (Test Acc): 99.70 (84.40)\n",
      "Generation # 500. Train Loss: 0.00. Train Acc (Test Acc): 99.90 (86.00)\n"
     ]
    },
    {
     "data": {
      "text/plain": [
       "86.0"
      ]
     },
     "metadata": {},
     "output_type": "display_data"
    }
   ],
   "source": [
    "# Initialize Model Operations\n",
    "def my_conv_net(input_data):\n",
    "    # First Conv-ReLU-MaxPool Layer\n",
    "    conv1 = tf.nn.conv2d(input_data, conv1_weight, strides=[1, 1, 1, 1], padding='SAME')\n",
    "    relu1 = tf.nn.relu(tf.nn.bias_add(conv1, conv1_bias))\n",
    "    max_pool1 = tf.nn.max_pool(relu1, ksize=[1, max_pool_size1, max_pool_size1, 1],\n",
    "                               strides=[1, max_pool_size1, max_pool_size1, 1], padding='SAME')\n",
    "    tf.nn.dropout(0.2,0.1)\n",
    "    # Second Conv-ReLU-MaxPool Layer\n",
    "    conv2 = tf.nn.conv2d(max_pool1, conv2_weight, strides=[1, 1, 1, 1], padding='SAME')\n",
    "    relu2 = tf.nn.relu(tf.nn.bias_add(conv2, conv2_bias))\n",
    "    max_pool2 = tf.nn.max_pool(relu2, ksize=[1, max_pool_size2, max_pool_size2, 1],\n",
    "                               strides=[1, max_pool_size2, max_pool_size2, 1], padding='SAME')\n",
    "    tf.nn.dropout(0.01,0.01)\n",
    "    # Transform Output into a 1xN layer for next fully connected layer\n",
    "    final_conv_shape = max_pool2.get_shape().as_list()\n",
    "    final_shape = final_conv_shape[1] * final_conv_shape[2] * final_conv_shape[3]\n",
    "    flat_output = tf.reshape(max_pool2, [final_conv_shape[0], final_shape])\n",
    "\n",
    "    # First Fully Connected Layer\n",
    "    fully_connected1 = tf.nn.relu(tf.add(tf.matmul(flat_output, full1_weight), full1_bias))\n",
    "\n",
    "    # Second Fully Connected Layer\n",
    "    final_model_output = tf.add(tf.matmul(fully_connected1, full2_weight), full2_bias)\n",
    "    \n",
    "    return(final_model_output)\n",
    "\n",
    "model_output = my_conv_net(x_input)\n",
    "test_model_output = my_conv_net(eval_input)\n",
    "\n",
    "# Declare Loss Function (softmax cross entropy)\n",
    "loss = tf.reduce_mean(tf.nn.sparse_softmax_cross_entropy_with_logits(logits=model_output, labels=y_target))\n",
    "\n",
    "# Create a prediction function\n",
    "prediction = tf.nn.softmax(model_output)\n",
    "test_prediction = tf.nn.softmax(test_model_output)\n",
    "\n",
    "# Create accuracy function\n",
    "def get_accuracy(logits, targets):\n",
    "    batch_predictions = np.argmax(logits, axis=1)\n",
    "    num_correct = np.sum(np.equal(batch_predictions, targets))\n",
    "    return(100. * num_correct/batch_predictions.shape[0])\n",
    "\n",
    "# Create an optimizer\n",
    "my_optimizer = tf.train.MomentumOptimizer(learning_rate, 0.9)\n",
    "train_step = my_optimizer.minimize(loss)\n",
    "\n",
    "# Initialize Variables\n",
    "init = tf.global_variables_initializer()\n",
    "sess.run(init)\n",
    "\n",
    "# Start training loop\n",
    "train_loss = []\n",
    "train_acc = []\n",
    "test_acc = []\n",
    "for i in range(generations):\n",
    "    rand_index = np.random.choice(len(train_xdata), size=batch_size)\n",
    "    rand_x = train_xdata[rand_index]\n",
    "    rand_x = np.expand_dims(rand_x, 3)\n",
    "    rand_y = train_labels[rand_index]\n",
    "    train_dict = {x_input: rand_x, y_target: rand_y}\n",
    "    \n",
    "    sess.run(train_step, feed_dict=train_dict)\n",
    "    temp_train_loss, temp_train_preds = sess.run([loss, prediction], feed_dict=train_dict)\n",
    "    temp_train_acc = get_accuracy(temp_train_preds, rand_y)\n",
    "    \n",
    "    if (i+1) % eval_every == 0:\n",
    "        eval_index = np.random.choice(len(test_xdata), size=evaluation_size)\n",
    "        #display(len(test_xdata),eval_index,len(test_labels))\n",
    "        eval_x = test_xdata[eval_index]\n",
    "        eval_x = np.expand_dims(eval_x, 3)\n",
    "        eval_y = test_labels[eval_index]\n",
    "        test_dict = {eval_input: eval_x, eval_target: eval_y}\n",
    "        test_preds = sess.run(test_prediction, feed_dict=test_dict)\n",
    "        temp_test_acc = get_accuracy(test_preds, eval_y)\n",
    "        \n",
    "        # Record and print results\n",
    "        train_loss.append(temp_train_loss)\n",
    "        train_acc.append(temp_train_acc)\n",
    "        test_acc.append(temp_test_acc)\n",
    "        acc_and_loss = [(i+1), temp_train_loss, temp_train_acc, temp_test_acc]\n",
    "        acc_and_loss = [np.round(x,2) for x in acc_and_loss]\n",
    "        print('Generation # {}. Train Loss: {:.2f}. Train Acc (Test Acc): {:.2f} ({:.2f})'.format(*acc_and_loss))\n",
    "        \n",
    "display(np.mean(temp_test_acc))"
   ]
  },
  {
   "cell_type": "code",
   "execution_count": 210,
   "metadata": {},
   "outputs": [
    {
     "data": {
      "image/png": "[encoded data removed]",
      "text/plain": [
       "<matplotlib.figure.Figure at 0x6cd050908>"
      ]
     },
     "metadata": {},
     "output_type": "display_data"
    },
    {
     "data": {
      "image/png": "[encoded data removed]",
      "text/plain": [
       "<matplotlib.figure.Figure at 0x6cd050a20>"
      ]
     },
     "metadata": {},
     "output_type": "display_data"
    }
   ],
   "source": [
    "# Matlotlib code to plot the loss and accuracies\n",
    "eval_indices = range(0, generations, eval_every)\n",
    "# Plot loss over time\n",
    "plt.plot(eval_indices, train_loss, 'k-')\n",
    "plt.title('Softmax Loss per Generation')\n",
    "plt.xlabel('Generation')\n",
    "plt.ylabel('Softmax Loss')\n",
    "plt.show()\n",
    "\n",
    "# Plot train and test accuracy\n",
    "plt.plot(eval_indices, train_acc, 'k-', label='Train Set Accuracy')\n",
    "plt.plot(eval_indices, test_acc, 'r--', label='Test Set Accuracy')\n",
    "plt.title('Train and Test Accuracy')\n",
    "plt.xlabel('Generation')\n",
    "plt.ylabel('Accuracy')\n",
    "plt.legend(loc='lower right')\n",
    "plt.show()"
   ]
  },
  {
   "cell_type": "code",
   "execution_count": 250,
   "metadata": {},
   "outputs": [
    {
     "data": {
      "text/plain": [
       "<matplotlib.figure.Figure at 0x6df635da0>"
      ]
     },
     "metadata": {},
     "output_type": "display_data"
    },
    {
     "data": {
      "text/plain": [
       "<matplotlib.figure.Figure at 0x6df6353c8>"
      ]
     },
     "metadata": {},
     "output_type": "display_data"
    },
    {
     "data": {
      "text/plain": [
       "<matplotlib.figure.Figure at 0x6cd2a1ef0>"
      ]
     },
     "metadata": {},
     "output_type": "display_data"
    },
    {
     "data": {
      "text/plain": [
       "<matplotlib.figure.Figure at 0x6e0da7828>"
      ]
     },
     "metadata": {},
     "output_type": "display_data"
    },
    {
     "data": {
      "image/png": "[encoded data removed]",
      "text/plain": [
       "<matplotlib.figure.Figure at 0x6e0d6e668>"
      ]
     },
     "metadata": {},
     "output_type": "display_data"
    }
   ],
   "source": [
    "# Plot some samples\n",
    "# Plot the 10 of the last batch results:\n",
    "actuals = rand_y[0:10]\n",
    "predictions = np.argmax(temp_train_preds,axis=1)[0:10]\n",
    "images = np.squeeze(rand_x[0:10])\n",
    "\n",
    "Nrows = 2\n",
    "Ncols = 5\n",
    "# plot with various axes scales and set the Figure Size for the image\n",
    "plt.figure(1)\n",
    "plt.figure(num=None, figsize=(8, 6), dpi=80, facecolor='w', edgecolor='k')\n",
    "\n",
    "for i in range(10):\n",
    "    plt.subplot(Nrows, Ncols, i+1)\n",
    "    plt.imshow(images[i], cmap='Greys_r')\n",
    "    plt.title('Actual: ' + str(actuals[i]) + ' Pred: ' + str(predictions[i]), fontsize=10)\n",
    "    plt.gca().axes.get_xaxis().set_visible(False)\n",
    "    plt.gca().get_yaxis().set_visible(False)\n",
    "# Adjust the subplot layout, because the logit one may take more space\n",
    "# than usual, due to y-tick labels like \"1 - 10^{-3}\"\n",
    "plt.subplots_adjust(top=0.92, bottom=0.08, left=0.10, right=0.95, hspace=0.25, wspace=0.35)\n",
    "plt.tight_layout(pad=0.4, w_pad=0.5, h_pad=1.0)\n",
    "plt.show()\n"
   ]
  },
  {
   "cell_type": "code",
   "execution_count": 327,
   "metadata": {},
   "outputs": [
    {
     "data": {
      "text/plain": [
       "(315, 28, 28)"
      ]
     },
     "metadata": {},
     "output_type": "display_data"
    },
    {
     "data": {
      "text/plain": [
       "(315,)"
      ]
     },
     "metadata": {},
     "output_type": "display_data"
    },
    {
     "data": {
      "text/plain": [
       "(10000,)"
      ]
     },
     "metadata": {},
     "output_type": "display_data"
    },
    {
     "data": {
      "text/plain": [
       "(10000, 28, 28)"
      ]
     },
     "metadata": {},
     "output_type": "display_data"
    }
   ],
   "source": [
    "\n",
    "def Create28x28GSImage(chunk):\n",
    "    IDT = chunk\n",
    "    #display(chunk)\n",
    "    new_data = []\n",
    "    for i in range(0, len(IDT), 8):\n",
    "        new_data.append(IDT[i:i+8])  # 8 digit binary list\n",
    "    int_data = [] \n",
    "    for i in new_data:\n",
    "        i=str(i)\n",
    "        #display(ord(i[0]))\n",
    "        int_data = bytearray((ord(i[0]), ord(i[1]), ord(i[2]), ord(i[3]), ord(i[4]), ord(i[5]), ord(i[6]), ord(i[7])))        \n",
    "        #int_data.append(int(bin(i),2)) \n",
    "    a= bytearray(int_data)\n",
    "    # Convert the data to Binary\n",
    "    #ISA = np.select([IDT <= .5, IDT>.5], [np.zeros_like(IDT), np.ones_like(IDT)])\n",
    "    # Create the Numpy array of converted data\n",
    "    img = np.array(a) #, dtype = np.uint8)\n",
    "    #display(img)\n",
    "    # Create a grayscale image using CV2 function\n",
    "    grayscale = cv2.adaptiveThreshold(img, 255, cv2.ADAPTIVE_THRESH_MEAN_C, cv2.THRESH_BINARY, 3, 0)\n",
    "    # Recsale created Grascale Image to 28x28\n",
    "    Image28x28 = cv2.resize(grayscale, (28,28))\n",
    "    \n",
    "    return Image28x28\n",
    "\n",
    "PCPTSTIMGLst = []\n",
    "PCPIDX = 0\n",
    "BinaryFilePath = Base_DIR + '/Advantech.pcap'\n",
    "TestLableX = []\n",
    "\n",
    "with open(BinaryFilePath, \"rb\") as f:\n",
    "    for chunk in iter(lambda: f.read(128), b\"\"):\n",
    "        ImageGSI = Create28x28GSImage(chunk)\n",
    "        PCPTSTIMGLst.append(ImageGSI)      \n",
    "        TestLableX.append(1)\n",
    "        # Generate the Image Iname\n",
    "        imagename = 'PCPIMG_'+str(PCPIDX)+'.png'\n",
    "        # Save Original and convered Image\n",
    "        #cv2.imwrite(imagename,ImageGSI)\n",
    "        #Increment Index\n",
    "        PCPIDX += 1\n",
    "            \n",
    "PCPNewTestData3 = np.array(PCPTSTIMGLst)\n",
    "TestLable3 = np.array(TestLableX)\n",
    "display(PCPNewTestData3.shape)\n",
    "display(TestLable3.shape)\n",
    "display(train_labels.shape)\n",
    "display(test_xdata.shape)"
   ]
  },
  {
   "cell_type": "code",
   "execution_count": 328,
   "metadata": {},
   "outputs": [
    {
     "name": "stdout",
     "output_type": "stream",
     "text": [
      "Generation # 5. Train Loss: 0.00. Train Acc (Test Acc): 100.00 (56.20)\n",
      "Generation # 10. Train Loss: 0.02. Train Acc (Test Acc): 99.70 (56.20)\n",
      "Generation # 15. Train Loss: 0.03. Train Acc (Test Acc): 99.70 (56.20)\n",
      "Generation # 20. Train Loss: 0.01. Train Acc (Test Acc): 99.80 (56.20)\n",
      "Generation # 25. Train Loss: 0.03. Train Acc (Test Acc): 99.50 (56.20)\n",
      "Generation # 30. Train Loss: 0.00. Train Acc (Test Acc): 99.70 (54.40)\n",
      "Generation # 35. Train Loss: 0.00. Train Acc (Test Acc): 100.00 (56.00)\n",
      "Generation # 40. Train Loss: 0.01. Train Acc (Test Acc): 99.80 (57.20)\n",
      "Generation # 45. Train Loss: 0.00. Train Acc (Test Acc): 99.80 (57.20)\n",
      "Generation # 50. Train Loss: 0.00. Train Acc (Test Acc): 99.80 (57.20)\n",
      "Generation # 55. Train Loss: 0.00. Train Acc (Test Acc): 99.60 (56.00)\n",
      "Generation # 60. Train Loss: 0.00. Train Acc (Test Acc): 99.80 (54.40)\n",
      "Generation # 65. Train Loss: 0.00. Train Acc (Test Acc): 99.70 (54.40)\n",
      "Generation # 70. Train Loss: 0.00. Train Acc (Test Acc): 99.90 (57.40)\n",
      "Generation # 75. Train Loss: 0.00. Train Acc (Test Acc): 99.90 (57.40)\n",
      "Generation # 80. Train Loss: 0.01. Train Acc (Test Acc): 99.70 (54.40)\n",
      "Generation # 85. Train Loss: 0.00. Train Acc (Test Acc): 100.00 (54.40)\n",
      "Generation # 90. Train Loss: 0.00. Train Acc (Test Acc): 99.80 (57.40)\n",
      "Generation # 95. Train Loss: 0.00. Train Acc (Test Acc): 99.70 (57.40)\n",
      "Generation # 100. Train Loss: 0.00. Train Acc (Test Acc): 99.90 (56.00)\n",
      "Generation # 105. Train Loss: 0.00. Train Acc (Test Acc): 99.90 (56.00)\n",
      "Generation # 110. Train Loss: 0.01. Train Acc (Test Acc): 99.60 (56.20)\n",
      "Generation # 115. Train Loss: 0.01. Train Acc (Test Acc): 99.80 (57.00)\n",
      "Generation # 120. Train Loss: 0.01. Train Acc (Test Acc): 99.60 (56.20)\n",
      "Generation # 125. Train Loss: 0.00. Train Acc (Test Acc): 99.90 (56.20)\n",
      "Generation # 130. Train Loss: 0.01. Train Acc (Test Acc): 99.80 (57.00)\n",
      "Generation # 135. Train Loss: 0.01. Train Acc (Test Acc): 99.70 (57.00)\n",
      "Generation # 140. Train Loss: 0.03. Train Acc (Test Acc): 99.80 (57.00)\n",
      "Generation # 145. Train Loss: 0.00. Train Acc (Test Acc): 99.70 (57.00)\n",
      "Generation # 150. Train Loss: 0.01. Train Acc (Test Acc): 99.90 (56.00)\n",
      "Generation # 155. Train Loss: 0.00. Train Acc (Test Acc): 99.90 (56.80)\n",
      "Generation # 160. Train Loss: 0.01. Train Acc (Test Acc): 99.50 (56.00)\n",
      "Generation # 165. Train Loss: 0.01. Train Acc (Test Acc): 99.60 (55.80)\n",
      "Generation # 170. Train Loss: 0.00. Train Acc (Test Acc): 100.00 (55.80)\n",
      "Generation # 175. Train Loss: 0.01. Train Acc (Test Acc): 99.90 (56.00)\n",
      "Generation # 180. Train Loss: 0.00. Train Acc (Test Acc): 99.90 (57.40)\n",
      "Generation # 185. Train Loss: 0.00. Train Acc (Test Acc): 100.00 (56.20)\n",
      "Generation # 190. Train Loss: 0.01. Train Acc (Test Acc): 99.70 (56.00)\n",
      "Generation # 195. Train Loss: 0.01. Train Acc (Test Acc): 99.60 (56.00)\n",
      "Generation # 200. Train Loss: 0.00. Train Acc (Test Acc): 99.90 (56.00)\n",
      "Generation # 205. Train Loss: 0.00. Train Acc (Test Acc): 99.90 (54.20)\n",
      "Generation # 210. Train Loss: 0.01. Train Acc (Test Acc): 99.70 (55.80)\n",
      "Generation # 215. Train Loss: 0.00. Train Acc (Test Acc): 99.80 (55.80)\n",
      "Generation # 220. Train Loss: 0.00. Train Acc (Test Acc): 99.90 (55.80)\n",
      "Generation # 225. Train Loss: 0.00. Train Acc (Test Acc): 99.80 (56.60)\n",
      "Generation # 230. Train Loss: 0.01. Train Acc (Test Acc): 99.80 (55.80)\n",
      "Generation # 235. Train Loss: 0.01. Train Acc (Test Acc): 99.70 (54.20)\n",
      "Generation # 240. Train Loss: 0.00. Train Acc (Test Acc): 100.00 (55.80)\n",
      "Generation # 245. Train Loss: 0.00. Train Acc (Test Acc): 99.80 (55.80)\n",
      "Generation # 250. Train Loss: 0.01. Train Acc (Test Acc): 99.70 (55.80)\n",
      "Generation # 255. Train Loss: 0.00. Train Acc (Test Acc): 100.00 (55.80)\n",
      "Generation # 260. Train Loss: 0.03. Train Acc (Test Acc): 99.70 (55.80)\n",
      "Generation # 265. Train Loss: 0.00. Train Acc (Test Acc): 100.00 (55.80)\n",
      "Generation # 270. Train Loss: 0.00. Train Acc (Test Acc): 99.90 (54.20)\n",
      "Generation # 275. Train Loss: 0.01. Train Acc (Test Acc): 99.60 (56.60)\n",
      "Generation # 280. Train Loss: 0.00. Train Acc (Test Acc): 99.90 (56.60)\n",
      "Generation # 285. Train Loss: 0.00. Train Acc (Test Acc): 99.90 (56.60)\n",
      "Generation # 290. Train Loss: 0.00. Train Acc (Test Acc): 100.00 (56.60)\n",
      "Generation # 295. Train Loss: 0.03. Train Acc (Test Acc): 99.70 (55.80)\n",
      "Generation # 300. Train Loss: 0.00. Train Acc (Test Acc): 99.80 (55.80)\n",
      "Generation # 305. Train Loss: 0.00. Train Acc (Test Acc): 99.90 (55.80)\n",
      "Generation # 310. Train Loss: 0.00. Train Acc (Test Acc): 99.70 (56.80)\n",
      "Generation # 315. Train Loss: 0.00. Train Acc (Test Acc): 99.80 (56.80)\n",
      "Generation # 320. Train Loss: 0.00. Train Acc (Test Acc): 99.80 (55.80)\n",
      "Generation # 325. Train Loss: 0.00. Train Acc (Test Acc): 99.80 (55.80)\n",
      "Generation # 330. Train Loss: 0.01. Train Acc (Test Acc): 99.60 (56.80)\n",
      "Generation # 335. Train Loss: 0.00. Train Acc (Test Acc): 99.70 (56.60)\n",
      "Generation # 340. Train Loss: 0.00. Train Acc (Test Acc): 99.90 (55.80)\n",
      "Generation # 345. Train Loss: 0.01. Train Acc (Test Acc): 99.80 (55.80)\n",
      "Generation # 350. Train Loss: 0.01. Train Acc (Test Acc): 99.80 (57.20)\n",
      "Generation # 355. Train Loss: 0.00. Train Acc (Test Acc): 99.90 (55.80)\n",
      "Generation # 360. Train Loss: 0.00. Train Acc (Test Acc): 100.00 (54.20)\n",
      "Generation # 365. Train Loss: 0.00. Train Acc (Test Acc): 100.00 (55.80)\n",
      "Generation # 370. Train Loss: 0.00. Train Acc (Test Acc): 100.00 (55.80)\n",
      "Generation # 375. Train Loss: 0.00. Train Acc (Test Acc): 100.00 (56.60)\n",
      "Generation # 380. Train Loss: 0.00. Train Acc (Test Acc): 99.90 (56.60)\n",
      "Generation # 385. Train Loss: 0.00. Train Acc (Test Acc): 100.00 (55.80)\n",
      "Generation # 390. Train Loss: 0.00. Train Acc (Test Acc): 99.90 (56.60)\n",
      "Generation # 395. Train Loss: 0.00. Train Acc (Test Acc): 100.00 (56.60)\n",
      "Generation # 400. Train Loss: 0.00. Train Acc (Test Acc): 99.90 (55.80)\n",
      "Generation # 405. Train Loss: 0.02. Train Acc (Test Acc): 99.70 (56.60)\n",
      "Generation # 410. Train Loss: 0.00. Train Acc (Test Acc): 100.00 (56.60)\n",
      "Generation # 415. Train Loss: 0.00. Train Acc (Test Acc): 99.70 (56.60)\n",
      "Generation # 420. Train Loss: 0.00. Train Acc (Test Acc): 100.00 (54.20)\n",
      "Generation # 425. Train Loss: 0.00. Train Acc (Test Acc): 100.00 (55.80)\n",
      "Generation # 430. Train Loss: 0.00. Train Acc (Test Acc): 99.90 (56.80)\n",
      "Generation # 435. Train Loss: 0.01. Train Acc (Test Acc): 99.90 (56.80)\n",
      "Generation # 440. Train Loss: 0.00. Train Acc (Test Acc): 99.90 (57.20)\n",
      "Generation # 445. Train Loss: 0.00. Train Acc (Test Acc): 99.90 (55.80)\n",
      "Generation # 450. Train Loss: 0.01. Train Acc (Test Acc): 99.70 (55.80)\n",
      "Generation # 455. Train Loss: 0.00. Train Acc (Test Acc): 99.70 (55.80)\n",
      "Generation # 460. Train Loss: 0.00. Train Acc (Test Acc): 100.00 (55.80)\n",
      "Generation # 465. Train Loss: 0.02. Train Acc (Test Acc): 99.80 (55.80)\n",
      "Generation # 470. Train Loss: 0.00. Train Acc (Test Acc): 99.90 (55.80)\n",
      "Generation # 475. Train Loss: 0.01. Train Acc (Test Acc): 99.80 (56.40)\n",
      "Generation # 480. Train Loss: 0.00. Train Acc (Test Acc): 99.90 (57.20)\n",
      "Generation # 485. Train Loss: 0.00. Train Acc (Test Acc): 99.90 (57.20)\n",
      "Generation # 490. Train Loss: 0.00. Train Acc (Test Acc): 99.90 (56.80)\n",
      "Generation # 495. Train Loss: 0.00. Train Acc (Test Acc): 99.90 (57.20)\n",
      "Generation # 500. Train Loss: 0.02. Train Acc (Test Acc): 99.60 (56.80)\n"
     ]
    },
    {
     "data": {
      "text/plain": [
       "56.799999999999997"
      ]
     },
     "metadata": {},
     "output_type": "display_data"
    }
   ],
   "source": [
    "test_xdata2 = PCPNewTestData3\n",
    "test_labels2 = TestLable3\n",
    "\n",
    "# Start training loop\n",
    "train_loss2 = []\n",
    "train_acc2 = []\n",
    "test_acc2 = []\n",
    "for i in range(generations):\n",
    "    rand_index = np.random.choice(len(train_xdata), size=batch_size)\n",
    "    rand_x = train_xdata[rand_index]\n",
    "    rand_x = np.expand_dims(rand_x, 3)\n",
    "    rand_y = train_labels[rand_index]\n",
    "    train_dict = {x_input: rand_x, y_target: rand_y}\n",
    "    \n",
    "    sess.run(train_step, feed_dict=train_dict)\n",
    "    temp_train_loss, temp_train_preds = sess.run([loss, prediction], feed_dict=train_dict)\n",
    "    temp_train_acc = get_accuracy(temp_train_preds, rand_y)\n",
    "    \n",
    "    if (i+1) % eval_every == 0:\n",
    "        eval_index = np.random.choice(len(test_xdata2), size=evaluation_size)\n",
    "        #display(len(test_xdata),eval_index,len(test_labels))\n",
    "        eval_x = test_xdata2[eval_index]\n",
    "        eval_x = np.expand_dims(eval_x, 3)\n",
    "        eval_y = test_labels2[eval_index]\n",
    "        test_dict2 = {eval_input: eval_x, eval_target: eval_y}\n",
    "        test_preds2 = sess.run(test_prediction, feed_dict=test_dict)\n",
    "        temp_test_acc = get_accuracy(test_preds2, eval_y)\n",
    "        \n",
    "        # Record and print results\n",
    "        train_loss2.append(temp_train_loss)\n",
    "        train_acc2.append(temp_train_acc)\n",
    "        test_acc2.append(temp_test_acc)\n",
    "        acc_and_loss = [(i+1), temp_train_loss, temp_train_acc, temp_test_acc]\n",
    "        acc_and_loss = [np.round(x,2) for x in acc_and_loss]\n",
    "        print('Generation # {}. Train Loss: {:.2f}. Train Acc (Test Acc): {:.2f} ({:.2f})'.format(*acc_and_loss))\n",
    "        \n",
    "display(np.mean(temp_test_acc))"
   ]
  },
  {
   "cell_type": "code",
   "execution_count": null,
   "metadata": {},
   "outputs": [],
   "source": []
  }
 ],
 "metadata": {
  "kernelspec": {
   "display_name": "Python 3",
   "language": "python",
   "name": "python3"
  },
  "language_info": {
   "codemirror_mode": {
    "name": "ipython",
    "version": 3
   },
   "file_extension": ".py",
   "mimetype": "text/x-python",
   "name": "python",
   "nbconvert_exporter": "python",
   "pygments_lexer": "ipython3",
   "version": "3.6.10"
  }
 },
 "nbformat": 4,
 "nbformat_minor": 2
}
